{
 "cells": [
  {
   "cell_type": "markdown",
   "id": "49a57b82",
   "metadata": {},
   "source": [
    "# Customizing javascript or css resources"
   ]
  },
  {
   "cell_type": "code",
   "execution_count": 1,
   "id": "9dfc512b",
   "metadata": {
    "execution": {
     "iopub.execute_input": "2024-05-30T00:34:37.344058Z",
     "iopub.status.busy": "2024-05-30T00:34:37.343898Z",
     "iopub.status.idle": "2024-05-30T00:34:37.755390Z",
     "shell.execute_reply": "2024-05-30T00:34:37.754874Z"
    },
    "nbsphinx": "hidden"
   },
   "outputs": [],
   "source": [
    "import folium"
   ]
  },
  {
   "cell_type": "markdown",
   "id": "44b45984",
   "metadata": {},
   "source": [
    "## Adding javascript or css resources\n",
    "Many leaflet resources require loading of custom css or javascript modules. This is handled in the `folium.elements.JSCSSMixin` class. Anything that inherits from this class can load custom resources.\n",
    "\n",
    "You can use the methods `add_js_link` and `add_css_link` to ensure these resources are loaded into the map.\n",
    "\n",
    "### Example 1: overriding the locations from where resources are loaded\n",
    "One use case is to override the locations from where resources are loaded. This can be useful if you have to use a private CDN for your javascript and css resources, or if you want to use a different version."
   ]
  },
  {
   "cell_type": "code",
   "execution_count": 2,
   "id": "f083b0d8",
   "metadata": {
    "execution": {
     "iopub.execute_input": "2024-05-30T00:34:37.757808Z",
     "iopub.status.busy": "2024-05-30T00:34:37.757368Z",
     "iopub.status.idle": "2024-05-30T00:34:37.763410Z",
     "shell.execute_reply": "2024-05-30T00:34:37.762943Z"
    }
   },
   "outputs": [],
   "source": [
    "m = folium.Map()\n",
    "m.add_css_link(\n",
    "    \"bootstrap_css\",\n",
    "    \"https://example.com/bootstrap/400.5.0/css/bootstrap.min.css\"\n",
    ")"
   ]
  },
  {
   "cell_type": "markdown",
   "id": "036938fc",
   "metadata": {},
   "source": [
    "### Example 2: loading additional javascript\n",
    "A second use case is to load library modules that you can then use inside JsCode blocks. Continuing from the Realtime ISS example, see :doc:Realtime <user_guide/plugins/realtime>, we can modify this so that it uses the dayjs library to format the current date."
   ]
  },
  {
   "cell_type": "code",
   "execution_count": 3,
   "id": "b08f2e3f",
   "metadata": {
    "execution": {
     "iopub.execute_input": "2024-05-30T00:34:37.765400Z",
     "iopub.status.busy": "2024-05-30T00:34:37.765028Z",
     "iopub.status.idle": "2024-05-30T00:34:37.869760Z",
     "shell.execute_reply": "2024-05-30T00:34:37.869316Z"
    }
   },
   "outputs": [
    {
     "data": {
      "text/html": [
       "<div style=\"width:100%;\"><div style=\"position:relative;width:100%;height:0;padding-bottom:60%;\"><span style=\"color:#565656\">Make this Notebook Trusted to load map: File -> Trust Notebook</span><iframe srcdoc=\"&lt;!DOCTYPE html&gt;\n",
       "&lt;html&gt;\n",
       "&lt;head&gt;\n",
       "    \n",
       "    &lt;meta http-equiv=&quot;content-type&quot; content=&quot;text/html; charset=UTF-8&quot; /&gt;\n",
       "    \n",
       "        &lt;script&gt;\n",
       "            L_NO_TOUCH = false;\n",
       "            L_DISABLE_3D = false;\n",
       "        &lt;/script&gt;\n",
       "    \n",
       "    &lt;style&gt;html, body {width: 100%;height: 100%;margin: 0;padding: 0;}&lt;/style&gt;\n",
       "    &lt;style&gt;#map {position:absolute;top:0;bottom:0;right:0;left:0;}&lt;/style&gt;\n",
       "    &lt;script src=&quot;https://cdn.jsdelivr.net/npm/leaflet@1.9.3/dist/leaflet.js&quot;&gt;&lt;/script&gt;\n",
       "    &lt;script src=&quot;https://code.jquery.com/jquery-3.7.1.min.js&quot;&gt;&lt;/script&gt;\n",
       "    &lt;script src=&quot;https://cdn.jsdelivr.net/npm/bootstrap@5.2.2/dist/js/bootstrap.bundle.min.js&quot;&gt;&lt;/script&gt;\n",
       "    &lt;script src=&quot;https://cdnjs.cloudflare.com/ajax/libs/Leaflet.awesome-markers/2.0.2/leaflet.awesome-markers.js&quot;&gt;&lt;/script&gt;\n",
       "    &lt;link rel=&quot;stylesheet&quot; href=&quot;https://cdn.jsdelivr.net/npm/leaflet@1.9.3/dist/leaflet.css&quot;/&gt;\n",
       "    &lt;link rel=&quot;stylesheet&quot; href=&quot;https://example.com/bootstrap/400.5.0/css/bootstrap.min.css&quot;/&gt;\n",
       "    &lt;link rel=&quot;stylesheet&quot; href=&quot;https://netdna.bootstrapcdn.com/bootstrap/3.0.0/css/bootstrap-glyphicons.css&quot;/&gt;\n",
       "    &lt;link rel=&quot;stylesheet&quot; href=&quot;https://cdn.jsdelivr.net/npm/@fortawesome/fontawesome-free@6.2.0/css/all.min.css&quot;/&gt;\n",
       "    &lt;link rel=&quot;stylesheet&quot; href=&quot;https://cdnjs.cloudflare.com/ajax/libs/Leaflet.awesome-markers/2.0.2/leaflet.awesome-markers.css&quot;/&gt;\n",
       "    &lt;link rel=&quot;stylesheet&quot; href=&quot;https://cdn.jsdelivr.net/gh/python-visualization/folium/folium/templates/leaflet.awesome.rotate.min.css&quot;/&gt;\n",
       "    \n",
       "            &lt;meta name=&quot;viewport&quot; content=&quot;width=device-width,\n",
       "                initial-scale=1.0, maximum-scale=1.0, user-scalable=no&quot; /&gt;\n",
       "            &lt;style&gt;\n",
       "                #map_bf0a52905a5d447fa1332a64548eca6b {\n",
       "                    position: relative;\n",
       "                    width: 100.0%;\n",
       "                    height: 100.0%;\n",
       "                    left: 0.0%;\n",
       "                    top: 0.0%;\n",
       "                }\n",
       "                .leaflet-container { font-size: 1rem; }\n",
       "            &lt;/style&gt;\n",
       "        \n",
       "    &lt;script src=&quot;https://cdnjs.cloudflare.com/ajax/libs/leaflet-realtime/2.2.0/leaflet-realtime.js&quot;&gt;&lt;/script&gt;\n",
       "    &lt;script src=&quot;https://cdn.jsdelivr.net/npm/dayjs@1.11.10/dayjs.min.js&quot;&gt;&lt;/script&gt;\n",
       "&lt;/head&gt;\n",
       "&lt;body&gt;\n",
       "    \n",
       "    \n",
       "            &lt;div class=&quot;folium-map&quot; id=&quot;map_bf0a52905a5d447fa1332a64548eca6b&quot; &gt;&lt;/div&gt;\n",
       "        \n",
       "&lt;/body&gt;\n",
       "&lt;script&gt;\n",
       "    \n",
       "    \n",
       "            var map_bf0a52905a5d447fa1332a64548eca6b = L.map(\n",
       "                &quot;map_bf0a52905a5d447fa1332a64548eca6b&quot;,\n",
       "                {\n",
       "                    center: [0.0, 0.0],\n",
       "                    crs: L.CRS.EPSG3857,\n",
       "                    zoom: 1,\n",
       "                    zoomControl: true,\n",
       "                    preferCanvas: false,\n",
       "                }\n",
       "            );\n",
       "\n",
       "            \n",
       "\n",
       "        \n",
       "    \n",
       "            var tile_layer_a491c30553e9148476477432eff86562 = L.tileLayer(\n",
       "                &quot;https://tile.openstreetmap.org/{z}/{x}/{y}.png&quot;,\n",
       "                {&quot;attribution&quot;: &quot;\\u0026copy; \\u003ca href=\\&quot;https://www.openstreetmap.org/copyright\\&quot;\\u003eOpenStreetMap\\u003c/a\\u003e contributors&quot;, &quot;detectRetina&quot;: false, &quot;maxNativeZoom&quot;: 19, &quot;maxZoom&quot;: 19, &quot;minZoom&quot;: 0, &quot;noWrap&quot;: false, &quot;opacity&quot;: 1, &quot;subdomains&quot;: &quot;abc&quot;, &quot;tms&quot;: false}\n",
       "            );\n",
       "        \n",
       "    \n",
       "            tile_layer_a491c30553e9148476477432eff86562.addTo(map_bf0a52905a5d447fa1332a64548eca6b);\n",
       "        \n",
       "    \n",
       "            var realtime_0372842f8b2b89d166fb2e4b45a46441_options = {&quot;interval&quot;: 1000, &quot;removeMissing&quot;: false, &quot;start&quot;: true};\n",
       "            \n",
       "            realtime_0372842f8b2b89d166fb2e4b45a46441_options[&quot;onEachFeature&quot;] = \n",
       "function(f, l) {\n",
       "    l.bindPopup(function() {\n",
       "        return &#x27;&lt;h5&gt;&#x27; + dayjs.unix(f.properties.timestamp).format() + &#x27;&lt;/h5&gt;&#x27;;\n",
       "    });\n",
       "}\n",
       ";\n",
       "            \n",
       "\n",
       "            var realtime_0372842f8b2b89d166fb2e4b45a46441 = L.realtime(\n",
       "            \n",
       "function(responseHandler, errorHandler) {\n",
       "    var url = &#x27;https://api.wheretheiss.at/v1/satellites/25544&#x27;;\n",
       "\n",
       "    fetch(url)\n",
       "    .then((response) =&gt; {\n",
       "        return response.json().then((data) =&gt; {\n",
       "            var { id, timestamp, longitude, latitude } = data;\n",
       "\n",
       "            return {\n",
       "                &#x27;type&#x27;: &#x27;FeatureCollection&#x27;,\n",
       "                &#x27;features&#x27;: [{\n",
       "                    &#x27;type&#x27;: &#x27;Feature&#x27;,\n",
       "                    &#x27;geometry&#x27;: {\n",
       "                        &#x27;type&#x27;: &#x27;Point&#x27;,\n",
       "                        &#x27;coordinates&#x27;: [longitude, latitude]\n",
       "                    },\n",
       "                    &#x27;properties&#x27;: {\n",
       "                        &#x27;id&#x27;: id,\n",
       "                        &#x27;timestamp&#x27;: timestamp\n",
       "                    }\n",
       "                }]\n",
       "            };\n",
       "        })\n",
       "    })\n",
       "    .then(responseHandler)\n",
       "    .catch(errorHandler);\n",
       "}\n",
       ",\n",
       "            realtime_0372842f8b2b89d166fb2e4b45a46441_options\n",
       "            );\n",
       "            map_bf0a52905a5d447fa1332a64548eca6b.addLayer(\n",
       "                realtime_0372842f8b2b89d166fb2e4b45a46441._container);\n",
       "        \n",
       "&lt;/script&gt;\n",
       "&lt;/html&gt;\" style=\"position:absolute;width:100%;height:100%;left:0;top:0;border:none !important;\" allowfullscreen webkitallowfullscreen mozallowfullscreen></iframe></div></div>"
      ],
      "text/plain": [
       "<folium.folium.Map at 0x7fe2ec8eb4a0>"
      ]
     },
     "execution_count": 3,
     "metadata": {},
     "output_type": "execute_result"
    }
   ],
   "source": [
    "from folium.utilities import JsCode\n",
    "from folium.plugins import Realtime\n",
    "\n",
    "m = folium.Map()\n",
    "on_each_feature = JsCode(\"\"\"\n",
    "function(f, l) {\n",
    "    l.bindPopup(function() {\n",
    "        return '<h5>' + dayjs.unix(f.properties.timestamp).format() + '</h5>';\n",
    "    });\n",
    "}\n",
    "\"\"\")\n",
    "\n",
    "source = JsCode(\"\"\"\n",
    "function(responseHandler, errorHandler) {\n",
    "    var url = 'https://api.wheretheiss.at/v1/satellites/25544';\n",
    "\n",
    "    fetch(url)\n",
    "    .then((response) => {\n",
    "        return response.json().then((data) => {\n",
    "            var { id, timestamp, longitude, latitude } = data;\n",
    "\n",
    "            return {\n",
    "                'type': 'FeatureCollection',\n",
    "                'features': [{\n",
    "                    'type': 'Feature',\n",
    "                    'geometry': {\n",
    "                        'type': 'Point',\n",
    "                        'coordinates': [longitude, latitude]\n",
    "                    },\n",
    "                    'properties': {\n",
    "                        'id': id,\n",
    "                        'timestamp': timestamp\n",
    "                    }\n",
    "                }]\n",
    "            };\n",
    "        })\n",
    "    })\n",
    "    .then(responseHandler)\n",
    "    .catch(errorHandler);\n",
    "}\n",
    "\"\"\")\n",
    "\n",
    "rt = Realtime(source,\n",
    "              on_each_feature=on_each_feature,\n",
    "              interval=1000)\n",
    "rt.add_js_link(\"dayjs\", \"https://cdn.jsdelivr.net/npm/dayjs@1.11.10/dayjs.min.js\")\n",
    "rt.add_to(m)\n",
    "m"
   ]
  }
 ],
 "metadata": {
  "jupytext": {
   "text_representation": {
    "extension": ".mystnb",
    "format_name": "myst"
   }
  },
  "language_info": {
   "codemirror_mode": {
    "name": "ipython",
    "version": 3
   },
   "file_extension": ".py",
   "mimetype": "text/x-python",
   "name": "python",
   "nbconvert_exporter": "python",
   "pygments_lexer": "ipython3",
   "version": "3.12.3"
  }
 },
 "nbformat": 4,
 "nbformat_minor": 5
}
