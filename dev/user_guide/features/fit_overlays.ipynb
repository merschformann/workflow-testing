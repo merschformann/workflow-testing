{
 "cells": [
  {
   "cell_type": "code",
   "execution_count": 1,
   "id": "f924935a",
   "metadata": {
    "execution": {
     "iopub.execute_input": "2024-06-03T20:09:37.450435Z",
     "iopub.status.busy": "2024-06-03T20:09:37.450036Z",
     "iopub.status.idle": "2024-06-03T20:09:37.857964Z",
     "shell.execute_reply": "2024-06-03T20:09:37.857465Z"
    },
    "nbsphinx": "hidden"
   },
   "outputs": [],
   "source": [
    "import folium"
   ]
  },
  {
   "cell_type": "markdown",
   "id": "dcc9c6aa",
   "metadata": {},
   "source": [
    "## FitOverlays\n",
    "\n",
    "When you add this class to your map, the map will pan and zoom to fit the enabled overlays.\n",
    "\n",
    "By default, the map won't necessarily show all elements that were added. You may have to pan or zoom out to find them.\n",
    "\n",
    "If we add the `FitOverlays` class, it will automatically pan and zoom to show the enabled overlays.\n",
    "In this example we show only the first marker by default. If you enable the second marker, the view changes to include it."
   ]
  },
  {
   "cell_type": "code",
   "execution_count": 2,
   "id": "a5aa26e6",
   "metadata": {
    "execution": {
     "iopub.execute_input": "2024-06-03T20:09:37.860173Z",
     "iopub.status.busy": "2024-06-03T20:09:37.859925Z",
     "iopub.status.idle": "2024-06-03T20:09:37.874456Z",
     "shell.execute_reply": "2024-06-03T20:09:37.874069Z"
    }
   },
   "outputs": [
    {
     "data": {
      "text/html": [
       "<div style=\"width:100%;\"><div style=\"position:relative;width:100%;height:0;padding-bottom:60%;\"><span style=\"color:#565656\">Make this Notebook Trusted to load map: File -> Trust Notebook</span><iframe srcdoc=\"&lt;!DOCTYPE html&gt;\n",
       "&lt;html&gt;\n",
       "&lt;head&gt;\n",
       "    \n",
       "    &lt;meta http-equiv=&quot;content-type&quot; content=&quot;text/html; charset=UTF-8&quot; /&gt;\n",
       "    \n",
       "        &lt;script&gt;\n",
       "            L_NO_TOUCH = false;\n",
       "            L_DISABLE_3D = false;\n",
       "        &lt;/script&gt;\n",
       "    \n",
       "    &lt;style&gt;html, body {width: 100%;height: 100%;margin: 0;padding: 0;}&lt;/style&gt;\n",
       "    &lt;style&gt;#map {position:absolute;top:0;bottom:0;right:0;left:0;}&lt;/style&gt;\n",
       "    &lt;script src=&quot;https://cdn.jsdelivr.net/npm/leaflet@1.9.3/dist/leaflet.js&quot;&gt;&lt;/script&gt;\n",
       "    &lt;script src=&quot;https://code.jquery.com/jquery-3.7.1.min.js&quot;&gt;&lt;/script&gt;\n",
       "    &lt;script src=&quot;https://cdn.jsdelivr.net/npm/bootstrap@5.2.2/dist/js/bootstrap.bundle.min.js&quot;&gt;&lt;/script&gt;\n",
       "    &lt;script src=&quot;https://cdnjs.cloudflare.com/ajax/libs/Leaflet.awesome-markers/2.0.2/leaflet.awesome-markers.js&quot;&gt;&lt;/script&gt;\n",
       "    &lt;link rel=&quot;stylesheet&quot; href=&quot;https://cdn.jsdelivr.net/npm/leaflet@1.9.3/dist/leaflet.css&quot;/&gt;\n",
       "    &lt;link rel=&quot;stylesheet&quot; href=&quot;https://cdn.jsdelivr.net/npm/bootstrap@5.2.2/dist/css/bootstrap.min.css&quot;/&gt;\n",
       "    &lt;link rel=&quot;stylesheet&quot; href=&quot;https://netdna.bootstrapcdn.com/bootstrap/3.0.0/css/bootstrap-glyphicons.css&quot;/&gt;\n",
       "    &lt;link rel=&quot;stylesheet&quot; href=&quot;https://cdn.jsdelivr.net/npm/@fortawesome/fontawesome-free@6.2.0/css/all.min.css&quot;/&gt;\n",
       "    &lt;link rel=&quot;stylesheet&quot; href=&quot;https://cdnjs.cloudflare.com/ajax/libs/Leaflet.awesome-markers/2.0.2/leaflet.awesome-markers.css&quot;/&gt;\n",
       "    &lt;link rel=&quot;stylesheet&quot; href=&quot;https://cdn.jsdelivr.net/gh/python-visualization/folium/folium/templates/leaflet.awesome.rotate.min.css&quot;/&gt;\n",
       "    \n",
       "            &lt;meta name=&quot;viewport&quot; content=&quot;width=device-width,\n",
       "                initial-scale=1.0, maximum-scale=1.0, user-scalable=no&quot; /&gt;\n",
       "            &lt;style&gt;\n",
       "                #map_753195f84e9d1ba397caa8e6bf237146 {\n",
       "                    position: relative;\n",
       "                    width: 100.0%;\n",
       "                    height: 100.0%;\n",
       "                    left: 0.0%;\n",
       "                    top: 0.0%;\n",
       "                }\n",
       "                .leaflet-container { font-size: 1rem; }\n",
       "            &lt;/style&gt;\n",
       "        \n",
       "&lt;/head&gt;\n",
       "&lt;body&gt;\n",
       "    \n",
       "    \n",
       "            &lt;div class=&quot;folium-map&quot; id=&quot;map_753195f84e9d1ba397caa8e6bf237146&quot; &gt;&lt;/div&gt;\n",
       "        \n",
       "&lt;/body&gt;\n",
       "&lt;script&gt;\n",
       "    \n",
       "    \n",
       "            var map_753195f84e9d1ba397caa8e6bf237146 = L.map(\n",
       "                &quot;map_753195f84e9d1ba397caa8e6bf237146&quot;,\n",
       "                {\n",
       "                    center: [52.0, 0.0],\n",
       "                    crs: L.CRS.EPSG3857,\n",
       "                    zoom: 8,\n",
       "                    zoomControl: true,\n",
       "                    preferCanvas: false,\n",
       "                }\n",
       "            );\n",
       "\n",
       "            \n",
       "\n",
       "        \n",
       "    \n",
       "            var tile_layer_efc720cdccb57f7e0e03557b4cea6f62 = L.tileLayer(\n",
       "                &quot;https://{s}.basemaps.cartocdn.com/light_all/{z}/{x}/{y}{r}.png&quot;,\n",
       "                {&quot;attribution&quot;: &quot;\\u0026copy; \\u003ca href=\\&quot;https://www.openstreetmap.org/copyright\\&quot;\\u003eOpenStreetMap\\u003c/a\\u003e contributors \\u0026copy; \\u003ca href=\\&quot;https://carto.com/attributions\\&quot;\\u003eCARTO\\u003c/a\\u003e&quot;, &quot;detectRetina&quot;: false, &quot;maxNativeZoom&quot;: 20, &quot;maxZoom&quot;: 20, &quot;minZoom&quot;: 0, &quot;noWrap&quot;: false, &quot;opacity&quot;: 1, &quot;subdomains&quot;: &quot;abcd&quot;, &quot;tms&quot;: false}\n",
       "            );\n",
       "        \n",
       "    \n",
       "            tile_layer_efc720cdccb57f7e0e03557b4cea6f62.addTo(map_753195f84e9d1ba397caa8e6bf237146);\n",
       "        \n",
       "    \n",
       "            var feature_group_d9486f4622ef29dc4ecadec849b27218 = L.featureGroup(\n",
       "                {}\n",
       "            );\n",
       "        \n",
       "    \n",
       "            var marker_24139f536b4cdc01226a18d2e6f13e7d = L.marker(\n",
       "                [52.0, 5.0],\n",
       "                {}\n",
       "            ).addTo(feature_group_d9486f4622ef29dc4ecadec849b27218);\n",
       "        \n",
       "    \n",
       "            feature_group_d9486f4622ef29dc4ecadec849b27218.addTo(map_753195f84e9d1ba397caa8e6bf237146);\n",
       "        \n",
       "    \n",
       "            var feature_group_cc30ea4d3efbc694840f225769057139 = L.featureGroup(\n",
       "                {}\n",
       "            );\n",
       "        \n",
       "    \n",
       "            var marker_c06e91293a697634caa7c74f6a2a867e = L.marker(\n",
       "                [52.0, 5.1],\n",
       "                {}\n",
       "            ).addTo(feature_group_cc30ea4d3efbc694840f225769057139);\n",
       "        \n",
       "    \n",
       "        function customFlyToBounds() {\n",
       "            let bounds = L.latLngBounds([]);\n",
       "            map_753195f84e9d1ba397caa8e6bf237146.eachLayer(function(layer) {\n",
       "                if (typeof layer.getBounds === &#x27;function&#x27;) {\n",
       "                    bounds.extend(layer.getBounds());\n",
       "                }\n",
       "            });\n",
       "            if (bounds.isValid()) {\n",
       "                map_753195f84e9d1ba397caa8e6bf237146.fitBounds(bounds, {&quot;padding&quot;: [0, 0]});\n",
       "            }\n",
       "        }\n",
       "        map_753195f84e9d1ba397caa8e6bf237146.on(&#x27;overlayadd&#x27;, customFlyToBounds);\n",
       "        customFlyToBounds();\n",
       "        \n",
       "    \n",
       "            var layer_control_507a0dd8c35b462eef21b25147b6c0a5_layers = {\n",
       "                base_layers : {\n",
       "                    &quot;cartodbpositron&quot; : tile_layer_efc720cdccb57f7e0e03557b4cea6f62,\n",
       "                },\n",
       "                overlays :  {\n",
       "                    &quot;macro_element_d9486f4622ef29dc4ecadec849b27218&quot; : feature_group_d9486f4622ef29dc4ecadec849b27218,\n",
       "                    &quot;macro_element_cc30ea4d3efbc694840f225769057139&quot; : feature_group_cc30ea4d3efbc694840f225769057139,\n",
       "                },\n",
       "            };\n",
       "            let layer_control_507a0dd8c35b462eef21b25147b6c0a5 = L.control.layers(\n",
       "                layer_control_507a0dd8c35b462eef21b25147b6c0a5_layers.base_layers,\n",
       "                layer_control_507a0dd8c35b462eef21b25147b6c0a5_layers.overlays,\n",
       "                {&quot;autoZIndex&quot;: true, &quot;collapsed&quot;: true, &quot;position&quot;: &quot;topright&quot;}\n",
       "            ).addTo(map_753195f84e9d1ba397caa8e6bf237146);\n",
       "\n",
       "        \n",
       "&lt;/script&gt;\n",
       "&lt;/html&gt;\" style=\"position:absolute;width:100%;height:100%;left:0;top:0;border:none !important;\" allowfullscreen webkitallowfullscreen mozallowfullscreen></iframe></div></div>"
      ],
      "text/plain": [
       "<folium.folium.Map at 0x7f943c121c10>"
      ]
     },
     "execution_count": 2,
     "metadata": {},
     "output_type": "execute_result"
    }
   ],
   "source": [
    "m = folium.Map((52, 0), tiles='cartodbpositron', zoom_start=8)\n",
    "\n",
    "fg1 = folium.FeatureGroup().add_to(m)\n",
    "folium.Marker((52, 5)).add_to(fg1)\n",
    "\n",
    "fg2 = folium.FeatureGroup(show=False).add_to(m)\n",
    "folium.Marker((52, 5.1)).add_to(fg2)\n",
    "\n",
    "folium.FitOverlays().add_to(m)\n",
    "\n",
    "folium.LayerControl().add_to(m)\n",
    "\n",
    "m"
   ]
  },
  {
   "cell_type": "markdown",
   "id": "15027b77",
   "metadata": {},
   "source": [
    "`FitOverlays` has a couple options:\n",
    "\n",
    "- `padding` adds pixels around the bounds.\n",
    "- `max_zoom` can be used to prevent zooming in too far.\n",
    "- `fly` enables a smoother, longer animation, so you can see how the view changes.\n",
    "- `fit_on_map_load` can be used to disable the fitting that happens when the map loads.\n",
    "\n",
    "Note that `padding` and `max_zoom` can achieve the same effect."
   ]
  }
 ],
 "metadata": {
  "jupytext": {
   "text_representation": {
    "extension": ".mystnb",
    "format_name": "myst"
   }
  },
  "language_info": {
   "codemirror_mode": {
    "name": "ipython",
    "version": 3
   },
   "file_extension": ".py",
   "mimetype": "text/x-python",
   "name": "python",
   "nbconvert_exporter": "python",
   "pygments_lexer": "ipython3",
   "version": "3.12.3"
  }
 },
 "nbformat": 4,
 "nbformat_minor": 5
}
