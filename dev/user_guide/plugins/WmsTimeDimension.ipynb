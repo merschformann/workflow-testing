{
 "cells": [
  {
   "cell_type": "markdown",
   "id": "cfff7708",
   "metadata": {},
   "source": [
    "# TimestampedWmsTileLayers\n",
    "\n",
    "Add a time dimension to a WMS tile layer.\n",
    "\n",
    "### Exploring the WMS with OWSLib"
   ]
  },
  {
   "cell_type": "code",
   "execution_count": 1,
   "id": "10f1b550",
   "metadata": {
    "execution": {
     "iopub.execute_input": "2024-05-29T11:40:12.165123Z",
     "iopub.status.busy": "2024-05-29T11:40:12.164800Z",
     "iopub.status.idle": "2024-05-29T11:40:13.883148Z",
     "shell.execute_reply": "2024-05-29T11:40:13.882626Z"
    }
   },
   "outputs": [
    {
     "name": "stdout",
     "output_type": "stream",
     "text": [
      "CRW_DHW\n",
      "CRW_DHW_mask\n",
      "CRW_HOTSPOT\n",
      "CRW_HOTSPOT_mask\n",
      "CRW_SSTANOMALY\n",
      "CRW_SSTANOMALY_mask\n",
      "CRW_BAA\n",
      "CRW_BAA_mask\n",
      "CRW_BAA_7D_MAX\n",
      "CRW_BAA_7D_MAX_mask\n",
      "CRW_SEAICE\n",
      "CRW_SST\n"
     ]
    }
   ],
   "source": [
    "from owslib.wms import WebMapService\n",
    "\n",
    "\n",
    "url = \"https://pae-paha.pacioos.hawaii.edu/thredds/wms/dhw_5km?service=WMS\"\n",
    "\n",
    "web_map_services = WebMapService(url)\n",
    "\n",
    "print(\"\\n\".join(web_map_services.contents.keys()))"
   ]
  },
  {
   "cell_type": "markdown",
   "id": "34408e63",
   "metadata": {},
   "source": [
    "### Layer metadata"
   ]
  },
  {
   "cell_type": "code",
   "execution_count": 2,
   "id": "42bbaff4",
   "metadata": {
    "execution": {
     "iopub.execute_input": "2024-05-29T11:40:13.885164Z",
     "iopub.status.busy": "2024-05-29T11:40:13.884991Z",
     "iopub.status.idle": "2024-05-29T11:40:13.888208Z",
     "shell.execute_reply": "2024-05-29T11:40:13.887846Z"
    }
   },
   "outputs": [],
   "source": [
    "layer = \"CRW_SST\"\n",
    "wms = web_map_services.contents[layer]\n",
    "\n",
    "name = wms.title\n",
    "\n",
    "lon = (wms.boundingBox[0] + wms.boundingBox[2]) / 2.0\n",
    "lat = (wms.boundingBox[1] + wms.boundingBox[3]) / 2.0\n",
    "center = lat, lon\n",
    "\n",
    "time_interval = \"{0}/{1}\".format(\n",
    "    wms.timepositions[0].strip(), wms.timepositions[-1].strip()\n",
    ")\n",
    "style = \"boxfill/sst_36\"\n",
    "\n",
    "if style not in wms.styles:\n",
    "    style = None"
   ]
  },
  {
   "cell_type": "markdown",
   "id": "fb8ee7fb",
   "metadata": {},
   "source": [
    "### Map with WmsTileLayer and TimestampedWmsTileLayers"
   ]
  },
  {
   "cell_type": "code",
   "execution_count": 3,
   "id": "6748e139",
   "metadata": {
    "execution": {
     "iopub.execute_input": "2024-05-29T11:40:13.889842Z",
     "iopub.status.busy": "2024-05-29T11:40:13.889685Z",
     "iopub.status.idle": "2024-05-29T11:40:14.353095Z",
     "shell.execute_reply": "2024-05-29T11:40:14.352569Z"
    }
   },
   "outputs": [
    {
     "data": {
      "text/html": [
       "<div style=\"width:100%;\"><div style=\"position:relative;width:100%;height:0;padding-bottom:60%;\"><span style=\"color:#565656\">Make this Notebook Trusted to load map: File -> Trust Notebook</span><iframe srcdoc=\"&lt;!DOCTYPE html&gt;\n",
       "&lt;html&gt;\n",
       "&lt;head&gt;\n",
       "    \n",
       "    &lt;meta http-equiv=&quot;content-type&quot; content=&quot;text/html; charset=UTF-8&quot; /&gt;\n",
       "    \n",
       "        &lt;script&gt;\n",
       "            L_NO_TOUCH = false;\n",
       "            L_DISABLE_3D = false;\n",
       "        &lt;/script&gt;\n",
       "    \n",
       "    &lt;style&gt;html, body {width: 100%;height: 100%;margin: 0;padding: 0;}&lt;/style&gt;\n",
       "    &lt;style&gt;#map {position:absolute;top:0;bottom:0;right:0;left:0;}&lt;/style&gt;\n",
       "    &lt;script src=&quot;https://cdn.jsdelivr.net/npm/leaflet@1.9.3/dist/leaflet.js&quot;&gt;&lt;/script&gt;\n",
       "    &lt;script src=&quot;https://code.jquery.com/jquery-3.7.1.min.js&quot;&gt;&lt;/script&gt;\n",
       "    &lt;script src=&quot;https://cdn.jsdelivr.net/npm/bootstrap@5.2.2/dist/js/bootstrap.bundle.min.js&quot;&gt;&lt;/script&gt;\n",
       "    &lt;script src=&quot;https://cdnjs.cloudflare.com/ajax/libs/Leaflet.awesome-markers/2.0.2/leaflet.awesome-markers.js&quot;&gt;&lt;/script&gt;\n",
       "    &lt;link rel=&quot;stylesheet&quot; href=&quot;https://cdn.jsdelivr.net/npm/leaflet@1.9.3/dist/leaflet.css&quot;/&gt;\n",
       "    &lt;link rel=&quot;stylesheet&quot; href=&quot;https://cdn.jsdelivr.net/npm/bootstrap@5.2.2/dist/css/bootstrap.min.css&quot;/&gt;\n",
       "    &lt;link rel=&quot;stylesheet&quot; href=&quot;https://netdna.bootstrapcdn.com/bootstrap/3.0.0/css/bootstrap-glyphicons.css&quot;/&gt;\n",
       "    &lt;link rel=&quot;stylesheet&quot; href=&quot;https://cdn.jsdelivr.net/npm/@fortawesome/fontawesome-free@6.2.0/css/all.min.css&quot;/&gt;\n",
       "    &lt;link rel=&quot;stylesheet&quot; href=&quot;https://cdnjs.cloudflare.com/ajax/libs/Leaflet.awesome-markers/2.0.2/leaflet.awesome-markers.css&quot;/&gt;\n",
       "    &lt;link rel=&quot;stylesheet&quot; href=&quot;https://cdn.jsdelivr.net/gh/python-visualization/folium/folium/templates/leaflet.awesome.rotate.min.css&quot;/&gt;\n",
       "    \n",
       "            &lt;meta name=&quot;viewport&quot; content=&quot;width=device-width,\n",
       "                initial-scale=1.0, maximum-scale=1.0, user-scalable=no&quot; /&gt;\n",
       "            &lt;style&gt;\n",
       "                #map_2b1c4d1020dad2d33d5e398cb15c8cb5 {\n",
       "                    position: relative;\n",
       "                    width: 100.0%;\n",
       "                    height: 100.0%;\n",
       "                    left: 0.0%;\n",
       "                    top: 0.0%;\n",
       "                }\n",
       "                .leaflet-container { font-size: 1rem; }\n",
       "            &lt;/style&gt;\n",
       "        \n",
       "    &lt;script src=&quot;https://cdnjs.cloudflare.com/ajax/libs/jquery/3.7.1/jquery.min.js&quot;&gt;&lt;/script&gt;\n",
       "    &lt;script src=&quot;https://cdnjs.cloudflare.com/ajax/libs/jqueryui/1.10.2/jquery-ui.min.js&quot;&gt;&lt;/script&gt;\n",
       "    &lt;script src=&quot;https://cdn.jsdelivr.net/npm/iso8601-js-period@0.2.1/iso8601.min.js&quot;&gt;&lt;/script&gt;\n",
       "    &lt;script src=&quot;https://cdn.jsdelivr.net/npm/leaflet-timedimension@1.1.1/dist/leaflet.timedimension.min.js&quot;&gt;&lt;/script&gt;\n",
       "    &lt;link rel=&quot;stylesheet&quot; href=&quot;https://cdnjs.cloudflare.com/ajax/libs/highlight.js/8.4/styles/default.min.css&quot;/&gt;\n",
       "    &lt;link rel=&quot;stylesheet&quot; href=&quot;https://cdn.jsdelivr.net/npm/leaflet-timedimension@1.1.1/dist/leaflet.timedimension.control.css&quot;/&gt;\n",
       "&lt;/head&gt;\n",
       "&lt;body&gt;\n",
       "    \n",
       "    \n",
       "            &lt;div class=&quot;folium-map&quot; id=&quot;map_2b1c4d1020dad2d33d5e398cb15c8cb5&quot; &gt;&lt;/div&gt;\n",
       "        \n",
       "&lt;/body&gt;\n",
       "&lt;script&gt;\n",
       "    \n",
       "    \n",
       "            var map_2b1c4d1020dad2d33d5e398cb15c8cb5 = L.map(\n",
       "                &quot;map_2b1c4d1020dad2d33d5e398cb15c8cb5&quot;,\n",
       "                {\n",
       "                    center: [-40.0, -50.0],\n",
       "                    crs: L.CRS.EPSG3857,\n",
       "                    zoom: 5,\n",
       "                    zoomControl: true,\n",
       "                    preferCanvas: false,\n",
       "                }\n",
       "            );\n",
       "\n",
       "            \n",
       "\n",
       "        \n",
       "    \n",
       "            var tile_layer_f0aa3b315fb2fa7fa08baa601cf938f0 = L.tileLayer(\n",
       "                &quot;https://tile.openstreetmap.org/{z}/{x}/{y}.png&quot;,\n",
       "                {&quot;attribution&quot;: &quot;\\u0026copy; \\u003ca href=\\&quot;https://www.openstreetmap.org/copyright\\&quot;\\u003eOpenStreetMap\\u003c/a\\u003e contributors&quot;, &quot;detectRetina&quot;: false, &quot;maxNativeZoom&quot;: 19, &quot;maxZoom&quot;: 19, &quot;minZoom&quot;: 0, &quot;noWrap&quot;: false, &quot;opacity&quot;: 1, &quot;subdomains&quot;: &quot;abc&quot;, &quot;tms&quot;: false}\n",
       "            );\n",
       "        \n",
       "    \n",
       "            tile_layer_f0aa3b315fb2fa7fa08baa601cf938f0.addTo(map_2b1c4d1020dad2d33d5e398cb15c8cb5);\n",
       "        \n",
       "    \n",
       "            var macro_element_4ec766fdfbd43467462395712ba5cf2d = L.tileLayer.wms(\n",
       "                &quot;https://pae-paha.pacioos.hawaii.edu/thredds/wms/dhw_5km?service=WMS&quot;,\n",
       "                {&quot;COLORSCALERANGE&quot;: &quot;1.2,28&quot;, &quot;attribution&quot;: &quot;&quot;, &quot;format&quot;: &quot;image/png&quot;, &quot;layers&quot;: &quot;CRW_SST&quot;, &quot;styles&quot;: &quot;boxfill/sst_36&quot;, &quot;transparent&quot;: true, &quot;version&quot;: &quot;1.1.1&quot;}\n",
       "            );\n",
       "        \n",
       "    \n",
       "            macro_element_4ec766fdfbd43467462395712ba5cf2d.addTo(map_2b1c4d1020dad2d33d5e398cb15c8cb5);\n",
       "        \n",
       "    \n",
       "            map_2b1c4d1020dad2d33d5e398cb15c8cb5.timeDimension = L.timeDimension(\n",
       "                {&quot;period&quot;: &quot;PT1H&quot;, &quot;timeInterval&quot;: &quot;2021-05-28T12:00:00.000Z/2024-05-27T12:00:00.000Z&quot;}\n",
       "            );\n",
       "            map_2b1c4d1020dad2d33d5e398cb15c8cb5.timeDimensionControl =\n",
       "                L.control.timeDimension(\n",
       "                    {&quot;autoPlay&quot;: false, &quot;playerOptions&quot;: {&quot;loop&quot;: false, &quot;transitionTime&quot;: 200}, &quot;position&quot;: &quot;bottomleft&quot;}\n",
       "                );\n",
       "            map_2b1c4d1020dad2d33d5e398cb15c8cb5.addControl(\n",
       "                map_2b1c4d1020dad2d33d5e398cb15c8cb5.timeDimensionControl\n",
       "            );\n",
       "\n",
       "            \n",
       "            var macro_element_4ec766fdfbd43467462395712ba5cf2d = L.timeDimension.layer.wms(\n",
       "                macro_element_4ec766fdfbd43467462395712ba5cf2d,\n",
       "                {\n",
       "                    updateTimeDimension: false,\n",
       "                    wmsVersion: &quot;1.1.1&quot;,\n",
       "                }\n",
       "            ).addTo(map_2b1c4d1020dad2d33d5e398cb15c8cb5);\n",
       "            \n",
       "        \n",
       "    \n",
       "            var layer_control_fbf1252cfb88b82c4c7a9e10ea10d9c3_layers = {\n",
       "                base_layers : {\n",
       "                    &quot;openstreetmap&quot; : tile_layer_f0aa3b315fb2fa7fa08baa601cf938f0,\n",
       "                },\n",
       "                overlays :  {\n",
       "                    &quot;sea_surface_temperature&quot; : macro_element_4ec766fdfbd43467462395712ba5cf2d,\n",
       "                },\n",
       "            };\n",
       "            let layer_control_fbf1252cfb88b82c4c7a9e10ea10d9c3 = L.control.layers(\n",
       "                layer_control_fbf1252cfb88b82c4c7a9e10ea10d9c3_layers.base_layers,\n",
       "                layer_control_fbf1252cfb88b82c4c7a9e10ea10d9c3_layers.overlays,\n",
       "                {&quot;autoZIndex&quot;: true, &quot;collapsed&quot;: true, &quot;position&quot;: &quot;topright&quot;}\n",
       "            ).addTo(map_2b1c4d1020dad2d33d5e398cb15c8cb5);\n",
       "\n",
       "        \n",
       "&lt;/script&gt;\n",
       "&lt;/html&gt;\" style=\"position:absolute;width:100%;height:100%;left:0;top:0;border:none !important;\" allowfullscreen webkitallowfullscreen mozallowfullscreen></iframe></div></div>"
      ],
      "text/plain": [
       "<folium.folium.Map at 0x7f5a60596900>"
      ]
     },
     "execution_count": 3,
     "metadata": {},
     "output_type": "execute_result"
    }
   ],
   "source": [
    "import folium\n",
    "import folium.plugins\n",
    "\n",
    "m = folium.Map(location=[-40, -50], zoom_start=5)\n",
    "\n",
    "wms_tile_layer = folium.WmsTileLayer(\n",
    "    url=url,\n",
    "    name=name,\n",
    "    styles=style,\n",
    "    fmt=\"image/png\",\n",
    "    transparent=True,\n",
    "    layers=layer,\n",
    "    overlay=True,\n",
    "    COLORSCALERANGE=\"1.2,28\",\n",
    ").add_to(m)\n",
    "\n",
    "folium.plugins.TimestampedWmsTileLayers(\n",
    "    wms_tile_layer,\n",
    "    period=\"PT1H\",\n",
    "    time_interval=time_interval,\n",
    ").add_to(m)\n",
    "\n",
    "folium.LayerControl().add_to(m)\n",
    "\n",
    "m"
   ]
  }
 ],
 "metadata": {
  "jupytext": {
   "text_representation": {
    "extension": ".mystnb",
    "format_name": "myst"
   }
  },
  "language_info": {
   "codemirror_mode": {
    "name": "ipython",
    "version": 3
   },
   "file_extension": ".py",
   "mimetype": "text/x-python",
   "name": "python",
   "nbconvert_exporter": "python",
   "pygments_lexer": "ipython3",
   "version": "3.12.3"
  }
 },
 "nbformat": 4,
 "nbformat_minor": 5
}
