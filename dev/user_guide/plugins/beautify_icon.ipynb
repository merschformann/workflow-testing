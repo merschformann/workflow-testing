{
 "cells": [
  {
   "cell_type": "code",
   "execution_count": 1,
   "id": "c49e7569",
   "metadata": {
    "execution": {
     "iopub.execute_input": "2024-05-29T01:00:28.826682Z",
     "iopub.status.busy": "2024-05-29T01:00:28.826515Z",
     "iopub.status.idle": "2024-05-29T01:00:29.321374Z",
     "shell.execute_reply": "2024-05-29T01:00:29.320868Z"
    },
    "nbsphinx": "hidden"
   },
   "outputs": [],
   "source": [
    "import folium\n",
    "import folium.plugins"
   ]
  },
  {
   "cell_type": "markdown",
   "id": "f807f3c1",
   "metadata": {},
   "source": [
    "## BeautifyIcon"
   ]
  },
  {
   "cell_type": "code",
   "execution_count": 2,
   "id": "26194044",
   "metadata": {
    "execution": {
     "iopub.execute_input": "2024-05-29T01:00:29.323584Z",
     "iopub.status.busy": "2024-05-29T01:00:29.323349Z",
     "iopub.status.idle": "2024-05-29T01:00:29.338309Z",
     "shell.execute_reply": "2024-05-29T01:00:29.337896Z"
    }
   },
   "outputs": [
    {
     "data": {
      "text/html": [
       "<div style=\"width:100%;\"><div style=\"position:relative;width:100%;height:0;padding-bottom:60%;\"><span style=\"color:#565656\">Make this Notebook Trusted to load map: File -> Trust Notebook</span><iframe srcdoc=\"&lt;!DOCTYPE html&gt;\n",
       "&lt;html&gt;\n",
       "&lt;head&gt;\n",
       "    \n",
       "    &lt;meta http-equiv=&quot;content-type&quot; content=&quot;text/html; charset=UTF-8&quot; /&gt;\n",
       "    \n",
       "        &lt;script&gt;\n",
       "            L_NO_TOUCH = false;\n",
       "            L_DISABLE_3D = false;\n",
       "        &lt;/script&gt;\n",
       "    \n",
       "    &lt;style&gt;html, body {width: 100%;height: 100%;margin: 0;padding: 0;}&lt;/style&gt;\n",
       "    &lt;style&gt;#map {position:absolute;top:0;bottom:0;right:0;left:0;}&lt;/style&gt;\n",
       "    &lt;script src=&quot;https://cdn.jsdelivr.net/npm/leaflet@1.9.3/dist/leaflet.js&quot;&gt;&lt;/script&gt;\n",
       "    &lt;script src=&quot;https://code.jquery.com/jquery-3.7.1.min.js&quot;&gt;&lt;/script&gt;\n",
       "    &lt;script src=&quot;https://cdn.jsdelivr.net/npm/bootstrap@5.2.2/dist/js/bootstrap.bundle.min.js&quot;&gt;&lt;/script&gt;\n",
       "    &lt;script src=&quot;https://cdnjs.cloudflare.com/ajax/libs/Leaflet.awesome-markers/2.0.2/leaflet.awesome-markers.js&quot;&gt;&lt;/script&gt;\n",
       "    &lt;link rel=&quot;stylesheet&quot; href=&quot;https://cdn.jsdelivr.net/npm/leaflet@1.9.3/dist/leaflet.css&quot;/&gt;\n",
       "    &lt;link rel=&quot;stylesheet&quot; href=&quot;https://cdn.jsdelivr.net/npm/bootstrap@5.2.2/dist/css/bootstrap.min.css&quot;/&gt;\n",
       "    &lt;link rel=&quot;stylesheet&quot; href=&quot;https://netdna.bootstrapcdn.com/bootstrap/3.0.0/css/bootstrap-glyphicons.css&quot;/&gt;\n",
       "    &lt;link rel=&quot;stylesheet&quot; href=&quot;https://cdn.jsdelivr.net/npm/@fortawesome/fontawesome-free@6.2.0/css/all.min.css&quot;/&gt;\n",
       "    &lt;link rel=&quot;stylesheet&quot; href=&quot;https://cdnjs.cloudflare.com/ajax/libs/Leaflet.awesome-markers/2.0.2/leaflet.awesome-markers.css&quot;/&gt;\n",
       "    &lt;link rel=&quot;stylesheet&quot; href=&quot;https://cdn.jsdelivr.net/gh/python-visualization/folium/folium/templates/leaflet.awesome.rotate.min.css&quot;/&gt;\n",
       "    \n",
       "            &lt;meta name=&quot;viewport&quot; content=&quot;width=device-width,\n",
       "                initial-scale=1.0, maximum-scale=1.0, user-scalable=no&quot; /&gt;\n",
       "            &lt;style&gt;\n",
       "                #map_ddf0de6a8f7ff02869b17034d5eac1e0 {\n",
       "                    position: relative;\n",
       "                    width: 100.0%;\n",
       "                    height: 100.0%;\n",
       "                    left: 0.0%;\n",
       "                    top: 0.0%;\n",
       "                }\n",
       "                .leaflet-container { font-size: 1rem; }\n",
       "            &lt;/style&gt;\n",
       "        \n",
       "    &lt;script src=&quot;https://cdn.jsdelivr.net/gh/marslan390/BeautifyMarker/leaflet-beautify-marker-icon.min.js&quot;&gt;&lt;/script&gt;\n",
       "    &lt;link rel=&quot;stylesheet&quot; href=&quot;https://cdn.jsdelivr.net/gh/marslan390/BeautifyMarker/leaflet-beautify-marker-icon.min.css&quot;/&gt;\n",
       "&lt;/head&gt;\n",
       "&lt;body&gt;\n",
       "    \n",
       "    \n",
       "            &lt;div class=&quot;folium-map&quot; id=&quot;map_ddf0de6a8f7ff02869b17034d5eac1e0&quot; &gt;&lt;/div&gt;\n",
       "        \n",
       "&lt;/body&gt;\n",
       "&lt;script&gt;\n",
       "    \n",
       "    \n",
       "            var map_ddf0de6a8f7ff02869b17034d5eac1e0 = L.map(\n",
       "                &quot;map_ddf0de6a8f7ff02869b17034d5eac1e0&quot;,\n",
       "                {\n",
       "                    center: [45.5, -122.0],\n",
       "                    crs: L.CRS.EPSG3857,\n",
       "                    zoom: 3,\n",
       "                    zoomControl: true,\n",
       "                    preferCanvas: false,\n",
       "                }\n",
       "            );\n",
       "\n",
       "            \n",
       "\n",
       "        \n",
       "    \n",
       "            var tile_layer_32ebb3126d747036a19932bc0944d417 = L.tileLayer(\n",
       "                &quot;https://tile.openstreetmap.org/{z}/{x}/{y}.png&quot;,\n",
       "                {&quot;attribution&quot;: &quot;\\u0026copy; \\u003ca href=\\&quot;https://www.openstreetmap.org/copyright\\&quot;\\u003eOpenStreetMap\\u003c/a\\u003e contributors&quot;, &quot;detectRetina&quot;: false, &quot;maxNativeZoom&quot;: 19, &quot;maxZoom&quot;: 19, &quot;minZoom&quot;: 0, &quot;noWrap&quot;: false, &quot;opacity&quot;: 1, &quot;subdomains&quot;: &quot;abc&quot;, &quot;tms&quot;: false}\n",
       "            );\n",
       "        \n",
       "    \n",
       "            tile_layer_32ebb3126d747036a19932bc0944d417.addTo(map_ddf0de6a8f7ff02869b17034d5eac1e0);\n",
       "        \n",
       "    \n",
       "            var marker_2cfbb70364205f7e5c2185d8770c2884 = L.marker(\n",
       "                [46.0, -122.0],\n",
       "                {}\n",
       "            ).addTo(map_ddf0de6a8f7ff02869b17034d5eac1e0);\n",
       "        \n",
       "    \n",
       "            var beautify_icon_3328d83aa1a5bf16492468bc0b16b74d = new L.BeautifyIcon.icon(\n",
       "                {&quot;backgroundColor&quot;: &quot;#FFF&quot;, &quot;borderColor&quot;: &quot;#b3334f&quot;, &quot;borderWidth&quot;: 3, &quot;icon&quot;: &quot;plane&quot;, &quot;iconShape&quot;: &quot;triangle&quot;, &quot;innerIconStyle&quot;: &quot;&quot;, &quot;isAlphaNumericIcon&quot;: false, &quot;spin&quot;: false, &quot;textColor&quot;: &quot;#b3334f&quot;}\n",
       "            )\n",
       "            marker_2cfbb70364205f7e5c2185d8770c2884.setIcon(beautify_icon_3328d83aa1a5bf16492468bc0b16b74d);\n",
       "        \n",
       "    \n",
       "        var popup_739e269dad55440cc6cabc777ec7b74c = L.popup({&quot;maxWidth&quot;: &quot;100%&quot;});\n",
       "\n",
       "        \n",
       "            \n",
       "                var html_9802a50cfdba12ffcb7d2e9d25de7dfc = $(`&lt;div id=&quot;html_9802a50cfdba12ffcb7d2e9d25de7dfc&quot; style=&quot;width: 100.0%; height: 100.0%;&quot;&gt;Portland, OR&lt;/div&gt;`)[0];\n",
       "                popup_739e269dad55440cc6cabc777ec7b74c.setContent(html_9802a50cfdba12ffcb7d2e9d25de7dfc);\n",
       "            \n",
       "        \n",
       "\n",
       "        marker_2cfbb70364205f7e5c2185d8770c2884.bindPopup(popup_739e269dad55440cc6cabc777ec7b74c)\n",
       "        ;\n",
       "\n",
       "        \n",
       "    \n",
       "    \n",
       "            var marker_162ac2414468aade318c185af654a0c0 = L.marker(\n",
       "                [50.0, -122.0],\n",
       "                {}\n",
       "            ).addTo(map_ddf0de6a8f7ff02869b17034d5eac1e0);\n",
       "        \n",
       "    \n",
       "            var beautify_icon_032999c99b2b2e9befc27ccbd764dd12 = new L.BeautifyIcon.icon(\n",
       "                {&quot;backgroundColor&quot;: &quot;#FFF&quot;, &quot;borderColor&quot;: &quot;#00ABDC&quot;, &quot;borderWidth&quot;: 3, &quot;innerIconStyle&quot;: &quot;margin-top:0;&quot;, &quot;isAlphaNumericIcon&quot;: true, &quot;spin&quot;: false, &quot;text&quot;: 10, &quot;textColor&quot;: &quot;#00ABDC&quot;}\n",
       "            )\n",
       "            marker_162ac2414468aade318c185af654a0c0.setIcon(beautify_icon_032999c99b2b2e9befc27ccbd764dd12);\n",
       "        \n",
       "    \n",
       "        var popup_e9011b06d2c6831dc07b27d9b198388d = L.popup({&quot;maxWidth&quot;: &quot;100%&quot;});\n",
       "\n",
       "        \n",
       "            \n",
       "                var html_e493845202b57b41fd60a95458ec1a6d = $(`&lt;div id=&quot;html_e493845202b57b41fd60a95458ec1a6d&quot; style=&quot;width: 100.0%; height: 100.0%;&quot;&gt;Portland, OR&lt;/div&gt;`)[0];\n",
       "                popup_e9011b06d2c6831dc07b27d9b198388d.setContent(html_e493845202b57b41fd60a95458ec1a6d);\n",
       "            \n",
       "        \n",
       "\n",
       "        marker_162ac2414468aade318c185af654a0c0.bindPopup(popup_e9011b06d2c6831dc07b27d9b198388d)\n",
       "        ;\n",
       "\n",
       "        \n",
       "    \n",
       "&lt;/script&gt;\n",
       "&lt;/html&gt;\" style=\"position:absolute;width:100%;height:100%;left:0;top:0;border:none !important;\" allowfullscreen webkitallowfullscreen mozallowfullscreen></iframe></div></div>"
      ],
      "text/plain": [
       "<folium.folium.Map at 0x7f970c66f080>"
      ]
     },
     "execution_count": 2,
     "metadata": {},
     "output_type": "execute_result"
    }
   ],
   "source": [
    "m = folium.Map([45.5, -122], zoom_start=3)\n",
    "\n",
    "icon_plane = folium.plugins.BeautifyIcon(\n",
    "    icon=\"plane\", border_color=\"#b3334f\", text_color=\"#b3334f\", icon_shape=\"triangle\"\n",
    ")\n",
    "\n",
    "icon_number = folium.plugins.BeautifyIcon(\n",
    "    border_color=\"#00ABDC\",\n",
    "    text_color=\"#00ABDC\",\n",
    "    number=10,\n",
    "    inner_icon_style=\"margin-top:0;\",\n",
    ")\n",
    "\n",
    "folium.Marker(location=[46, -122], popup=\"Portland, OR\", icon=icon_plane).add_to(m)\n",
    "\n",
    "folium.Marker(location=[50, -122], popup=\"Portland, OR\", icon=icon_number).add_to(m)\n",
    "\n",
    "m"
   ]
  }
 ],
 "metadata": {
  "jupytext": {
   "text_representation": {
    "extension": ".mystnb",
    "format_name": "myst"
   }
  },
  "language_info": {
   "codemirror_mode": {
    "name": "ipython",
    "version": 3
   },
   "file_extension": ".py",
   "mimetype": "text/x-python",
   "name": "python",
   "nbconvert_exporter": "python",
   "pygments_lexer": "ipython3",
   "version": "3.12.3"
  }
 },
 "nbformat": 4,
 "nbformat_minor": 5
}
