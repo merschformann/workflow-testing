{
 "cells": [
  {
   "cell_type": "markdown",
   "id": "d373ad73",
   "metadata": {},
   "source": [
    "## Heatmap"
   ]
  },
  {
   "cell_type": "code",
   "execution_count": 1,
   "id": "93b9428c",
   "metadata": {
    "execution": {
     "iopub.execute_input": "2024-06-03T20:01:32.608691Z",
     "iopub.status.busy": "2024-06-03T20:01:32.608523Z",
     "iopub.status.idle": "2024-06-03T20:01:32.667977Z",
     "shell.execute_reply": "2024-06-03T20:01:32.667469Z"
    }
   },
   "outputs": [],
   "source": [
    "import numpy as np\n",
    "\n",
    "data = (\n",
    "    np.random.normal(size=(100, 3)) * np.array([[1, 1, 1]]) + np.array([[48, 5, 1]])\n",
    ").tolist()"
   ]
  },
  {
   "cell_type": "code",
   "execution_count": 2,
   "id": "e26c26f2",
   "metadata": {
    "execution": {
     "iopub.execute_input": "2024-06-03T20:01:32.671519Z",
     "iopub.status.busy": "2024-06-03T20:01:32.670648Z",
     "iopub.status.idle": "2024-06-03T20:01:33.109615Z",
     "shell.execute_reply": "2024-06-03T20:01:33.109108Z"
    }
   },
   "outputs": [
    {
     "data": {
      "text/html": [
       "<div style=\"width:100%;\"><div style=\"position:relative;width:100%;height:0;padding-bottom:60%;\"><span style=\"color:#565656\">Make this Notebook Trusted to load map: File -> Trust Notebook</span><iframe srcdoc=\"&lt;!DOCTYPE html&gt;\n",
       "&lt;html&gt;\n",
       "&lt;head&gt;\n",
       "    \n",
       "    &lt;meta http-equiv=&quot;content-type&quot; content=&quot;text/html; charset=UTF-8&quot; /&gt;\n",
       "    \n",
       "        &lt;script&gt;\n",
       "            L_NO_TOUCH = false;\n",
       "            L_DISABLE_3D = false;\n",
       "        &lt;/script&gt;\n",
       "    \n",
       "    &lt;style&gt;html, body {width: 100%;height: 100%;margin: 0;padding: 0;}&lt;/style&gt;\n",
       "    &lt;style&gt;#map {position:absolute;top:0;bottom:0;right:0;left:0;}&lt;/style&gt;\n",
       "    &lt;script src=&quot;https://cdn.jsdelivr.net/npm/leaflet@1.9.3/dist/leaflet.js&quot;&gt;&lt;/script&gt;\n",
       "    &lt;script src=&quot;https://code.jquery.com/jquery-3.7.1.min.js&quot;&gt;&lt;/script&gt;\n",
       "    &lt;script src=&quot;https://cdn.jsdelivr.net/npm/bootstrap@5.2.2/dist/js/bootstrap.bundle.min.js&quot;&gt;&lt;/script&gt;\n",
       "    &lt;script src=&quot;https://cdnjs.cloudflare.com/ajax/libs/Leaflet.awesome-markers/2.0.2/leaflet.awesome-markers.js&quot;&gt;&lt;/script&gt;\n",
       "    &lt;link rel=&quot;stylesheet&quot; href=&quot;https://cdn.jsdelivr.net/npm/leaflet@1.9.3/dist/leaflet.css&quot;/&gt;\n",
       "    &lt;link rel=&quot;stylesheet&quot; href=&quot;https://cdn.jsdelivr.net/npm/bootstrap@5.2.2/dist/css/bootstrap.min.css&quot;/&gt;\n",
       "    &lt;link rel=&quot;stylesheet&quot; href=&quot;https://netdna.bootstrapcdn.com/bootstrap/3.0.0/css/bootstrap-glyphicons.css&quot;/&gt;\n",
       "    &lt;link rel=&quot;stylesheet&quot; href=&quot;https://cdn.jsdelivr.net/npm/@fortawesome/fontawesome-free@6.2.0/css/all.min.css&quot;/&gt;\n",
       "    &lt;link rel=&quot;stylesheet&quot; href=&quot;https://cdnjs.cloudflare.com/ajax/libs/Leaflet.awesome-markers/2.0.2/leaflet.awesome-markers.css&quot;/&gt;\n",
       "    &lt;link rel=&quot;stylesheet&quot; href=&quot;https://cdn.jsdelivr.net/gh/python-visualization/folium/folium/templates/leaflet.awesome.rotate.min.css&quot;/&gt;\n",
       "    \n",
       "            &lt;meta name=&quot;viewport&quot; content=&quot;width=device-width,\n",
       "                initial-scale=1.0, maximum-scale=1.0, user-scalable=no&quot; /&gt;\n",
       "            &lt;style&gt;\n",
       "                #map_3f28cfe30a7ccd4d91a2ac15a76d2f56 {\n",
       "                    position: relative;\n",
       "                    width: 100.0%;\n",
       "                    height: 100.0%;\n",
       "                    left: 0.0%;\n",
       "                    top: 0.0%;\n",
       "                }\n",
       "                .leaflet-container { font-size: 1rem; }\n",
       "            &lt;/style&gt;\n",
       "        \n",
       "    &lt;script src=&quot;https://cdn.jsdelivr.net/gh/python-visualization/folium@main/folium/templates/leaflet_heat.min.js&quot;&gt;&lt;/script&gt;\n",
       "&lt;/head&gt;\n",
       "&lt;body&gt;\n",
       "    \n",
       "    \n",
       "            &lt;div class=&quot;folium-map&quot; id=&quot;map_3f28cfe30a7ccd4d91a2ac15a76d2f56&quot; &gt;&lt;/div&gt;\n",
       "        \n",
       "&lt;/body&gt;\n",
       "&lt;script&gt;\n",
       "    \n",
       "    \n",
       "            var map_3f28cfe30a7ccd4d91a2ac15a76d2f56 = L.map(\n",
       "                &quot;map_3f28cfe30a7ccd4d91a2ac15a76d2f56&quot;,\n",
       "                {\n",
       "                    center: [48.0, 5.0],\n",
       "                    crs: L.CRS.EPSG3857,\n",
       "                    zoom: 6,\n",
       "                    zoomControl: true,\n",
       "                    preferCanvas: false,\n",
       "                }\n",
       "            );\n",
       "\n",
       "            \n",
       "\n",
       "        \n",
       "    \n",
       "            var tile_layer_f3d6e7edf33a96e55144ae1639cf24ad = L.tileLayer(\n",
       "                &quot;https://tile.openstreetmap.org/{z}/{x}/{y}.png&quot;,\n",
       "                {&quot;attribution&quot;: &quot;\\u0026copy; \\u003ca href=\\&quot;https://www.openstreetmap.org/copyright\\&quot;\\u003eOpenStreetMap\\u003c/a\\u003e contributors&quot;, &quot;detectRetina&quot;: false, &quot;maxNativeZoom&quot;: 19, &quot;maxZoom&quot;: 19, &quot;minZoom&quot;: 0, &quot;noWrap&quot;: false, &quot;opacity&quot;: 1, &quot;subdomains&quot;: &quot;abc&quot;, &quot;tms&quot;: false}\n",
       "            );\n",
       "        \n",
       "    \n",
       "            tile_layer_f3d6e7edf33a96e55144ae1639cf24ad.addTo(map_3f28cfe30a7ccd4d91a2ac15a76d2f56);\n",
       "        \n",
       "    \n",
       "            var heat_map_4db5a8515f2e6c34fcb817effe2fcc2b = L.heatLayer(\n",
       "                [[47.1833515117892, 3.9101393544788614, 0.9277039209979829], [47.72927663719961, 4.351375684722109, 1.1534683718413408], [49.46648005767725, 5.611532123585323, 1.5564125827636424], [48.193440877223054, 4.0468353642330746, -1.1525666467550528], [48.80909076602405, 3.7270601219258834, 0.7904279073046685], [48.15737123849964, 5.24600800326685, -0.607524661717376], [48.20068386130344, 7.591975439585515, 0.8923339440262281], [48.44986426377132, 5.105279508446461, -0.4177560389186541], [48.380005877447395, 5.71162195307401, 1.6014528653041622], [49.82828398882656, 4.710452232039041, -1.0229025114798422], [46.38298826664134, 5.315043755345155, 0.7939685708722082], [48.76234308836871, 6.268293183685538, 1.2565110685413705], [46.42246509023505, 5.767993711507414, 0.09371274168899535], [48.06543739517285, 4.51987651841597, -0.23044149204766629], [46.7866836922122, 5.461779905685359, 0.6561919335959849], [47.58593913904314, 4.861285683765948, 0.31104661898811503], [47.47888565959966, 4.873114120397526, 1.9138928135287419], [47.82847508951041, 4.954452292562356, 0.16883498318910084], [47.81949066870371, 4.712681576117902, -1.023199806052657], [47.41578322132721, 5.011615274066991, 1.7388221880271937], [47.856155650290404, 5.758376384194852, 0.05603959706189776], [46.90967215828119, 5.846002148031857, 0.7739469583763213], [48.36197354416484, 4.648728650122999, 2.363886390731823], [46.869676098442, 4.760864647314982, -0.6703209320228349], [48.2739050521931, 5.4772394798071025, 2.656618467686161], [47.390949180237314, 4.358657102877089, -0.980555812969329], [47.37374284136348, 6.099877751908477, -0.5815171616651083], [48.18659573612215, 4.295774666934784, 1.8246803732742611], [49.312404942333785, 3.3957664727572956, 0.8055246837018052], [47.164078326175826, 4.499263314138001, 1.5865400892695], [47.25356108347966, 5.540977412556927, -0.9015434666840927], [48.11371228264667, 6.380418577989536, -0.4443663626169718], [48.81848375321175, 5.3722795319153445, 2.104767164860359], [47.390485716450605, 6.421161141610473, 0.7392506962225], [48.42204419247068, 5.517644226944524, 2.6726297599516395], [47.99431420027689, 4.636946640598157, 1.8609793111035744], [47.776768674883755, 6.238523306736617, 0.566073542602131], [48.681527150235674, 5.242678901741439, 0.7320148298046061], [48.787454113407726, 6.4586511622971985, 1.2481665479503878], [47.7545205332724, 5.098499074451019, 1.9796232719793276], [48.44484522806329, 4.5682958996342276, 0.5877548964890558], [48.084624555510494, 4.539668859071135, 1.0473889326763959], [48.992381965046555, 6.763692180895883, 1.2322682514793757], [47.48845157587782, 5.036716601385353, 0.9996873983339963], [48.99107116541103, 7.569363079449278, 0.9829725262371503], [46.50799259914946, 5.112458478159108, 1.0061889227209517], [46.25565450975513, 4.028081224543439, 0.948653150441088], [46.29286750137187, 3.353975207285682, 0.3843893126831148], [47.49654664320511, 3.9690126318839516, 2.211797383754094], [45.410807538535835, 5.128300411485343, 1.4663055914380345], [49.946499905294004, 5.759141931105652, 1.2164526455524645], [48.61247542966449, 4.2210018388179025, 0.7265028664764526], [46.08244017837629, 4.3975484328846, 0.3955310400866713], [46.793507739918894, 6.225110140892258, 0.8839987222308023], [47.527999571285065, 4.227105987440872, 1.8014243278846938], [48.7777518480433, 5.9238388651441545, 1.8593516968891306], [48.14028058446145, 5.885548498369987, 1.81757048004192], [46.72831900231929, 4.418450197735244, 1.3115518953712768], [48.40543729735849, 4.308735978839397, 2.972917225082834], [47.6004045557185, 3.8434030629164333, 2.081364918526471], [48.091512068699046, 4.110365266339793, 0.0361413446561758], [48.35161513534964, 4.596524868974218, 0.5263939901863304], [47.83183355574222, 4.826404036409905, 0.5984467996759384], [45.96048174663633, 4.649645287434396, -0.2727683778773935], [48.92753647165531, 2.46585484161775, 1.9083143573790806], [48.41723660421915, 5.052768228065748, 2.007781674257397], [48.53712504386242, 4.195117541596112, 1.105107138162566], [48.7649460268159, 5.430312959502038, 0.46338566385572366], [46.1249020403835, 4.706525495062199, 0.08359602377428454], [46.82040029955725, 5.021167342583716, 1.8846949573834362], [47.846660449007395, 6.361262393036673, 1.279409529687424], [48.192740719213596, 5.474404887745204, -0.7821481348484807], [48.13948434824023, 7.3317673366126925, 2.5195958134292344], [46.91830166348952, 5.066701263303646, 1.4932370473183967], [46.53423854439776, 4.423380790471972, 0.10753035940016709], [47.20639559357713, 6.279278069633986, -1.3664193366048165], [48.38175578771903, 6.040078492091071, -0.3661463224215975], [47.440069134036676, 4.128687688253304, 1.636696198073453], [46.62326559158656, 5.294860137709422, -0.08650831497403044], [47.929797625165115, 4.556200978479251, 1.9104579877896875], [47.80519366928104, 3.6134770455983105, 0.22779483448215043], [46.64546721776121, 5.701037287856439, 0.4747918626401474], [47.99094652696137, 4.871687030306888, 1.5503484482831893], [48.32740041656504, 4.401592401585554, 1.9005883754337536], [47.43199192729398, 2.7655083088329904, 0.281459962790123], [47.28436473567695, 4.5266975105899245, 1.2580546430949233], [47.83348366004882, 6.8744820970320815, 1.6780988143943083], [47.073413409556856, 4.120297024569981, 1.935561651324261], [47.79569125681127, 5.018271738680231, 1.4986528344537964], [48.71861076921667, 5.976817776941455, 2.039879208269494], [47.74105198686927, 4.411142445376193, 1.8205211215896702], [49.60310329111742, 4.712674778565675, 0.35415894796729763], [48.05838166209052, 4.328292324359168, 0.21541002828635947], [45.89957605114302, 4.174955971792459, -0.2899424016674994], [47.150050893086544, 4.061246508472502, 0.6855093183438301], [48.70312796699936, 4.902393858628202, 0.06382713875099189], [45.319808270659955, 3.1509715237154925, 2.0984233526822686], [49.843517858938824, 4.123323488515242, 0.33055504356599796], [47.685714564052255, 4.157047391308818, 0.4810972834408487], [46.17244767621524, 4.383695303274262, 2.631250707549556]],\n",
       "                {&quot;blur&quot;: 15, &quot;maxZoom&quot;: 18, &quot;minOpacity&quot;: 0.5, &quot;radius&quot;: 25}\n",
       "            );\n",
       "        \n",
       "    \n",
       "            heat_map_4db5a8515f2e6c34fcb817effe2fcc2b.addTo(map_3f28cfe30a7ccd4d91a2ac15a76d2f56);\n",
       "        \n",
       "&lt;/script&gt;\n",
       "&lt;/html&gt;\" style=\"position:absolute;width:100%;height:100%;left:0;top:0;border:none !important;\" allowfullscreen webkitallowfullscreen mozallowfullscreen></iframe></div></div>"
      ],
      "text/plain": [
       "<folium.folium.Map at 0x7fc74c37ca70>"
      ]
     },
     "execution_count": 2,
     "metadata": {},
     "output_type": "execute_result"
    }
   ],
   "source": [
    "import folium\n",
    "from folium.plugins import HeatMap\n",
    "\n",
    "m = folium.Map([48.0, 5.0], zoom_start=6)\n",
    "\n",
    "HeatMap(data).add_to(m)\n",
    "\n",
    "m"
   ]
  }
 ],
 "metadata": {
  "jupytext": {
   "text_representation": {
    "extension": ".mystnb",
    "format_name": "myst"
   }
  },
  "language_info": {
   "codemirror_mode": {
    "name": "ipython",
    "version": 3
   },
   "file_extension": ".py",
   "mimetype": "text/x-python",
   "name": "python",
   "nbconvert_exporter": "python",
   "pygments_lexer": "ipython3",
   "version": "3.12.3"
  }
 },
 "nbformat": 4,
 "nbformat_minor": 5
}
