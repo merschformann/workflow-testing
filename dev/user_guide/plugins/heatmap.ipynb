{
 "cells": [
  {
   "cell_type": "markdown",
   "id": "b1dfbc2c",
   "metadata": {},
   "source": [
    "## Heatmap"
   ]
  },
  {
   "cell_type": "code",
   "execution_count": 1,
   "id": "f14f0708",
   "metadata": {
    "execution": {
     "iopub.execute_input": "2024-05-25T01:07:00.839598Z",
     "iopub.status.busy": "2024-05-25T01:07:00.839220Z",
     "iopub.status.idle": "2024-05-25T01:07:00.898247Z",
     "shell.execute_reply": "2024-05-25T01:07:00.897767Z"
    }
   },
   "outputs": [],
   "source": [
    "import numpy as np\n",
    "\n",
    "data = (\n",
    "    np.random.normal(size=(100, 3)) * np.array([[1, 1, 1]]) + np.array([[48, 5, 1]])\n",
    ").tolist()"
   ]
  },
  {
   "cell_type": "code",
   "execution_count": 2,
   "id": "c8864de1",
   "metadata": {
    "execution": {
     "iopub.execute_input": "2024-05-25T01:07:00.901689Z",
     "iopub.status.busy": "2024-05-25T01:07:00.900797Z",
     "iopub.status.idle": "2024-05-25T01:07:01.326662Z",
     "shell.execute_reply": "2024-05-25T01:07:01.326130Z"
    }
   },
   "outputs": [
    {
     "data": {
      "text/html": [
       "<div style=\"width:100%;\"><div style=\"position:relative;width:100%;height:0;padding-bottom:60%;\"><span style=\"color:#565656\">Make this Notebook Trusted to load map: File -> Trust Notebook</span><iframe srcdoc=\"&lt;!DOCTYPE html&gt;\n",
       "&lt;html&gt;\n",
       "&lt;head&gt;\n",
       "    \n",
       "    &lt;meta http-equiv=&quot;content-type&quot; content=&quot;text/html; charset=UTF-8&quot; /&gt;\n",
       "    \n",
       "        &lt;script&gt;\n",
       "            L_NO_TOUCH = false;\n",
       "            L_DISABLE_3D = false;\n",
       "        &lt;/script&gt;\n",
       "    \n",
       "    &lt;style&gt;html, body {width: 100%;height: 100%;margin: 0;padding: 0;}&lt;/style&gt;\n",
       "    &lt;style&gt;#map {position:absolute;top:0;bottom:0;right:0;left:0;}&lt;/style&gt;\n",
       "    &lt;script src=&quot;https://cdn.jsdelivr.net/npm/leaflet@1.9.3/dist/leaflet.js&quot;&gt;&lt;/script&gt;\n",
       "    &lt;script src=&quot;https://code.jquery.com/jquery-3.7.1.min.js&quot;&gt;&lt;/script&gt;\n",
       "    &lt;script src=&quot;https://cdn.jsdelivr.net/npm/bootstrap@5.2.2/dist/js/bootstrap.bundle.min.js&quot;&gt;&lt;/script&gt;\n",
       "    &lt;script src=&quot;https://cdnjs.cloudflare.com/ajax/libs/Leaflet.awesome-markers/2.0.2/leaflet.awesome-markers.js&quot;&gt;&lt;/script&gt;\n",
       "    &lt;link rel=&quot;stylesheet&quot; href=&quot;https://cdn.jsdelivr.net/npm/leaflet@1.9.3/dist/leaflet.css&quot;/&gt;\n",
       "    &lt;link rel=&quot;stylesheet&quot; href=&quot;https://cdn.jsdelivr.net/npm/bootstrap@5.2.2/dist/css/bootstrap.min.css&quot;/&gt;\n",
       "    &lt;link rel=&quot;stylesheet&quot; href=&quot;https://netdna.bootstrapcdn.com/bootstrap/3.0.0/css/bootstrap-glyphicons.css&quot;/&gt;\n",
       "    &lt;link rel=&quot;stylesheet&quot; href=&quot;https://cdn.jsdelivr.net/npm/@fortawesome/fontawesome-free@6.2.0/css/all.min.css&quot;/&gt;\n",
       "    &lt;link rel=&quot;stylesheet&quot; href=&quot;https://cdnjs.cloudflare.com/ajax/libs/Leaflet.awesome-markers/2.0.2/leaflet.awesome-markers.css&quot;/&gt;\n",
       "    &lt;link rel=&quot;stylesheet&quot; href=&quot;https://cdn.jsdelivr.net/gh/python-visualization/folium/folium/templates/leaflet.awesome.rotate.min.css&quot;/&gt;\n",
       "    \n",
       "            &lt;meta name=&quot;viewport&quot; content=&quot;width=device-width,\n",
       "                initial-scale=1.0, maximum-scale=1.0, user-scalable=no&quot; /&gt;\n",
       "            &lt;style&gt;\n",
       "                #map_fcb9f3d55f7c0a0bf6fcdba48b85292d {\n",
       "                    position: relative;\n",
       "                    width: 100.0%;\n",
       "                    height: 100.0%;\n",
       "                    left: 0.0%;\n",
       "                    top: 0.0%;\n",
       "                }\n",
       "                .leaflet-container { font-size: 1rem; }\n",
       "            &lt;/style&gt;\n",
       "        \n",
       "    &lt;script src=&quot;https://cdn.jsdelivr.net/gh/python-visualization/folium@main/folium/templates/leaflet_heat.min.js&quot;&gt;&lt;/script&gt;\n",
       "&lt;/head&gt;\n",
       "&lt;body&gt;\n",
       "    \n",
       "    \n",
       "            &lt;div class=&quot;folium-map&quot; id=&quot;map_fcb9f3d55f7c0a0bf6fcdba48b85292d&quot; &gt;&lt;/div&gt;\n",
       "        \n",
       "&lt;/body&gt;\n",
       "&lt;script&gt;\n",
       "    \n",
       "    \n",
       "            var map_fcb9f3d55f7c0a0bf6fcdba48b85292d = L.map(\n",
       "                &quot;map_fcb9f3d55f7c0a0bf6fcdba48b85292d&quot;,\n",
       "                {\n",
       "                    center: [48.0, 5.0],\n",
       "                    crs: L.CRS.EPSG3857,\n",
       "                    zoom: 6,\n",
       "                    zoomControl: true,\n",
       "                    preferCanvas: false,\n",
       "                }\n",
       "            );\n",
       "\n",
       "            \n",
       "\n",
       "        \n",
       "    \n",
       "            var tile_layer_879379d8f87493d0421252aceee0ef5b = L.tileLayer(\n",
       "                &quot;https://tile.openstreetmap.org/{z}/{x}/{y}.png&quot;,\n",
       "                {&quot;attribution&quot;: &quot;\\u0026copy; \\u003ca href=\\&quot;https://www.openstreetmap.org/copyright\\&quot;\\u003eOpenStreetMap\\u003c/a\\u003e contributors&quot;, &quot;detectRetina&quot;: false, &quot;maxNativeZoom&quot;: 19, &quot;maxZoom&quot;: 19, &quot;minZoom&quot;: 0, &quot;noWrap&quot;: false, &quot;opacity&quot;: 1, &quot;subdomains&quot;: &quot;abc&quot;, &quot;tms&quot;: false}\n",
       "            );\n",
       "        \n",
       "    \n",
       "            tile_layer_879379d8f87493d0421252aceee0ef5b.addTo(map_fcb9f3d55f7c0a0bf6fcdba48b85292d);\n",
       "        \n",
       "    \n",
       "            var heat_map_c1eadd15e9e3d09981534cd8c6af87f5 = L.heatLayer(\n",
       "                [[48.762433317339536, 5.047228890931407, 0.08194841966707456], [46.756534517127065, 2.587185578538432, 2.3685697227242857], [48.78463616336474, 6.691356843366704, 0.43547524461221376], [48.737881287586404, 5.450027519608923, 1.3836540285443277], [47.135060205562006, 6.207067189497196, 2.481420409205505], [47.92348751397488, 4.136249378479281, 1.7111113135699405], [48.14473661520675, 2.4854453413255633, 2.3800945931521573], [47.81502134356721, 4.475617949862921, 0.7665735226809973], [47.263420730289496, 6.275042907967083, 0.7127545205101382], [47.55011356507429, 6.735258009307758, 1.7906468240479936], [46.70165771917936, 3.5268625856685905, 1.5139315094639707], [46.86031223426715, 6.028316483441178, 2.3178081281372505], [46.72427598335044, 5.56591656528826, 0.627893638656801], [48.544013795626554, 6.903341472976544, 1.718582324376036], [48.587843283444876, 5.322534605912799, 1.0394370534251514], [47.1073377018491, 5.310977726365962, 1.1196729169779052], [48.039798581295315, 5.063319773984499, 0.4486876710889197], [48.93997929619799, 5.758601858780983, -0.3163751646194666], [47.088480726709044, 4.757248481234772, 1.7728662073282444], [46.7855258396554, 5.6509569264107355, 1.1398501583538703], [47.24731020966712, 6.1182869269031235, 0.24041434049494748], [48.52612986192904, 6.803338446974832, 0.6747059988103775], [47.99186450611833, 4.388785996014055, -1.197239073857403], [48.52441725688765, 6.047557688439287, 1.6012341239907757], [48.63223324837843, 5.81389767182229, 0.5053844784747785], [47.52892150535254, 5.610833456638344, 0.47124610221781815], [47.76443343014731, 3.0372323187518386, -0.2999215116718734], [46.977754779667606, 5.319606765084388, -1.8258220679841735], [49.07603788195511, 5.432811295542819, 0.2040953228969219], [48.32811780065019, 6.526938885518895, 0.22187494725130041], [47.971478652025525, 6.093444205373743, 0.7249360423218484], [48.42308668622864, 6.4576111186055805, 0.5541317474770757], [47.039056028925586, 6.674807963598135, 1.5965734478969509], [48.30134264741215, 3.545221158091617, 2.500374228694575], [46.56788756520011, 3.885631250150429, 1.657716042427508], [46.518682515317394, 5.444111539684821, 0.7825266982866037], [48.43429533387418, 5.568136972690507, 0.20287979041891058], [47.304816621693085, 4.401818285988563, 0.09119945831099807], [47.49120546310844, 5.872415418274505, 0.7224064284556363], [48.03453178754646, 6.752757730353771, 1.3899954551051001], [47.631495511247756, 3.784757921235955, 0.4014148578316481], [48.72765459843876, 4.863254345153622, 2.3419639865154913], [49.80891661283384, 5.21928896266739, -0.14675949107630903], [47.64714305030182, 5.0260927472427905, -0.048494473250513925], [48.670805306215556, 5.526812599075395, 0.2958202611353342], [47.973767050112016, 4.122570567790387, 0.21349891063184734], [47.91686648420674, 5.301422384654795, 0.8849188159718131], [48.204526082596104, 3.1626281880344664, 0.2475775194595854], [47.44063211145121, 5.344852555272102, 0.7888733121481007], [47.03875216666109, 6.728244876296222, 1.033120663360532], [49.147492107589166, 3.648756619838831, 0.93012763368021], [46.39954453500082, 4.619102364222521, -0.4243948875923389], [47.96396258284095, 5.240956544527089, 0.37025720727281874], [47.25077819672171, 3.987453257862054, 1.1254456944753226], [48.228128514095275, 6.618996906050938, 1.8250455864485216], [47.633665644978336, 5.581846109212421, 0.6413590580526418], [47.53603393000368, 4.296219961675895, -1.062317356440202], [47.57591174837283, 4.998679452964524, 1.2558472241587184], [48.73084790748627, 6.7856864239356165, 0.37998896996250664], [46.433652531131926, 6.623354879370485, 1.1534560140838042], [48.69129965945641, 5.505273231077951, 0.9431194835561745], [48.63968086551131, 5.188096490376671, 0.4986584903749637], [47.36695781084983, 5.594731061302818, 1.7263249645184606], [46.69899892741734, 4.6903662033949844, 0.7554933416092854], [49.105685826339766, 5.5264162078721455, 1.476622109096032], [47.24289301255339, 4.771989365505446, 2.3127525098561845], [46.09765959202711, 3.18448465717353, 1.2068972155955957], [46.945725192548274, 5.205082442010451, 0.9513484562815353], [50.13171784973638, 4.462761687657903, 0.5553643792584084], [48.48094998234373, 6.499793851302599, -0.05337729343508424], [49.06611256362834, 5.357865884333505, 0.7438194141648455], [48.759225036356575, 6.839691161615944, -1.0607074608998723], [49.82761050367715, 7.080621371015737, 0.5250982139996836], [49.03831716101127, 6.317732113919664, -0.3512201281982681], [47.78132954339872, 4.613163330591731, 0.21065058652963675], [48.01788787364459, 5.644044356316143, 2.183824621702729], [46.163476620326314, 4.5908279610194365, 1.0387951303751768], [49.626931968523984, 6.9511225600594475, 1.0077317318329988], [47.269236069403576, 4.126664599088333, 0.15768661428026165], [48.57016295786221, 4.603751716738237, 1.3316468204500747], [47.4526460631526, 5.250159920692705, -0.370985901682249], [48.67019725962553, 5.714482382727335, -0.34748951670816397], [49.010344026993224, 5.974158298091593, 0.035653354133130755], [47.646238415099035, 6.139853212120684, -0.046840128554494376], [47.24326304568067, 4.65383588987412, 0.38005628000132274], [47.427545179744925, 5.805697389866126, 0.8682561748187806], [47.72301672328734, 5.4052044506207775, 0.4198870400227118], [46.76465896646831, 4.01633245805048, 3.5035136838656666], [46.29475697873314, 5.480449902224858, 0.13647272430563895], [48.56152291860804, 4.2995231316735465, 0.3931586517418717], [47.7194625347959, 5.614114015084677, 0.5250764388806015], [48.21231930229645, 4.980117982924576, 1.7628455786649848], [47.37604837318266, 3.4567312455017176, 0.5597954296694431], [47.80730112752378, 5.917611996114054, 0.5157612361086759], [50.172675512359994, 6.242132063618259, -0.5181671638975163], [46.777444188913655, 5.356296678706849, 1.983294223066554], [50.2692737806405, 4.943313308890384, 1.1294255485567115], [47.622606517281916, 5.029532189579689, 1.211359779918274], [47.402853263074924, 4.946978034458058, -0.8205431591119854], [46.238989793116254, 5.327218840163427, 0.6791647905816871]],\n",
       "                {&quot;blur&quot;: 15, &quot;maxZoom&quot;: 18, &quot;minOpacity&quot;: 0.5, &quot;radius&quot;: 25}\n",
       "            );\n",
       "        \n",
       "    \n",
       "            heat_map_c1eadd15e9e3d09981534cd8c6af87f5.addTo(map_fcb9f3d55f7c0a0bf6fcdba48b85292d);\n",
       "        \n",
       "&lt;/script&gt;\n",
       "&lt;/html&gt;\" style=\"position:absolute;width:100%;height:100%;left:0;top:0;border:none !important;\" allowfullscreen webkitallowfullscreen mozallowfullscreen></iframe></div></div>"
      ],
      "text/plain": [
       "<folium.folium.Map at 0x7fe9547ffb30>"
      ]
     },
     "execution_count": 2,
     "metadata": {},
     "output_type": "execute_result"
    }
   ],
   "source": [
    "import folium\n",
    "from folium.plugins import HeatMap\n",
    "\n",
    "m = folium.Map([48.0, 5.0], zoom_start=6)\n",
    "\n",
    "HeatMap(data).add_to(m)\n",
    "\n",
    "m"
   ]
  }
 ],
 "metadata": {
  "jupytext": {
   "text_representation": {
    "extension": ".mystnb",
    "format_name": "myst"
   }
  },
  "language_info": {
   "codemirror_mode": {
    "name": "ipython",
    "version": 3
   },
   "file_extension": ".py",
   "mimetype": "text/x-python",
   "name": "python",
   "nbconvert_exporter": "python",
   "pygments_lexer": "ipython3",
   "version": "3.12.3"
  }
 },
 "nbformat": 4,
 "nbformat_minor": 5
}
