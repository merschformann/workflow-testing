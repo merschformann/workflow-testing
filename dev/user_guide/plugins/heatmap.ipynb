{
 "cells": [
  {
   "cell_type": "markdown",
   "id": "ee6878ae",
   "metadata": {},
   "source": [
    "## Heatmap"
   ]
  },
  {
   "cell_type": "code",
   "execution_count": 1,
   "id": "51d06947",
   "metadata": {
    "execution": {
     "iopub.execute_input": "2024-06-03T20:57:21.383173Z",
     "iopub.status.busy": "2024-06-03T20:57:21.383011Z",
     "iopub.status.idle": "2024-06-03T20:57:21.442931Z",
     "shell.execute_reply": "2024-06-03T20:57:21.442456Z"
    }
   },
   "outputs": [],
   "source": [
    "import numpy as np\n",
    "\n",
    "data = (\n",
    "    np.random.normal(size=(100, 3)) * np.array([[1, 1, 1]]) + np.array([[48, 5, 1]])\n",
    ").tolist()"
   ]
  },
  {
   "cell_type": "code",
   "execution_count": 2,
   "id": "0aeb79d1",
   "metadata": {
    "execution": {
     "iopub.execute_input": "2024-06-03T20:57:21.446496Z",
     "iopub.status.busy": "2024-06-03T20:57:21.445624Z",
     "iopub.status.idle": "2024-06-03T20:57:21.884782Z",
     "shell.execute_reply": "2024-06-03T20:57:21.884229Z"
    }
   },
   "outputs": [
    {
     "data": {
      "text/html": [
       "<div style=\"width:100%;\"><div style=\"position:relative;width:100%;height:0;padding-bottom:60%;\"><span style=\"color:#565656\">Make this Notebook Trusted to load map: File -> Trust Notebook</span><iframe srcdoc=\"&lt;!DOCTYPE html&gt;\n",
       "&lt;html&gt;\n",
       "&lt;head&gt;\n",
       "    \n",
       "    &lt;meta http-equiv=&quot;content-type&quot; content=&quot;text/html; charset=UTF-8&quot; /&gt;\n",
       "    \n",
       "        &lt;script&gt;\n",
       "            L_NO_TOUCH = false;\n",
       "            L_DISABLE_3D = false;\n",
       "        &lt;/script&gt;\n",
       "    \n",
       "    &lt;style&gt;html, body {width: 100%;height: 100%;margin: 0;padding: 0;}&lt;/style&gt;\n",
       "    &lt;style&gt;#map {position:absolute;top:0;bottom:0;right:0;left:0;}&lt;/style&gt;\n",
       "    &lt;script src=&quot;https://cdn.jsdelivr.net/npm/leaflet@1.9.3/dist/leaflet.js&quot;&gt;&lt;/script&gt;\n",
       "    &lt;script src=&quot;https://code.jquery.com/jquery-3.7.1.min.js&quot;&gt;&lt;/script&gt;\n",
       "    &lt;script src=&quot;https://cdn.jsdelivr.net/npm/bootstrap@5.2.2/dist/js/bootstrap.bundle.min.js&quot;&gt;&lt;/script&gt;\n",
       "    &lt;script src=&quot;https://cdnjs.cloudflare.com/ajax/libs/Leaflet.awesome-markers/2.0.2/leaflet.awesome-markers.js&quot;&gt;&lt;/script&gt;\n",
       "    &lt;link rel=&quot;stylesheet&quot; href=&quot;https://cdn.jsdelivr.net/npm/leaflet@1.9.3/dist/leaflet.css&quot;/&gt;\n",
       "    &lt;link rel=&quot;stylesheet&quot; href=&quot;https://cdn.jsdelivr.net/npm/bootstrap@5.2.2/dist/css/bootstrap.min.css&quot;/&gt;\n",
       "    &lt;link rel=&quot;stylesheet&quot; href=&quot;https://netdna.bootstrapcdn.com/bootstrap/3.0.0/css/bootstrap-glyphicons.css&quot;/&gt;\n",
       "    &lt;link rel=&quot;stylesheet&quot; href=&quot;https://cdn.jsdelivr.net/npm/@fortawesome/fontawesome-free@6.2.0/css/all.min.css&quot;/&gt;\n",
       "    &lt;link rel=&quot;stylesheet&quot; href=&quot;https://cdnjs.cloudflare.com/ajax/libs/Leaflet.awesome-markers/2.0.2/leaflet.awesome-markers.css&quot;/&gt;\n",
       "    &lt;link rel=&quot;stylesheet&quot; href=&quot;https://cdn.jsdelivr.net/gh/python-visualization/folium/folium/templates/leaflet.awesome.rotate.min.css&quot;/&gt;\n",
       "    \n",
       "            &lt;meta name=&quot;viewport&quot; content=&quot;width=device-width,\n",
       "                initial-scale=1.0, maximum-scale=1.0, user-scalable=no&quot; /&gt;\n",
       "            &lt;style&gt;\n",
       "                #map_c103bedfe002969cf6664d3d5c2daedb {\n",
       "                    position: relative;\n",
       "                    width: 100.0%;\n",
       "                    height: 100.0%;\n",
       "                    left: 0.0%;\n",
       "                    top: 0.0%;\n",
       "                }\n",
       "                .leaflet-container { font-size: 1rem; }\n",
       "            &lt;/style&gt;\n",
       "        \n",
       "    &lt;script src=&quot;https://cdn.jsdelivr.net/gh/python-visualization/folium@main/folium/templates/leaflet_heat.min.js&quot;&gt;&lt;/script&gt;\n",
       "&lt;/head&gt;\n",
       "&lt;body&gt;\n",
       "    \n",
       "    \n",
       "            &lt;div class=&quot;folium-map&quot; id=&quot;map_c103bedfe002969cf6664d3d5c2daedb&quot; &gt;&lt;/div&gt;\n",
       "        \n",
       "&lt;/body&gt;\n",
       "&lt;script&gt;\n",
       "    \n",
       "    \n",
       "            var map_c103bedfe002969cf6664d3d5c2daedb = L.map(\n",
       "                &quot;map_c103bedfe002969cf6664d3d5c2daedb&quot;,\n",
       "                {\n",
       "                    center: [48.0, 5.0],\n",
       "                    crs: L.CRS.EPSG3857,\n",
       "                    zoom: 6,\n",
       "                    zoomControl: true,\n",
       "                    preferCanvas: false,\n",
       "                }\n",
       "            );\n",
       "\n",
       "            \n",
       "\n",
       "        \n",
       "    \n",
       "            var tile_layer_133fe7d23ac13daf1f8ef9d02d80c9ab = L.tileLayer(\n",
       "                &quot;https://tile.openstreetmap.org/{z}/{x}/{y}.png&quot;,\n",
       "                {&quot;attribution&quot;: &quot;\\u0026copy; \\u003ca href=\\&quot;https://www.openstreetmap.org/copyright\\&quot;\\u003eOpenStreetMap\\u003c/a\\u003e contributors&quot;, &quot;detectRetina&quot;: false, &quot;maxNativeZoom&quot;: 19, &quot;maxZoom&quot;: 19, &quot;minZoom&quot;: 0, &quot;noWrap&quot;: false, &quot;opacity&quot;: 1, &quot;subdomains&quot;: &quot;abc&quot;, &quot;tms&quot;: false}\n",
       "            );\n",
       "        \n",
       "    \n",
       "            tile_layer_133fe7d23ac13daf1f8ef9d02d80c9ab.addTo(map_c103bedfe002969cf6664d3d5c2daedb);\n",
       "        \n",
       "    \n",
       "            var heat_map_e6194716387fd4f2a3d4e8914f6fef80 = L.heatLayer(\n",
       "                [[47.19817428886662, 3.736530150011074, 0.24291156064934483], [47.92798996339139, 4.858013052002395, 1.4532430188170908], [48.42559355585686, 5.490662317555236, 0.7242361969381519], [46.62346822996815, 5.182173963282977, -0.7875836998116383], [47.92878997158951, 4.940953737396198, 0.04598544793722903], [46.292641586881295, 3.4722783064089926, 2.6291427996370107], [47.910575741747564, 4.801102774642397, 0.4769834491970678], [48.14283517773795, 2.5379955556948266, -0.4276676333168006], [47.2808891417431, 3.8698205226438294, 0.8589787848967247], [48.625102605184516, 4.35823799957068, 0.4056962233458019], [47.22962096038814, 6.167227528394069, 0.09638354313379283], [47.7617828975194, 4.2959307880836, 0.9291515403392134], [47.1051062257785, 4.582535946289005, 0.32443581639980734], [47.31642399412636, 4.843084943692726, 1.4666808407482077], [47.31966052255781, 4.454293386310415, 2.4698941399912404], [49.33656143377049, 2.69074481037836, 1.8805967478157717], [47.03758557137468, 4.9965674143272, -0.1985716353568998], [49.641945750772, 6.44813440702168, 1.4029622124636254], [48.477873451376794, 4.371111434452701, 0.6155266834642532], [46.30498518175688, 3.8420852761676496, 1.2811397087615615], [47.60977503384339, 4.9767854625958945, -0.26580739628358674], [48.01469282773545, 5.005617661413097, 1.2643348351920716], [47.9108202468178, 5.710279593651781, -0.07413729585988937], [48.54842497136863, 4.757523187810354, 1.1953189896293497], [46.96359298918064, 6.869378833758118, 0.7942693656908575], [46.530857087502106, 5.224480433190578, 1.1769436244570823], [47.55137855988065, 5.413849275700579, 0.9485288689133121], [48.75805960104766, 5.831639005993616, 0.0725811215435822], [48.06873131913869, 4.890085440252101, 2.374674390865584], [46.57173019123502, 4.504785738026137, 0.554777339569753], [47.385417076762934, 5.3339231221812025, 1.2847058645946228], [49.30476186301541, 4.845186541617453, -0.5498727939117005], [46.18399882398951, 3.99331387687908, 0.5446340209965431], [47.35324990496476, 5.560038475679185, 1.9127881945991947], [49.204326534538254, 5.393868489560598, 1.4829047558360597], [48.967085745137936, 4.663479159361721, 1.0588752114958067], [49.49376898449316, 4.669924433221308, 1.3844997872724454], [47.46064782588891, 6.039303471323949, 2.0381045517082548], [48.73872954485812, 6.798392263195039, 0.6659839295177401], [47.713892009260526, 3.8544086524919576, 1.657669287368165], [47.45945619345983, 5.578488749126346, 1.8675747977814574], [47.16648110436811, 5.352667898542648, -0.22119879253418762], [46.617571427745844, 4.969373330730187, 1.9176321249510573], [46.195377253616606, 2.7178301571698333, 2.157959282613419], [46.10238422784847, 4.153137497183887, 0.020577453544011748], [49.26356655981719, 5.084404168284622, 3.060401507273828], [47.73146449098106, 5.463707317814183, 0.2672598441585933], [49.62666709304833, 6.654688983368617, 2.1258681658896927], [48.031930801369, 3.6875629626424007, 0.08387608814748682], [47.661936118225235, 4.847342821956426, 0.6012206894390468], [49.67883405626762, 5.344801590052972, 0.08116852407649344], [47.67873675962737, 5.662394378761544, -0.4641740390156599], [47.25555859188397, 4.531358811890571, 1.0526440555167726], [47.0645921634477, 4.652229158684681, 0.13868791114245416], [47.90572291894766, 4.535320115497147, 0.8179061050156631], [49.66050388364233, 5.932652605001175, 0.25804378479023726], [47.13345628295991, 4.10721218003647, 0.8689829757129542], [47.00199843301181, 5.633953857461975, 0.5486481873362417], [46.970147724084214, 4.3244494761047045, 1.44925263972096], [47.5695374585931, 5.811322023241954, 2.0302224648198663], [48.13394947922208, 5.441909069260653, 1.0529481749955343], [47.9269290321027, 5.272661022159262, 0.9558543762909475], [48.37558533406202, 5.757782665327857, 1.136423625730261], [48.513304081406666, 5.013961214981086, 0.28295534557063606], [46.656937307490296, 3.0424927927577294, 1.3565390138414997], [47.743773326575244, 4.825662911583015, 1.6471398363954495], [48.01524005927434, 4.61528141284983, 2.012028623377957], [48.44489130608972, 3.7473184846311005, 1.8407708311752398], [47.98507490327847, 3.5527069717134716, 1.907272318756234], [47.88844832920801, 6.198173602699258, 0.7140664454148592], [47.22079802550643, 4.143395622771299, 2.141141965180511], [48.712796455814534, 4.855888408898623, 0.03223737903088075], [48.227906348019935, 4.475914287151486, 0.3420856740493412], [47.79033154616342, 4.015633824804219, 0.044602153710601056], [47.82809019828828, 4.011674360819952, 0.6986392359106475], [47.9078071362735, 4.05094796319365, 2.162587470819206], [47.78914944445614, 5.96171372154649, 1.2920889669354736], [47.48856638534199, 5.928343208979977, 0.2754482105965963], [47.00486066109821, 4.6605522243849276, 1.7626753883934994], [46.741584675505315, 4.8826641363477625, 2.6136489653014454], [48.45744942404354, 4.786006287950328, 1.585910369252478], [49.08986907737845, 3.5616524107759964, 1.0638368647910816], [48.59874710729662, 5.584775140083798, -0.5556929024823856], [48.89366768066894, 5.801463619781829, 1.1779844377083362], [47.057888759640186, 6.0867641103464765, 2.611874480415361], [47.60173057913532, 3.9263653827577514, -1.0546685704501666], [48.71456332382039, 5.807802702591097, 0.7892456905584301], [46.44674615340039, 6.4749255715060965, 0.9334128036822233], [46.908995965296214, 4.405151234515793, 1.4107920364333304], [47.24343513584995, 5.798458274024476, 0.46787603042759096], [49.071463266882034, 4.9897658057127865, 2.8522466976446466], [45.60009027731754, 4.577467172575124, 1.9291800719208603], [48.054755945974954, 4.4396583451637275, 1.8391686295784022], [48.50125371181735, 6.760989319357488, 0.34486019797717793], [49.429096493326504, 4.669998322888129, 1.9297269155932657], [47.20133702121918, 3.2901423166895842, 1.3171671717325566], [46.623395236569024, 4.3056687518806465, 1.794065704418328], [47.03883232755939, 5.1283254818379955, 2.7674475612354135], [47.5971902076469, 5.386410238671422, 1.0428901324623001], [48.63549230654099, 5.95167621414404, 1.4696151569051898]],\n",
       "                {&quot;blur&quot;: 15, &quot;maxZoom&quot;: 18, &quot;minOpacity&quot;: 0.5, &quot;radius&quot;: 25}\n",
       "            );\n",
       "        \n",
       "    \n",
       "            heat_map_e6194716387fd4f2a3d4e8914f6fef80.addTo(map_c103bedfe002969cf6664d3d5c2daedb);\n",
       "        \n",
       "&lt;/script&gt;\n",
       "&lt;/html&gt;\" style=\"position:absolute;width:100%;height:100%;left:0;top:0;border:none !important;\" allowfullscreen webkitallowfullscreen mozallowfullscreen></iframe></div></div>"
      ],
      "text/plain": [
       "<folium.folium.Map at 0x7f0cb0ceefc0>"
      ]
     },
     "execution_count": 2,
     "metadata": {},
     "output_type": "execute_result"
    }
   ],
   "source": [
    "import folium\n",
    "from folium.plugins import HeatMap\n",
    "\n",
    "m = folium.Map([48.0, 5.0], zoom_start=6)\n",
    "\n",
    "HeatMap(data).add_to(m)\n",
    "\n",
    "m"
   ]
  }
 ],
 "metadata": {
  "jupytext": {
   "text_representation": {
    "extension": ".mystnb",
    "format_name": "myst"
   }
  },
  "language_info": {
   "codemirror_mode": {
    "name": "ipython",
    "version": 3
   },
   "file_extension": ".py",
   "mimetype": "text/x-python",
   "name": "python",
   "nbconvert_exporter": "python",
   "pygments_lexer": "ipython3",
   "version": "3.12.3"
  }
 },
 "nbformat": 4,
 "nbformat_minor": 5
}
