{
 "cells": [
  {
   "cell_type": "markdown",
   "id": "1bd9aa1e",
   "metadata": {},
   "source": [
    "## Heatmap"
   ]
  },
  {
   "cell_type": "code",
   "execution_count": 1,
   "id": "8e33d235",
   "metadata": {
    "execution": {
     "iopub.execute_input": "2024-06-01T01:06:28.772364Z",
     "iopub.status.busy": "2024-06-01T01:06:28.772191Z",
     "iopub.status.idle": "2024-06-01T01:06:28.833349Z",
     "shell.execute_reply": "2024-06-01T01:06:28.832851Z"
    }
   },
   "outputs": [],
   "source": [
    "import numpy as np\n",
    "\n",
    "data = (\n",
    "    np.random.normal(size=(100, 3)) * np.array([[1, 1, 1]]) + np.array([[48, 5, 1]])\n",
    ").tolist()"
   ]
  },
  {
   "cell_type": "code",
   "execution_count": 2,
   "id": "1299405a",
   "metadata": {
    "execution": {
     "iopub.execute_input": "2024-06-01T01:06:28.837002Z",
     "iopub.status.busy": "2024-06-01T01:06:28.836119Z",
     "iopub.status.idle": "2024-06-01T01:06:29.286774Z",
     "shell.execute_reply": "2024-06-01T01:06:29.286226Z"
    }
   },
   "outputs": [
    {
     "data": {
      "text/html": [
       "<div style=\"width:100%;\"><div style=\"position:relative;width:100%;height:0;padding-bottom:60%;\"><span style=\"color:#565656\">Make this Notebook Trusted to load map: File -> Trust Notebook</span><iframe srcdoc=\"&lt;!DOCTYPE html&gt;\n",
       "&lt;html&gt;\n",
       "&lt;head&gt;\n",
       "    \n",
       "    &lt;meta http-equiv=&quot;content-type&quot; content=&quot;text/html; charset=UTF-8&quot; /&gt;\n",
       "    \n",
       "        &lt;script&gt;\n",
       "            L_NO_TOUCH = false;\n",
       "            L_DISABLE_3D = false;\n",
       "        &lt;/script&gt;\n",
       "    \n",
       "    &lt;style&gt;html, body {width: 100%;height: 100%;margin: 0;padding: 0;}&lt;/style&gt;\n",
       "    &lt;style&gt;#map {position:absolute;top:0;bottom:0;right:0;left:0;}&lt;/style&gt;\n",
       "    &lt;script src=&quot;https://cdn.jsdelivr.net/npm/leaflet@1.9.3/dist/leaflet.js&quot;&gt;&lt;/script&gt;\n",
       "    &lt;script src=&quot;https://code.jquery.com/jquery-3.7.1.min.js&quot;&gt;&lt;/script&gt;\n",
       "    &lt;script src=&quot;https://cdn.jsdelivr.net/npm/bootstrap@5.2.2/dist/js/bootstrap.bundle.min.js&quot;&gt;&lt;/script&gt;\n",
       "    &lt;script src=&quot;https://cdnjs.cloudflare.com/ajax/libs/Leaflet.awesome-markers/2.0.2/leaflet.awesome-markers.js&quot;&gt;&lt;/script&gt;\n",
       "    &lt;link rel=&quot;stylesheet&quot; href=&quot;https://cdn.jsdelivr.net/npm/leaflet@1.9.3/dist/leaflet.css&quot;/&gt;\n",
       "    &lt;link rel=&quot;stylesheet&quot; href=&quot;https://cdn.jsdelivr.net/npm/bootstrap@5.2.2/dist/css/bootstrap.min.css&quot;/&gt;\n",
       "    &lt;link rel=&quot;stylesheet&quot; href=&quot;https://netdna.bootstrapcdn.com/bootstrap/3.0.0/css/bootstrap-glyphicons.css&quot;/&gt;\n",
       "    &lt;link rel=&quot;stylesheet&quot; href=&quot;https://cdn.jsdelivr.net/npm/@fortawesome/fontawesome-free@6.2.0/css/all.min.css&quot;/&gt;\n",
       "    &lt;link rel=&quot;stylesheet&quot; href=&quot;https://cdnjs.cloudflare.com/ajax/libs/Leaflet.awesome-markers/2.0.2/leaflet.awesome-markers.css&quot;/&gt;\n",
       "    &lt;link rel=&quot;stylesheet&quot; href=&quot;https://cdn.jsdelivr.net/gh/python-visualization/folium/folium/templates/leaflet.awesome.rotate.min.css&quot;/&gt;\n",
       "    \n",
       "            &lt;meta name=&quot;viewport&quot; content=&quot;width=device-width,\n",
       "                initial-scale=1.0, maximum-scale=1.0, user-scalable=no&quot; /&gt;\n",
       "            &lt;style&gt;\n",
       "                #map_36e8a35d9a4333ab5be6cba2f7e86bf0 {\n",
       "                    position: relative;\n",
       "                    width: 100.0%;\n",
       "                    height: 100.0%;\n",
       "                    left: 0.0%;\n",
       "                    top: 0.0%;\n",
       "                }\n",
       "                .leaflet-container { font-size: 1rem; }\n",
       "            &lt;/style&gt;\n",
       "        \n",
       "    &lt;script src=&quot;https://cdn.jsdelivr.net/gh/python-visualization/folium@main/folium/templates/leaflet_heat.min.js&quot;&gt;&lt;/script&gt;\n",
       "&lt;/head&gt;\n",
       "&lt;body&gt;\n",
       "    \n",
       "    \n",
       "            &lt;div class=&quot;folium-map&quot; id=&quot;map_36e8a35d9a4333ab5be6cba2f7e86bf0&quot; &gt;&lt;/div&gt;\n",
       "        \n",
       "&lt;/body&gt;\n",
       "&lt;script&gt;\n",
       "    \n",
       "    \n",
       "            var map_36e8a35d9a4333ab5be6cba2f7e86bf0 = L.map(\n",
       "                &quot;map_36e8a35d9a4333ab5be6cba2f7e86bf0&quot;,\n",
       "                {\n",
       "                    center: [48.0, 5.0],\n",
       "                    crs: L.CRS.EPSG3857,\n",
       "                    zoom: 6,\n",
       "                    zoomControl: true,\n",
       "                    preferCanvas: false,\n",
       "                }\n",
       "            );\n",
       "\n",
       "            \n",
       "\n",
       "        \n",
       "    \n",
       "            var tile_layer_5fea75a6afca87d6dfa9d5bc9699a2ae = L.tileLayer(\n",
       "                &quot;https://tile.openstreetmap.org/{z}/{x}/{y}.png&quot;,\n",
       "                {&quot;attribution&quot;: &quot;\\u0026copy; \\u003ca href=\\&quot;https://www.openstreetmap.org/copyright\\&quot;\\u003eOpenStreetMap\\u003c/a\\u003e contributors&quot;, &quot;detectRetina&quot;: false, &quot;maxNativeZoom&quot;: 19, &quot;maxZoom&quot;: 19, &quot;minZoom&quot;: 0, &quot;noWrap&quot;: false, &quot;opacity&quot;: 1, &quot;subdomains&quot;: &quot;abc&quot;, &quot;tms&quot;: false}\n",
       "            );\n",
       "        \n",
       "    \n",
       "            tile_layer_5fea75a6afca87d6dfa9d5bc9699a2ae.addTo(map_36e8a35d9a4333ab5be6cba2f7e86bf0);\n",
       "        \n",
       "    \n",
       "            var heat_map_732603882fe2cdeb313d9be80bc02ecf = L.heatLayer(\n",
       "                [[48.23514602033616, 5.8483286000634385, 0.29172366902672764], [47.786257913323645, 4.3229911365490175, 1.1458118304019507], [50.11369643753335, 6.438116982393646, 0.20126983172062207], [48.43757297425969, 3.069522729396413, 1.0164255658224], [46.915791319773234, 6.156287313206932, 0.989287921005592], [47.358547367742545, 5.561312276305593, 1.4809213099045402], [49.61310843348537, 4.30545473161201, -0.8298435086185048], [48.332683021922385, 5.562176143361922, 0.7293538707521445], [47.81892662222979, 5.970337204814226, 0.9112663457024086], [50.08460676575556, 5.122136540955858, 0.8815401440467907], [48.06374016704798, 7.167901586726051, -0.061895172410041166], [48.42256134203708, 5.796453234170644, 1.2288262514863009], [47.91419337040823, 5.771743691951869, -0.390390091911214], [50.30336537850015, 4.690518248299322, -0.22251502241711796], [46.57798222510654, 5.094513636539963, 1.1738697599930836], [48.374712742066436, 5.5674866759040915, 1.343621805686378], [48.511610664456086, 4.335967902434003, 1.5735841841871905], [48.89976367560881, 2.83249568089678, 0.6417183366906194], [46.30683992653124, 5.432437644526061, -1.4967089646239873], [47.79890079242258, 6.26732880362009, 1.2196006123491345], [47.28224020567824, 4.6502790473104945, 0.897060124219269], [49.45316037446349, 5.483247847701761, 1.5037514040492121], [47.02190648745714, 5.784810117903855, -0.05569075777778432], [48.56989528830714, 5.20782199317037, 1.6238873446048403], [48.99739635038392, 5.2157782816992695, 0.32787306649137526], [48.57909603975279, 4.451339822878184, 0.9317125323419498], [46.932805898979915, 5.04695519689324, 1.1531565411190727], [47.576850903191385, 4.387209692522634, 1.4129008078476293], [48.2877390396228, 3.8935658733870726, 1.2429579377277662], [48.926723005908066, 4.544889788727114, 1.380299297822842], [48.40787879682962, 2.5713697107124966, 3.3746282085209], [47.20454272908068, 3.5847048896681937, 0.6766025817025956], [48.79045317533194, 5.132987974663797, -0.5840282104765335], [47.37988290641086, 4.6071078300398725, 2.254514135330708], [48.9844819958915, 6.1976368723141055, 0.7923771403290459], [48.70537659059525, 5.150867509478985, 1.8417092652621125], [45.43583338694021, 3.2118936028724416, 1.0980763979205115], [47.272649979982205, 6.509348144350442, 0.5665619793336516], [46.774908078489126, 4.4896216241063245, 1.3865886668498555], [47.29156498493398, 6.583026098729341, -1.3659521609197767], [48.99223202026969, 3.556627784174096, 2.5051319940153993], [46.469550202226074, 5.420349516015088, 0.7607974468194569], [49.697077913758655, 4.980302810988041, 0.32183109522421394], [48.647136790564254, 6.512125718175121, 1.202067393470606], [47.28464117574176, 4.862482178751526, 1.172543253285927], [48.060411568432365, 5.487920135216952, 1.6529305036408917], [47.865642826949525, 4.471259988868083, 0.7877599956350412], [46.312779784723816, 4.194190248667138, 0.49090240167100674], [47.0800477861593, 4.290884101058194, 0.16695719390211516], [48.34903177156189, 3.914922638668254, 0.6510672072969558], [48.55602360153815, 4.6912678841572175, 1.9130605084141257], [47.67783447414328, 4.243500374767447, 0.38633622381684407], [48.54858701016126, 5.869411580724363, 1.950922294952964], [47.593499078808364, 5.907550623870101, 0.7971742769516392], [48.874939950391045, 3.862363132929942, 0.7851318781691805], [49.08605982348929, 3.830563407094287, -0.025757984368763642], [47.70359350438594, 4.468264156985017, 2.3454035080244835], [48.707022413957816, 5.049254982291501, 1.6704486144856294], [47.02534414928831, 5.219336275863617, 0.25711304583996697], [47.72227274965015, 5.953812665450013, 0.5256824099981057], [47.61523613970374, 5.23833358798996, 1.597255631994222], [48.08314634027731, 4.624321605227742, -1.3196419526939023], [49.093187459884454, 5.025206080527594, 1.4738659497502864], [48.25205182623849, 6.430572510260613, 2.972904395314357], [48.466835181778784, 3.717094722686908, 2.912572816978313], [48.800931875633374, 4.989362166263153, 2.077833364674697], [48.171432320933334, 5.823710889740806, -0.883092351524579], [46.73826559651023, 4.624574943485969, 2.5159565038102434], [49.607328181667754, 4.693565765556903, 2.377736618475885], [47.29623002884994, 5.366898124593323, -0.5129825336519198], [49.816895272335316, 5.68096153846777, 2.5881133664522844], [48.6617904296473, 3.0139775806030826, 1.5745592187500441], [49.25372410095327, 6.243059506191282, -1.2480136602971448], [47.78438170366652, 4.717679908103406, -0.23757719582543046], [47.479497211089615, 3.5295479368198706, -0.3606975777914949], [49.221940508750876, 3.332421486450932, 0.05292110486981105], [48.55985203834621, 5.312989213436614, 2.8518266609288743], [48.2549401599999, 4.1849811293257115, 1.6382345583559472], [45.88990086768185, 6.256912359062321, 2.412699936246071], [46.780574611095744, 3.6403005176606955, 0.5499129151878517], [47.50745226541453, 6.52788967615222, -0.5966555457995213], [49.81656931831942, 6.731079652945868, -0.3648236911160576], [47.99989929143241, 5.318958680318164, 0.7613957265812455], [46.331799004554895, 4.208131915216384, 1.9615182655846481], [48.32401013441545, 4.484419286841002, 0.21669406899273547], [48.93009694891779, 5.4639139051486465, 0.7845641934044948], [46.98529928253896, 5.711024286363271, 0.8990334812188697], [47.74039095967695, 4.655612225352731, 1.207522758920931], [47.06141164203466, 3.153488073248183, 2.268198735688365], [48.23341707972824, 4.814211077144925, 1.0323878290600896], [48.268940763293145, 6.476513275449095, 2.5813141968624436], [47.29713985360616, 5.649254996718689, 0.8117845298568009], [49.348939100128746, 5.060311232897935, 1.504130472811187], [48.43497005684899, 5.576959283484891, 0.6806779550917542], [49.011185044998186, 6.750080415130685, 0.9250393131503235], [48.99544968038304, 7.189391918316704, 0.5879008203505081], [48.70134255251631, 6.127110932119582, 1.4590988754840861], [46.67651407233638, 4.7500491645076215, 0.9215753591275817], [48.462602617520275, 4.829239525895068, 0.5468193647268078], [46.853198177775845, 4.815378339423419, 0.9734488904964339]],\n",
       "                {&quot;blur&quot;: 15, &quot;maxZoom&quot;: 18, &quot;minOpacity&quot;: 0.5, &quot;radius&quot;: 25}\n",
       "            );\n",
       "        \n",
       "    \n",
       "            heat_map_732603882fe2cdeb313d9be80bc02ecf.addTo(map_36e8a35d9a4333ab5be6cba2f7e86bf0);\n",
       "        \n",
       "&lt;/script&gt;\n",
       "&lt;/html&gt;\" style=\"position:absolute;width:100%;height:100%;left:0;top:0;border:none !important;\" allowfullscreen webkitallowfullscreen mozallowfullscreen></iframe></div></div>"
      ],
      "text/plain": [
       "<folium.folium.Map at 0x7f1070bccce0>"
      ]
     },
     "execution_count": 2,
     "metadata": {},
     "output_type": "execute_result"
    }
   ],
   "source": [
    "import folium\n",
    "from folium.plugins import HeatMap\n",
    "\n",
    "m = folium.Map([48.0, 5.0], zoom_start=6)\n",
    "\n",
    "HeatMap(data).add_to(m)\n",
    "\n",
    "m"
   ]
  }
 ],
 "metadata": {
  "jupytext": {
   "text_representation": {
    "extension": ".mystnb",
    "format_name": "myst"
   }
  },
  "language_info": {
   "codemirror_mode": {
    "name": "ipython",
    "version": 3
   },
   "file_extension": ".py",
   "mimetype": "text/x-python",
   "name": "python",
   "nbconvert_exporter": "python",
   "pygments_lexer": "ipython3",
   "version": "3.12.3"
  }
 },
 "nbformat": 4,
 "nbformat_minor": 5
}
