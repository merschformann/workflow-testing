{
 "cells": [
  {
   "cell_type": "markdown",
   "id": "dd58077d",
   "metadata": {},
   "source": [
    "## Heatmap"
   ]
  },
  {
   "cell_type": "code",
   "execution_count": 1,
   "id": "b80bfba0",
   "metadata": {
    "execution": {
     "iopub.execute_input": "2024-06-03T20:58:14.624326Z",
     "iopub.status.busy": "2024-06-03T20:58:14.624153Z",
     "iopub.status.idle": "2024-06-03T20:58:14.683391Z",
     "shell.execute_reply": "2024-06-03T20:58:14.682952Z"
    }
   },
   "outputs": [],
   "source": [
    "import numpy as np\n",
    "\n",
    "data = (\n",
    "    np.random.normal(size=(100, 3)) * np.array([[1, 1, 1]]) + np.array([[48, 5, 1]])\n",
    ").tolist()"
   ]
  },
  {
   "cell_type": "code",
   "execution_count": 2,
   "id": "e84c23b7",
   "metadata": {
    "execution": {
     "iopub.execute_input": "2024-06-03T20:58:14.686674Z",
     "iopub.status.busy": "2024-06-03T20:58:14.685800Z",
     "iopub.status.idle": "2024-06-03T20:58:15.114838Z",
     "shell.execute_reply": "2024-06-03T20:58:15.114342Z"
    }
   },
   "outputs": [
    {
     "data": {
      "text/html": [
       "<div style=\"width:100%;\"><div style=\"position:relative;width:100%;height:0;padding-bottom:60%;\"><span style=\"color:#565656\">Make this Notebook Trusted to load map: File -> Trust Notebook</span><iframe srcdoc=\"&lt;!DOCTYPE html&gt;\n",
       "&lt;html&gt;\n",
       "&lt;head&gt;\n",
       "    \n",
       "    &lt;meta http-equiv=&quot;content-type&quot; content=&quot;text/html; charset=UTF-8&quot; /&gt;\n",
       "    \n",
       "        &lt;script&gt;\n",
       "            L_NO_TOUCH = false;\n",
       "            L_DISABLE_3D = false;\n",
       "        &lt;/script&gt;\n",
       "    \n",
       "    &lt;style&gt;html, body {width: 100%;height: 100%;margin: 0;padding: 0;}&lt;/style&gt;\n",
       "    &lt;style&gt;#map {position:absolute;top:0;bottom:0;right:0;left:0;}&lt;/style&gt;\n",
       "    &lt;script src=&quot;https://cdn.jsdelivr.net/npm/leaflet@1.9.3/dist/leaflet.js&quot;&gt;&lt;/script&gt;\n",
       "    &lt;script src=&quot;https://code.jquery.com/jquery-3.7.1.min.js&quot;&gt;&lt;/script&gt;\n",
       "    &lt;script src=&quot;https://cdn.jsdelivr.net/npm/bootstrap@5.2.2/dist/js/bootstrap.bundle.min.js&quot;&gt;&lt;/script&gt;\n",
       "    &lt;script src=&quot;https://cdnjs.cloudflare.com/ajax/libs/Leaflet.awesome-markers/2.0.2/leaflet.awesome-markers.js&quot;&gt;&lt;/script&gt;\n",
       "    &lt;link rel=&quot;stylesheet&quot; href=&quot;https://cdn.jsdelivr.net/npm/leaflet@1.9.3/dist/leaflet.css&quot;/&gt;\n",
       "    &lt;link rel=&quot;stylesheet&quot; href=&quot;https://cdn.jsdelivr.net/npm/bootstrap@5.2.2/dist/css/bootstrap.min.css&quot;/&gt;\n",
       "    &lt;link rel=&quot;stylesheet&quot; href=&quot;https://netdna.bootstrapcdn.com/bootstrap/3.0.0/css/bootstrap-glyphicons.css&quot;/&gt;\n",
       "    &lt;link rel=&quot;stylesheet&quot; href=&quot;https://cdn.jsdelivr.net/npm/@fortawesome/fontawesome-free@6.2.0/css/all.min.css&quot;/&gt;\n",
       "    &lt;link rel=&quot;stylesheet&quot; href=&quot;https://cdnjs.cloudflare.com/ajax/libs/Leaflet.awesome-markers/2.0.2/leaflet.awesome-markers.css&quot;/&gt;\n",
       "    &lt;link rel=&quot;stylesheet&quot; href=&quot;https://cdn.jsdelivr.net/gh/python-visualization/folium/folium/templates/leaflet.awesome.rotate.min.css&quot;/&gt;\n",
       "    \n",
       "            &lt;meta name=&quot;viewport&quot; content=&quot;width=device-width,\n",
       "                initial-scale=1.0, maximum-scale=1.0, user-scalable=no&quot; /&gt;\n",
       "            &lt;style&gt;\n",
       "                #map_c1cacbda7d0bf01a6dff08258902ac4b {\n",
       "                    position: relative;\n",
       "                    width: 100.0%;\n",
       "                    height: 100.0%;\n",
       "                    left: 0.0%;\n",
       "                    top: 0.0%;\n",
       "                }\n",
       "                .leaflet-container { font-size: 1rem; }\n",
       "            &lt;/style&gt;\n",
       "        \n",
       "    &lt;script src=&quot;https://cdn.jsdelivr.net/gh/python-visualization/folium@main/folium/templates/leaflet_heat.min.js&quot;&gt;&lt;/script&gt;\n",
       "&lt;/head&gt;\n",
       "&lt;body&gt;\n",
       "    \n",
       "    \n",
       "            &lt;div class=&quot;folium-map&quot; id=&quot;map_c1cacbda7d0bf01a6dff08258902ac4b&quot; &gt;&lt;/div&gt;\n",
       "        \n",
       "&lt;/body&gt;\n",
       "&lt;script&gt;\n",
       "    \n",
       "    \n",
       "            var map_c1cacbda7d0bf01a6dff08258902ac4b = L.map(\n",
       "                &quot;map_c1cacbda7d0bf01a6dff08258902ac4b&quot;,\n",
       "                {\n",
       "                    center: [48.0, 5.0],\n",
       "                    crs: L.CRS.EPSG3857,\n",
       "                    zoom: 6,\n",
       "                    zoomControl: true,\n",
       "                    preferCanvas: false,\n",
       "                }\n",
       "            );\n",
       "\n",
       "            \n",
       "\n",
       "        \n",
       "    \n",
       "            var tile_layer_6dd9e0d1e69d05ca8acacb68aa9f1bc9 = L.tileLayer(\n",
       "                &quot;https://tile.openstreetmap.org/{z}/{x}/{y}.png&quot;,\n",
       "                {&quot;attribution&quot;: &quot;\\u0026copy; \\u003ca href=\\&quot;https://www.openstreetmap.org/copyright\\&quot;\\u003eOpenStreetMap\\u003c/a\\u003e contributors&quot;, &quot;detectRetina&quot;: false, &quot;maxNativeZoom&quot;: 19, &quot;maxZoom&quot;: 19, &quot;minZoom&quot;: 0, &quot;noWrap&quot;: false, &quot;opacity&quot;: 1, &quot;subdomains&quot;: &quot;abc&quot;, &quot;tms&quot;: false}\n",
       "            );\n",
       "        \n",
       "    \n",
       "            tile_layer_6dd9e0d1e69d05ca8acacb68aa9f1bc9.addTo(map_c1cacbda7d0bf01a6dff08258902ac4b);\n",
       "        \n",
       "    \n",
       "            var heat_map_136d55f36be793ece1cce150c4cc5276 = L.heatLayer(\n",
       "                [[47.843442934885296, 5.045438091787631, 1.80274016653842], [46.95483718291795, 5.220314381946234, 0.699169584736766], [48.16917830513865, 6.677596629271909, 0.15111896943623504], [47.85943336775793, 6.6410514227353685, 3.696991286363878], [49.98356995581076, 5.885445565835373, 1.2310771530268052], [47.74764083063069, 4.411213101764993, 1.1810038948477102], [47.225877111000145, 3.450648774983544, 1.3107215932345573], [48.90875802079718, 5.039626308253084, 1.2206909317907981], [47.284566143118006, 5.243623120966205, 1.416224920622025], [48.948322581408235, 4.2435277356156424, 2.7316443860076363], [47.552990737839565, 4.30267914974125, -0.0202971946033057], [47.01981641735841, 5.125694345795254, -0.024040634799417315], [46.94360140805022, 5.168379793514666, 1.3725103067478772], [48.56968379453779, 5.214643676632963, -0.16784265870033854], [47.77971157027591, 5.471318593962648, 2.072868675182927], [47.053960146706295, 5.442473246075078, 2.3532323910762045], [45.460366210566406, 4.876639047862285, 0.5452018076893378], [48.36376857055139, 4.350279081107021, 1.7470416802935977], [49.94003627836237, 5.246424493656325, 2.0541353614862743], [46.835414741286066, 5.94467114191257, 0.5941816523057297], [47.615664058371024, 4.9249699341716475, 0.2182353674459604], [46.35044133096207, 5.4458292126832655, 1.8367389024333685], [48.51572119684127, 4.045028781282161, 1.1915429307495973], [48.36811601132692, 6.931658124839738, 2.060659999119045], [47.72041018204065, 5.922511759145124, 0.9208758658444187], [47.300783055447006, 5.009302837768433, 0.1832269075847921], [47.06774048942265, 5.200693290769006, -0.3369090588496986], [46.985522931977286, 3.27888735610047, 0.10697618712283152], [47.53855277586649, 6.087010677215601, 2.3667810232351814], [48.17479747325117, 6.135209885998944, 1.6424587811915605], [47.63428856331975, 3.823909866578134, 1.3380266653451058], [49.568783597761964, 4.774058123574706, 1.610666848573344], [48.80610925104187, 5.9715215389473055, 1.0357807817104114], [48.09530967217852, 5.1375782904413985, 2.235395916106042], [48.00337691317401, 2.815353325891125, 1.678211606364525], [48.364762999592266, 3.6483151134185707, 1.7810536761829492], [47.92493169349136, 4.348421126607591, 1.891694887580118], [47.60246918117768, 5.819522838370787, 1.7290046234373624], [47.95502295954153, 4.581084472090101, 1.5489494298554276], [47.955629391877395, 5.387424795666468, -0.16226746729662112], [48.03468533835902, 5.4186320297102695, 0.727490049019136], [48.792396060857115, 5.084488690733164, 2.407908190031227], [47.789983544968415, 6.123448747997352, 0.9594425963224557], [47.52879363081684, 3.843044492568506, 1.9975052642646127], [48.42601080477133, 4.181725255284154, 1.9906508503082345], [47.95245418588737, 4.175628107406087, 0.3266774011688939], [47.643981621977424, 4.710436375915881, -1.1043278577827458], [47.37101407041097, 4.9824815090435886, 2.132609053769573], [47.72600567992734, 3.194818104006201, 0.48946483852966693], [48.75829897068427, 4.453084440825634, 2.993580818952068], [47.69370359061575, 4.387937949064541, 1.8902091006685442], [47.741747413322294, 4.575398386345438, -0.450207294510772], [47.80544699828931, 5.743776721991324, 1.7318922909321457], [48.67515035188792, 4.348626424107659, 1.0267231874134508], [47.846639930929854, 4.834184789490016, 0.6303925155987107], [48.31511961579818, 4.024205655165873, 1.4305647430999728], [48.28112729819179, 5.804955134437384, 0.9217016138884906], [47.42535675710744, 4.289029433001936, 1.935233974900303], [48.06711053113035, 4.695319538305935, 1.596187639950159], [47.35260204092173, 5.486697779384404, 0.3902835339660845], [48.38925614316717, 5.417803544149689, 2.7861562433056832], [47.4785553948157, 6.538736506105815, 1.3183660463517215], [47.194003737311995, 5.2481008169613075, 0.17123937752910667], [47.91661995239555, 4.942032208206847, 0.7095962816033434], [49.846656908847834, 4.7752622919254035, -0.3992753467265473], [49.1621419324869, 4.809984804203845, 0.19578849911242768], [47.2334845261634, 4.572098757779796, 1.3644317418791836], [48.18083341996157, 4.238945084960626, 1.5046995461721728], [47.39880663574103, 4.549309141655062, -0.12988072090286007], [48.421175680380884, 5.0843356216169875, 1.6405244965627863], [47.38238747915335, 6.591005021929589, 0.589145697920963], [48.23963299542148, 3.9410304652320924, -0.14415344515737583], [45.572470555360844, 6.110421845411842, 1.1907126697850203], [47.81648613388102, 6.429914411591971, 0.6239505502781456], [48.99274009366494, 4.434684041561113, -0.38253751013147363], [48.51171182197775, 4.7229977266858345, -0.7061885287135501], [49.09638281903465, 5.794626684044197, 2.088669442586017], [46.23057527800097, 4.779778523784361, -0.13445972792247818], [46.92007079507607, 5.86808065247771, 1.4120537305312706], [47.99198090892136, 4.087221372619943, 0.4672427072294776], [47.56782115184271, 5.16307604366796, 1.8618687508127185], [48.074023865496095, 5.15606569889314, 2.3412859770579013], [48.191575405095975, 5.39443282339575, 1.5865378571986537], [47.128772689673454, 4.932046788930279, -0.15828302734529887], [48.84949942915196, 6.263178267987556, 1.0881618906910626], [46.11041104522358, 5.0281808434810085, 0.2612378298886565], [47.16296563274964, 4.907861920089946, 2.1970679301563814], [46.913341270347615, 6.293745449580406, 0.814279874850905], [49.039916134803924, 5.1793164318947005, 0.15605083989155177], [48.370567849986806, 5.376609967237645, -0.11770617390995519], [46.90009831472152, 4.0113023020622345, 1.3570638733968434], [47.16216456206156, 4.5118078787899005, 1.2001426589066095], [47.55896112759958, 4.174283461694108, 0.36502725877050446], [46.195432867369604, 4.319486827070163, 0.44056562543209454], [47.31377259321201, 3.0097047413593154, 1.2908279060122383], [47.96174123998461, 5.296810567955518, 0.6325808586987771], [49.64793257850878, 4.938674659107074, 1.9504200367658822], [48.43641564771476, 4.70389953082877, 1.3205717529700778], [47.86021642603251, 3.7682202583131046, -0.38925241585810566], [48.75175549577266, 5.142060881624075, 0.553676950256392]],\n",
       "                {&quot;blur&quot;: 15, &quot;maxZoom&quot;: 18, &quot;minOpacity&quot;: 0.5, &quot;radius&quot;: 25}\n",
       "            );\n",
       "        \n",
       "    \n",
       "            heat_map_136d55f36be793ece1cce150c4cc5276.addTo(map_c1cacbda7d0bf01a6dff08258902ac4b);\n",
       "        \n",
       "&lt;/script&gt;\n",
       "&lt;/html&gt;\" style=\"position:absolute;width:100%;height:100%;left:0;top:0;border:none !important;\" allowfullscreen webkitallowfullscreen mozallowfullscreen></iframe></div></div>"
      ],
      "text/plain": [
       "<folium.folium.Map at 0x7fc65c80a660>"
      ]
     },
     "execution_count": 2,
     "metadata": {},
     "output_type": "execute_result"
    }
   ],
   "source": [
    "import folium\n",
    "from folium.plugins import HeatMap\n",
    "\n",
    "m = folium.Map([48.0, 5.0], zoom_start=6)\n",
    "\n",
    "HeatMap(data).add_to(m)\n",
    "\n",
    "m"
   ]
  }
 ],
 "metadata": {
  "jupytext": {
   "text_representation": {
    "extension": ".mystnb",
    "format_name": "myst"
   }
  },
  "language_info": {
   "codemirror_mode": {
    "name": "ipython",
    "version": 3
   },
   "file_extension": ".py",
   "mimetype": "text/x-python",
   "name": "python",
   "nbconvert_exporter": "python",
   "pygments_lexer": "ipython3",
   "version": "3.12.3"
  }
 },
 "nbformat": 4,
 "nbformat_minor": 5
}
