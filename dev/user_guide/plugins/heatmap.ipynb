{
 "cells": [
  {
   "cell_type": "markdown",
   "id": "b35e9df9",
   "metadata": {},
   "source": [
    "## Heatmap"
   ]
  },
  {
   "cell_type": "code",
   "execution_count": 1,
   "id": "ca502f6c",
   "metadata": {
    "execution": {
     "iopub.execute_input": "2024-05-25T01:51:24.462890Z",
     "iopub.status.busy": "2024-05-25T01:51:24.462731Z",
     "iopub.status.idle": "2024-05-25T01:51:24.522496Z",
     "shell.execute_reply": "2024-05-25T01:51:24.522004Z"
    }
   },
   "outputs": [],
   "source": [
    "import numpy as np\n",
    "\n",
    "data = (\n",
    "    np.random.normal(size=(100, 3)) * np.array([[1, 1, 1]]) + np.array([[48, 5, 1]])\n",
    ").tolist()"
   ]
  },
  {
   "cell_type": "code",
   "execution_count": 2,
   "id": "e51ab528",
   "metadata": {
    "execution": {
     "iopub.execute_input": "2024-05-25T01:51:24.526184Z",
     "iopub.status.busy": "2024-05-25T01:51:24.525244Z",
     "iopub.status.idle": "2024-05-25T01:51:24.953632Z",
     "shell.execute_reply": "2024-05-25T01:51:24.953241Z"
    }
   },
   "outputs": [
    {
     "data": {
      "text/html": [
       "<div style=\"width:100%;\"><div style=\"position:relative;width:100%;height:0;padding-bottom:60%;\"><span style=\"color:#565656\">Make this Notebook Trusted to load map: File -> Trust Notebook</span><iframe srcdoc=\"&lt;!DOCTYPE html&gt;\n",
       "&lt;html&gt;\n",
       "&lt;head&gt;\n",
       "    \n",
       "    &lt;meta http-equiv=&quot;content-type&quot; content=&quot;text/html; charset=UTF-8&quot; /&gt;\n",
       "    \n",
       "        &lt;script&gt;\n",
       "            L_NO_TOUCH = false;\n",
       "            L_DISABLE_3D = false;\n",
       "        &lt;/script&gt;\n",
       "    \n",
       "    &lt;style&gt;html, body {width: 100%;height: 100%;margin: 0;padding: 0;}&lt;/style&gt;\n",
       "    &lt;style&gt;#map {position:absolute;top:0;bottom:0;right:0;left:0;}&lt;/style&gt;\n",
       "    &lt;script src=&quot;https://cdn.jsdelivr.net/npm/leaflet@1.9.3/dist/leaflet.js&quot;&gt;&lt;/script&gt;\n",
       "    &lt;script src=&quot;https://code.jquery.com/jquery-3.7.1.min.js&quot;&gt;&lt;/script&gt;\n",
       "    &lt;script src=&quot;https://cdn.jsdelivr.net/npm/bootstrap@5.2.2/dist/js/bootstrap.bundle.min.js&quot;&gt;&lt;/script&gt;\n",
       "    &lt;script src=&quot;https://cdnjs.cloudflare.com/ajax/libs/Leaflet.awesome-markers/2.0.2/leaflet.awesome-markers.js&quot;&gt;&lt;/script&gt;\n",
       "    &lt;link rel=&quot;stylesheet&quot; href=&quot;https://cdn.jsdelivr.net/npm/leaflet@1.9.3/dist/leaflet.css&quot;/&gt;\n",
       "    &lt;link rel=&quot;stylesheet&quot; href=&quot;https://cdn.jsdelivr.net/npm/bootstrap@5.2.2/dist/css/bootstrap.min.css&quot;/&gt;\n",
       "    &lt;link rel=&quot;stylesheet&quot; href=&quot;https://netdna.bootstrapcdn.com/bootstrap/3.0.0/css/bootstrap-glyphicons.css&quot;/&gt;\n",
       "    &lt;link rel=&quot;stylesheet&quot; href=&quot;https://cdn.jsdelivr.net/npm/@fortawesome/fontawesome-free@6.2.0/css/all.min.css&quot;/&gt;\n",
       "    &lt;link rel=&quot;stylesheet&quot; href=&quot;https://cdnjs.cloudflare.com/ajax/libs/Leaflet.awesome-markers/2.0.2/leaflet.awesome-markers.css&quot;/&gt;\n",
       "    &lt;link rel=&quot;stylesheet&quot; href=&quot;https://cdn.jsdelivr.net/gh/python-visualization/folium/folium/templates/leaflet.awesome.rotate.min.css&quot;/&gt;\n",
       "    \n",
       "            &lt;meta name=&quot;viewport&quot; content=&quot;width=device-width,\n",
       "                initial-scale=1.0, maximum-scale=1.0, user-scalable=no&quot; /&gt;\n",
       "            &lt;style&gt;\n",
       "                #map_2ea295646afabed849aac80beb2ffe04 {\n",
       "                    position: relative;\n",
       "                    width: 100.0%;\n",
       "                    height: 100.0%;\n",
       "                    left: 0.0%;\n",
       "                    top: 0.0%;\n",
       "                }\n",
       "                .leaflet-container { font-size: 1rem; }\n",
       "            &lt;/style&gt;\n",
       "        \n",
       "    &lt;script src=&quot;https://cdn.jsdelivr.net/gh/python-visualization/folium@main/folium/templates/leaflet_heat.min.js&quot;&gt;&lt;/script&gt;\n",
       "&lt;/head&gt;\n",
       "&lt;body&gt;\n",
       "    \n",
       "    \n",
       "            &lt;div class=&quot;folium-map&quot; id=&quot;map_2ea295646afabed849aac80beb2ffe04&quot; &gt;&lt;/div&gt;\n",
       "        \n",
       "&lt;/body&gt;\n",
       "&lt;script&gt;\n",
       "    \n",
       "    \n",
       "            var map_2ea295646afabed849aac80beb2ffe04 = L.map(\n",
       "                &quot;map_2ea295646afabed849aac80beb2ffe04&quot;,\n",
       "                {\n",
       "                    center: [48.0, 5.0],\n",
       "                    crs: L.CRS.EPSG3857,\n",
       "                    zoom: 6,\n",
       "                    zoomControl: true,\n",
       "                    preferCanvas: false,\n",
       "                }\n",
       "            );\n",
       "\n",
       "            \n",
       "\n",
       "        \n",
       "    \n",
       "            var tile_layer_41e2a1ef53b925da0f539352dbaa769d = L.tileLayer(\n",
       "                &quot;https://tile.openstreetmap.org/{z}/{x}/{y}.png&quot;,\n",
       "                {&quot;attribution&quot;: &quot;\\u0026copy; \\u003ca href=\\&quot;https://www.openstreetmap.org/copyright\\&quot;\\u003eOpenStreetMap\\u003c/a\\u003e contributors&quot;, &quot;detectRetina&quot;: false, &quot;maxNativeZoom&quot;: 19, &quot;maxZoom&quot;: 19, &quot;minZoom&quot;: 0, &quot;noWrap&quot;: false, &quot;opacity&quot;: 1, &quot;subdomains&quot;: &quot;abc&quot;, &quot;tms&quot;: false}\n",
       "            );\n",
       "        \n",
       "    \n",
       "            tile_layer_41e2a1ef53b925da0f539352dbaa769d.addTo(map_2ea295646afabed849aac80beb2ffe04);\n",
       "        \n",
       "    \n",
       "            var heat_map_9e76c1264b36cc31e25bfcf4ab3ec167 = L.heatLayer(\n",
       "                [[48.11148991043203, 4.477451765149987, 1.08784573232216], [48.67556792405218, 5.247191717185674, 0.4191702696439099], [46.26003235791307, 4.1994162510373645, 0.6927573295192733], [48.59931880571532, 2.545410525022979, 1.5121469235264149], [46.82775963330009, 7.374601319877233, 0.9811814609903663], [49.29253972265402, 7.1145724181218535, 2.2007462526334223], [48.73079328996518, 6.086898424145912, 1.173494975739487], [48.229961602964785, 5.630535606310215, 1.5537032225167824], [44.65901505782823, 6.796538099650947, 0.8382215843981982], [46.54052581334663, 5.537098354867869, 2.5312105149128747], [48.22226087239731, 6.44036099077645, 0.2767207085402479], [47.91400103784259, 5.717652667920032, 0.6715432399429633], [47.430058661916235, 5.700916459964137, 0.6956000729088276], [48.828265891319056, 3.740289616441098, 0.8401973922184396], [46.93166152052811, 5.918538449377246, 0.27727624544846863], [48.93196223304843, 4.991390365651365, 1.6281169518269456], [47.79571537045833, 5.899421940164395, 0.5981456818692927], [47.97259062039108, 6.77005918065068, 1.3499878898585411], [46.117068596432304, 4.846387457161276, 2.233737953853203], [48.52574941852508, 4.383739094270977, 0.5849519499435627], [46.83469707105171, 5.5652928159304125, 1.124469926066585], [48.18531384002159, 3.7694222236950408, 0.34228118182443323], [49.815858739782634, 5.61005029664465, 0.9768456677893063], [49.71434095049651, 4.586944139376103, 2.835418653505129], [49.62248997378544, 3.213621853088774, 1.778981409527046], [47.83983686080563, 4.275689937468495, 1.102209180312085], [46.41760280115754, 2.9483462371136175, 0.20532855199117295], [48.359884223895406, 4.1282731821984315, 0.5308963613299507], [47.73182735382065, 4.984927493046002, 2.4513858326191156], [47.065059380565756, 4.076614288082281, 0.5923250325712832], [49.03636652716326, 4.020135689901438, -0.660369006787586], [47.40397107703814, 5.391337489036965, 1.9753156505864822], [46.3408026109758, 5.4824052203971565, 0.7369243886134721], [49.11240876197648, 4.994815040134954, 1.1916260654925193], [47.03428363642881, 7.139185373816476, 0.4150333062344208], [48.922581534681036, 5.406144841941579, 2.7018176018218965], [47.57880420406483, 4.827054341551158, -0.27450761162083137], [46.32418839464208, 4.86133885131983, 0.5740303151150423], [47.19496657651524, 4.871273890027364, 0.8202988176025109], [50.00113867046605, 6.555095109533444, 0.5999100233663842], [46.78345691457264, 4.886188233929199, 1.0580043980034426], [48.1091919132399, 6.213440781137875, 2.8969743672090216], [47.77462128320913, 5.411959405698692, 0.4839312579964986], [47.474013750081745, 6.501992844800211, 1.1973697145840045], [45.53860285231889, 3.7212434784930983, 3.3409882168816414], [47.073527472311355, 4.123020948631457, 0.9383232562373363], [47.42077212179248, 6.285277188115689, 1.6867279660890482], [46.53428468720461, 5.011958645849039, -0.7209743628950971], [48.883125587125505, 3.828274528743607, 2.0707766065884328], [47.92885377620707, 4.674740281270575, 1.291877797305804], [48.57681248202891, 4.364069796486275, 2.3931729371692367], [47.93042174043697, 6.439830667007037, 1.8673970785427234], [47.304197412532496, 4.7294548659602595, 0.006363565334854826], [47.67868249591913, 4.1241344538853, 2.218705985075925], [47.48783656023976, 6.44906869470991, 2.0332207867012775], [46.96193158336165, 5.811003044261631, 0.47084296809333004], [49.41464788684267, 7.277256325061677, 1.7142644517608074], [45.33446049670788, 5.147307657143381, 1.8547602932420157], [47.983542440804, 6.111163325606722, 0.5122868234311746], [46.31514604903098, 4.075896058620324, 0.4966144368655193], [50.20733934950957, 5.017236133677391, 1.2997689101271004], [49.47427180646362, 5.515933610946348, 1.6934809030860363], [49.34312402941302, 5.113080215485863, 1.2948919661429672], [47.959576026381775, 5.893433224731325, 0.5227774181518251], [47.11403635285091, 5.114422094151334, 1.9542014745098992], [47.19906087977271, 4.362143155661572, 1.6864126637018437], [49.05117031033814, 3.9892865673326607, 0.038349951141890215], [47.08827216598726, 3.952888129075798, -1.9613592150187715], [49.62674489072398, 6.962044786734686, 0.3259583114251612], [49.96752781100571, 5.1773085393115625, 0.47057962724450764], [48.47617208445369, 5.643648065001797, 1.2755733401963423], [48.00194560979129, 5.411201654674857, 0.6173453378468754], [47.195010910905225, 4.364202176737561, 0.9962346730220856], [48.56665477958143, 4.764041967047041, 2.287324037625028], [48.558353816201894, 5.065060812356926, 1.106228916742354], [49.17089243588252, 5.207805651196851, 0.7704384954716667], [47.27811860526218, 5.279355635042848, 1.2419325164577306], [47.57691530918281, 3.447161041926536, 0.37300347736467565], [48.78381144548811, 3.464524263726709, -0.9646868429165851], [48.874661484989744, 4.408346376019605, 0.02898367378800104], [48.542748410232974, 5.726241961086467, 1.4418521938511693], [46.986047406584966, 4.184110343730383, 2.92914487002519], [46.528703182072206, 3.1737105697828376, 2.8477116598619885], [47.9911365064418, 3.3782228911963124, 0.7200501928815659], [48.50861026777108, 5.085406236031901, 0.2543923152127644], [50.09576103177118, 5.895851336712868, -0.5760979228822487], [47.93856315697166, 6.079600072998594, 1.0894350372205919], [47.7460235195869, 4.446470114019188, 0.48362762284761274], [47.041767577074765, 4.082326485967828, 1.1918381983976398], [48.18249311219386, 3.8312003516584214, 0.1430119548644464], [47.607877372605, 5.934773273825905, 2.1421877837011802], [46.845055821844085, 4.183951894875919, 2.523148012843345], [48.97977645302854, 4.645116546135414, 1.9243754541232687], [47.41214772525117, 6.552895115466655, 0.908069439428282], [48.580363325535494, 6.420702314319288, 1.9449784759922581], [49.930648391897925, 5.478260758093869, 0.5977309833484951], [48.02684260549301, 3.6949080147014506, -0.4108404240687533], [46.08447623727176, 5.799700422400385, 1.8206497554024543], [47.834156437312224, 6.812414371002669, 1.6950093701291875], [46.149012467986395, 5.287273221580218, 0.07277476114711323]],\n",
       "                {&quot;blur&quot;: 15, &quot;maxZoom&quot;: 18, &quot;minOpacity&quot;: 0.5, &quot;radius&quot;: 25}\n",
       "            );\n",
       "        \n",
       "    \n",
       "            heat_map_9e76c1264b36cc31e25bfcf4ab3ec167.addTo(map_2ea295646afabed849aac80beb2ffe04);\n",
       "        \n",
       "&lt;/script&gt;\n",
       "&lt;/html&gt;\" style=\"position:absolute;width:100%;height:100%;left:0;top:0;border:none !important;\" allowfullscreen webkitallowfullscreen mozallowfullscreen></iframe></div></div>"
      ],
      "text/plain": [
       "<folium.folium.Map at 0x7fbe5c9255b0>"
      ]
     },
     "execution_count": 2,
     "metadata": {},
     "output_type": "execute_result"
    }
   ],
   "source": [
    "import folium\n",
    "from folium.plugins import HeatMap\n",
    "\n",
    "m = folium.Map([48.0, 5.0], zoom_start=6)\n",
    "\n",
    "HeatMap(data).add_to(m)\n",
    "\n",
    "m"
   ]
  }
 ],
 "metadata": {
  "jupytext": {
   "text_representation": {
    "extension": ".mystnb",
    "format_name": "myst"
   }
  },
  "language_info": {
   "codemirror_mode": {
    "name": "ipython",
    "version": 3
   },
   "file_extension": ".py",
   "mimetype": "text/x-python",
   "name": "python",
   "nbconvert_exporter": "python",
   "pygments_lexer": "ipython3",
   "version": "3.12.3"
  }
 },
 "nbformat": 4,
 "nbformat_minor": 5
}
