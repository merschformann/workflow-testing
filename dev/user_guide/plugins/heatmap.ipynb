{
 "cells": [
  {
   "cell_type": "markdown",
   "id": "78038845",
   "metadata": {},
   "source": [
    "## Heatmap"
   ]
  },
  {
   "cell_type": "code",
   "execution_count": 1,
   "id": "c103c37a",
   "metadata": {
    "execution": {
     "iopub.execute_input": "2024-06-03T20:23:16.616280Z",
     "iopub.status.busy": "2024-06-03T20:23:16.616121Z",
     "iopub.status.idle": "2024-06-03T20:23:16.677234Z",
     "shell.execute_reply": "2024-06-03T20:23:16.676730Z"
    }
   },
   "outputs": [],
   "source": [
    "import numpy as np\n",
    "\n",
    "data = (\n",
    "    np.random.normal(size=(100, 3)) * np.array([[1, 1, 1]]) + np.array([[48, 5, 1]])\n",
    ").tolist()"
   ]
  },
  {
   "cell_type": "code",
   "execution_count": 2,
   "id": "6cde8829",
   "metadata": {
    "execution": {
     "iopub.execute_input": "2024-06-03T20:23:16.680897Z",
     "iopub.status.busy": "2024-06-03T20:23:16.680013Z",
     "iopub.status.idle": "2024-06-03T20:23:17.135674Z",
     "shell.execute_reply": "2024-06-03T20:23:17.135220Z"
    }
   },
   "outputs": [
    {
     "data": {
      "text/html": [
       "<div style=\"width:100%;\"><div style=\"position:relative;width:100%;height:0;padding-bottom:60%;\"><span style=\"color:#565656\">Make this Notebook Trusted to load map: File -> Trust Notebook</span><iframe srcdoc=\"&lt;!DOCTYPE html&gt;\n",
       "&lt;html&gt;\n",
       "&lt;head&gt;\n",
       "    \n",
       "    &lt;meta http-equiv=&quot;content-type&quot; content=&quot;text/html; charset=UTF-8&quot; /&gt;\n",
       "    \n",
       "        &lt;script&gt;\n",
       "            L_NO_TOUCH = false;\n",
       "            L_DISABLE_3D = false;\n",
       "        &lt;/script&gt;\n",
       "    \n",
       "    &lt;style&gt;html, body {width: 100%;height: 100%;margin: 0;padding: 0;}&lt;/style&gt;\n",
       "    &lt;style&gt;#map {position:absolute;top:0;bottom:0;right:0;left:0;}&lt;/style&gt;\n",
       "    &lt;script src=&quot;https://cdn.jsdelivr.net/npm/leaflet@1.9.3/dist/leaflet.js&quot;&gt;&lt;/script&gt;\n",
       "    &lt;script src=&quot;https://code.jquery.com/jquery-3.7.1.min.js&quot;&gt;&lt;/script&gt;\n",
       "    &lt;script src=&quot;https://cdn.jsdelivr.net/npm/bootstrap@5.2.2/dist/js/bootstrap.bundle.min.js&quot;&gt;&lt;/script&gt;\n",
       "    &lt;script src=&quot;https://cdnjs.cloudflare.com/ajax/libs/Leaflet.awesome-markers/2.0.2/leaflet.awesome-markers.js&quot;&gt;&lt;/script&gt;\n",
       "    &lt;link rel=&quot;stylesheet&quot; href=&quot;https://cdn.jsdelivr.net/npm/leaflet@1.9.3/dist/leaflet.css&quot;/&gt;\n",
       "    &lt;link rel=&quot;stylesheet&quot; href=&quot;https://cdn.jsdelivr.net/npm/bootstrap@5.2.2/dist/css/bootstrap.min.css&quot;/&gt;\n",
       "    &lt;link rel=&quot;stylesheet&quot; href=&quot;https://netdna.bootstrapcdn.com/bootstrap/3.0.0/css/bootstrap-glyphicons.css&quot;/&gt;\n",
       "    &lt;link rel=&quot;stylesheet&quot; href=&quot;https://cdn.jsdelivr.net/npm/@fortawesome/fontawesome-free@6.2.0/css/all.min.css&quot;/&gt;\n",
       "    &lt;link rel=&quot;stylesheet&quot; href=&quot;https://cdnjs.cloudflare.com/ajax/libs/Leaflet.awesome-markers/2.0.2/leaflet.awesome-markers.css&quot;/&gt;\n",
       "    &lt;link rel=&quot;stylesheet&quot; href=&quot;https://cdn.jsdelivr.net/gh/python-visualization/folium/folium/templates/leaflet.awesome.rotate.min.css&quot;/&gt;\n",
       "    \n",
       "            &lt;meta name=&quot;viewport&quot; content=&quot;width=device-width,\n",
       "                initial-scale=1.0, maximum-scale=1.0, user-scalable=no&quot; /&gt;\n",
       "            &lt;style&gt;\n",
       "                #map_adafca2c42efa4d4025cde9e3ae3f52e {\n",
       "                    position: relative;\n",
       "                    width: 100.0%;\n",
       "                    height: 100.0%;\n",
       "                    left: 0.0%;\n",
       "                    top: 0.0%;\n",
       "                }\n",
       "                .leaflet-container { font-size: 1rem; }\n",
       "            &lt;/style&gt;\n",
       "        \n",
       "    &lt;script src=&quot;https://cdn.jsdelivr.net/gh/python-visualization/folium@main/folium/templates/leaflet_heat.min.js&quot;&gt;&lt;/script&gt;\n",
       "&lt;/head&gt;\n",
       "&lt;body&gt;\n",
       "    \n",
       "    \n",
       "            &lt;div class=&quot;folium-map&quot; id=&quot;map_adafca2c42efa4d4025cde9e3ae3f52e&quot; &gt;&lt;/div&gt;\n",
       "        \n",
       "&lt;/body&gt;\n",
       "&lt;script&gt;\n",
       "    \n",
       "    \n",
       "            var map_adafca2c42efa4d4025cde9e3ae3f52e = L.map(\n",
       "                &quot;map_adafca2c42efa4d4025cde9e3ae3f52e&quot;,\n",
       "                {\n",
       "                    center: [48.0, 5.0],\n",
       "                    crs: L.CRS.EPSG3857,\n",
       "                    zoom: 6,\n",
       "                    zoomControl: true,\n",
       "                    preferCanvas: false,\n",
       "                }\n",
       "            );\n",
       "\n",
       "            \n",
       "\n",
       "        \n",
       "    \n",
       "            var tile_layer_e06e7583bb149e6b5fc4e12bf2c34f8d = L.tileLayer(\n",
       "                &quot;https://tile.openstreetmap.org/{z}/{x}/{y}.png&quot;,\n",
       "                {&quot;attribution&quot;: &quot;\\u0026copy; \\u003ca href=\\&quot;https://www.openstreetmap.org/copyright\\&quot;\\u003eOpenStreetMap\\u003c/a\\u003e contributors&quot;, &quot;detectRetina&quot;: false, &quot;maxNativeZoom&quot;: 19, &quot;maxZoom&quot;: 19, &quot;minZoom&quot;: 0, &quot;noWrap&quot;: false, &quot;opacity&quot;: 1, &quot;subdomains&quot;: &quot;abc&quot;, &quot;tms&quot;: false}\n",
       "            );\n",
       "        \n",
       "    \n",
       "            tile_layer_e06e7583bb149e6b5fc4e12bf2c34f8d.addTo(map_adafca2c42efa4d4025cde9e3ae3f52e);\n",
       "        \n",
       "    \n",
       "            var heat_map_b1ba3194e4cb19e547f9e22182ef6fef = L.heatLayer(\n",
       "                [[47.66331686323325, 7.106897796134427, 1.6150100828385732], [49.71476687223916, 3.2434156199525805, 0.3030281418334726], [45.638330198142256, 6.346892893104168, 0.26697820264988725], [46.03475050165478, 4.944073828313803, -0.47619800581350935], [49.821013660161064, 3.229870187717551, 0.4848845752191254], [47.136488613594196, 6.567288603167727, 2.052709956711254], [49.219409608871025, 6.6069603514269915, -0.4889662993816801], [47.9758528391334, 4.509626172852471, 0.9916514024796078], [48.83484975133242, 6.0611161486537135, 1.7382937235463825], [50.46444827915769, 5.453361531723821, 0.34454249653629443], [48.6579683312157, 5.146568997913024, 1.8602298300292535], [48.504754459259004, 5.161614860771791, 0.1897204485806493], [47.474761680600444, 5.5178750895001825, 1.80999956018542], [48.702492174885265, 4.53953040968032, -0.21781919784127957], [47.12130814808963, 6.231994038187485, -0.769281286841172], [46.96940998098498, 5.091793656817478, 3.799427514494219], [47.10761993683674, 3.399055397852796, 0.8428274207461214], [46.7757466612416, 4.9081026275098765, 3.1973842436599615], [46.57093548879127, 4.529280288884163, 1.2168068754144201], [48.469359166489006, 4.7057028928982705, -0.9169288138026399], [48.03061177391405, 4.201636528403874, 0.12052127154277203], [47.517436809357456, 1.7223690660148767, 0.6747920414761455], [47.33825594926717, 4.701145783881852, 1.564463588345348], [48.7184204567971, 4.6266946603952634, 1.1292451606544194], [48.99327221241508, 4.942471786917119, 0.7550733520846026], [47.73458224976885, 5.112198078993558, 1.3563271950928235], [48.216630900893435, 5.43293583152212, 1.5976818728835531], [47.89860854500242, 6.0075004313362985, 0.7775084970734837], [48.57828210746608, 6.087170174735331, 0.4079391233524521], [47.37780803396427, 5.839800511870186, 1.6774287493872464], [48.98784914942286, 5.257215523118899, 1.5316198142916562], [48.30355523592179, 5.061865431502426, -0.18290510926170422], [49.58435439724727, 5.891728967708933, 0.665577733608298], [48.82240666162679, 7.620560696236035, 0.1558585265156015], [47.82309542424654, 4.626950764189839, 1.6483476588303987], [47.43671091418549, 4.449501049645489, 2.0656945592473264], [48.079278122011765, 5.2178206845622315, 0.06549699146604937], [47.31860507270831, 3.8203222433015087, 0.7421987827070655], [48.732701201585456, 4.215559236699265, 0.8631105016312886], [47.87912561795128, 4.895150478517538, 1.8667124129186496], [48.74006240875678, 6.298730574228809, -0.15244064371471389], [50.59379130492499, 5.021735691931935, 2.750841102021427], [49.18637187650622, 5.328686749451958, 0.706091417620957], [48.79061267539005, 2.7705987362124826, 1.735474178195325], [49.22496343126346, 4.844878597642043, 1.3363719832235155], [49.28813043707286, 6.655656057414488, 1.005891314836292], [46.68958013632495, 6.324788329645152, 0.6316490607425516], [46.855566534148416, 5.122429030333318, 1.7623881413505316], [47.74918206801037, 5.571187450459748, 1.1443533420356455], [47.94048032309457, 5.375454516476889, 1.824009883001938], [47.59728015803505, 4.503817586736473, 0.6621813125991568], [48.42303354449143, 5.13040275298613, 1.4971555735191413], [48.05627806075888, 4.989598158871383, 0.44782598001142815], [47.589860267341464, 6.783238334184106, 1.3659373710041613], [48.15819093195652, 5.808800120814173, -0.6821823422408948], [47.76494760212008, 4.214079245518539, 2.9045601239909384], [48.45800321198157, 3.520984119864444, 0.7648408658100302], [46.74346399284146, 6.21086279718663, 1.656933025327715], [47.28067783709197, 6.241366015057979, -0.5688099052039215], [48.99011207240874, 2.235620896834917, 0.5354741162539893], [48.22577487023252, 6.163492084526083, 3.1984392609748813], [47.72097317475777, 4.3763399322657754, 1.4028872045805054], [47.44679234954854, 4.826789850636861, 0.6086990049549598], [49.667672400182376, 3.6271927483575452, 0.3109172458177214], [47.5057348121175, 4.64703164108784, 0.38843593956516653], [48.3888233952861, 3.910476155511925, -0.11108484913864847], [47.58701051428512, 5.511625392856843, 0.9906602419014573], [47.319414855998346, 4.658607576553113, 2.032582909417468], [47.727856806176916, 6.58663572667363, -0.8465009130981049], [48.469759568828444, 5.988584421908776, 2.193353883198191], [47.720596913158296, 6.289670499612144, -0.1681153959713586], [49.659534752501024, 4.419212603854094, 0.28591983005413213], [47.99014069890519, 5.1740312101840455, 0.08369417499256948], [49.05695397034526, 4.774217768056654, -0.748244184444185], [49.149311290470145, 4.3038870505037465, 1.5705535177145622], [48.39231528798969, 4.725126257761244, 1.1061070574712444], [47.24560953852779, 4.811774508942891, 0.726111496524003], [49.99827069179371, 5.283741338965604, -1.066399682898946], [48.13281927664844, 5.6358956537314215, 0.9166431597867686], [46.87301132914327, 4.8605770398972, 0.7707476940295968], [49.47827861624578, 6.1919947166609015, 1.2216502775267424], [46.76189387323052, 4.635749408405678, 0.5079547226320503], [48.9959212833428, 6.092063083250485, 1.7012618290651145], [47.69309749141185, 3.721631503979508, 1.4334133675786564], [48.659692579816685, 4.354730599185696, 0.8429568084101409], [48.692484195443924, 4.855192544968987, 1.2360503512438705], [46.57642199414968, 4.959028165386569, 0.8487961319586514], [47.596696813902405, 4.77016901043722, 1.0670644746969866], [48.81858554242989, 5.320939068954127, 0.4231787892527955], [48.1440608199028, 5.498579148621808, 1.117159656526222], [49.07701644517281, 5.257033251660835, -0.4457650099701489], [48.372133999446824, 5.751227150887571, -0.3051321393188613], [46.45036126475762, 4.272942436975787, 0.454747541604828], [47.689318142314896, 5.800816834841944, 0.26258080935774675], [48.97946222684491, 6.256830653910497, 0.07217558254827239], [49.158266137418316, 5.767956934269173, 1.5630046031958922], [46.47655300269843, 5.532282885025879, 0.726154524323102], [48.57244247154147, 4.429288653577996, -0.2496185354724283], [49.604471387648125, 4.037827027093233, 0.6246307315254478], [47.508298051914764, 4.618586477453758, 1.3840380987308598]],\n",
       "                {&quot;blur&quot;: 15, &quot;maxZoom&quot;: 18, &quot;minOpacity&quot;: 0.5, &quot;radius&quot;: 25}\n",
       "            );\n",
       "        \n",
       "    \n",
       "            heat_map_b1ba3194e4cb19e547f9e22182ef6fef.addTo(map_adafca2c42efa4d4025cde9e3ae3f52e);\n",
       "        \n",
       "&lt;/script&gt;\n",
       "&lt;/html&gt;\" style=\"position:absolute;width:100%;height:100%;left:0;top:0;border:none !important;\" allowfullscreen webkitallowfullscreen mozallowfullscreen></iframe></div></div>"
      ],
      "text/plain": [
       "<folium.folium.Map at 0x7f002c8d11c0>"
      ]
     },
     "execution_count": 2,
     "metadata": {},
     "output_type": "execute_result"
    }
   ],
   "source": [
    "import folium\n",
    "from folium.plugins import HeatMap\n",
    "\n",
    "m = folium.Map([48.0, 5.0], zoom_start=6)\n",
    "\n",
    "HeatMap(data).add_to(m)\n",
    "\n",
    "m"
   ]
  }
 ],
 "metadata": {
  "jupytext": {
   "text_representation": {
    "extension": ".mystnb",
    "format_name": "myst"
   }
  },
  "language_info": {
   "codemirror_mode": {
    "name": "ipython",
    "version": 3
   },
   "file_extension": ".py",
   "mimetype": "text/x-python",
   "name": "python",
   "nbconvert_exporter": "python",
   "pygments_lexer": "ipython3",
   "version": "3.12.3"
  }
 },
 "nbformat": 4,
 "nbformat_minor": 5
}
