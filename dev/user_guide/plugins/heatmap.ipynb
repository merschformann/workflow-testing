{
 "cells": [
  {
   "cell_type": "markdown",
   "id": "05d737d4",
   "metadata": {},
   "source": [
    "## Heatmap"
   ]
  },
  {
   "cell_type": "code",
   "execution_count": 1,
   "id": "f80e380f",
   "metadata": {
    "execution": {
     "iopub.execute_input": "2024-05-24T15:30:33.666748Z",
     "iopub.status.busy": "2024-05-24T15:30:33.666583Z",
     "iopub.status.idle": "2024-05-24T15:30:33.725904Z",
     "shell.execute_reply": "2024-05-24T15:30:33.725455Z"
    }
   },
   "outputs": [],
   "source": [
    "import numpy as np\n",
    "\n",
    "data = (\n",
    "    np.random.normal(size=(100, 3)) * np.array([[1, 1, 1]]) + np.array([[48, 5, 1]])\n",
    ").tolist()"
   ]
  },
  {
   "cell_type": "code",
   "execution_count": 2,
   "id": "7a6bd500",
   "metadata": {
    "execution": {
     "iopub.execute_input": "2024-05-24T15:30:33.729217Z",
     "iopub.status.busy": "2024-05-24T15:30:33.728320Z",
     "iopub.status.idle": "2024-05-24T15:30:34.158567Z",
     "shell.execute_reply": "2024-05-24T15:30:34.158118Z"
    }
   },
   "outputs": [
    {
     "data": {
      "text/html": [
       "<div style=\"width:100%;\"><div style=\"position:relative;width:100%;height:0;padding-bottom:60%;\"><span style=\"color:#565656\">Make this Notebook Trusted to load map: File -> Trust Notebook</span><iframe srcdoc=\"&lt;!DOCTYPE html&gt;\n",
       "&lt;html&gt;\n",
       "&lt;head&gt;\n",
       "    \n",
       "    &lt;meta http-equiv=&quot;content-type&quot; content=&quot;text/html; charset=UTF-8&quot; /&gt;\n",
       "    \n",
       "        &lt;script&gt;\n",
       "            L_NO_TOUCH = false;\n",
       "            L_DISABLE_3D = false;\n",
       "        &lt;/script&gt;\n",
       "    \n",
       "    &lt;style&gt;html, body {width: 100%;height: 100%;margin: 0;padding: 0;}&lt;/style&gt;\n",
       "    &lt;style&gt;#map {position:absolute;top:0;bottom:0;right:0;left:0;}&lt;/style&gt;\n",
       "    &lt;script src=&quot;https://cdn.jsdelivr.net/npm/leaflet@1.9.3/dist/leaflet.js&quot;&gt;&lt;/script&gt;\n",
       "    &lt;script src=&quot;https://code.jquery.com/jquery-3.7.1.min.js&quot;&gt;&lt;/script&gt;\n",
       "    &lt;script src=&quot;https://cdn.jsdelivr.net/npm/bootstrap@5.2.2/dist/js/bootstrap.bundle.min.js&quot;&gt;&lt;/script&gt;\n",
       "    &lt;script src=&quot;https://cdnjs.cloudflare.com/ajax/libs/Leaflet.awesome-markers/2.0.2/leaflet.awesome-markers.js&quot;&gt;&lt;/script&gt;\n",
       "    &lt;link rel=&quot;stylesheet&quot; href=&quot;https://cdn.jsdelivr.net/npm/leaflet@1.9.3/dist/leaflet.css&quot;/&gt;\n",
       "    &lt;link rel=&quot;stylesheet&quot; href=&quot;https://cdn.jsdelivr.net/npm/bootstrap@5.2.2/dist/css/bootstrap.min.css&quot;/&gt;\n",
       "    &lt;link rel=&quot;stylesheet&quot; href=&quot;https://netdna.bootstrapcdn.com/bootstrap/3.0.0/css/bootstrap-glyphicons.css&quot;/&gt;\n",
       "    &lt;link rel=&quot;stylesheet&quot; href=&quot;https://cdn.jsdelivr.net/npm/@fortawesome/fontawesome-free@6.2.0/css/all.min.css&quot;/&gt;\n",
       "    &lt;link rel=&quot;stylesheet&quot; href=&quot;https://cdnjs.cloudflare.com/ajax/libs/Leaflet.awesome-markers/2.0.2/leaflet.awesome-markers.css&quot;/&gt;\n",
       "    &lt;link rel=&quot;stylesheet&quot; href=&quot;https://cdn.jsdelivr.net/gh/python-visualization/folium/folium/templates/leaflet.awesome.rotate.min.css&quot;/&gt;\n",
       "    \n",
       "            &lt;meta name=&quot;viewport&quot; content=&quot;width=device-width,\n",
       "                initial-scale=1.0, maximum-scale=1.0, user-scalable=no&quot; /&gt;\n",
       "            &lt;style&gt;\n",
       "                #map_5aacdc8e35282cc2ac4ca664bfd3df6e {\n",
       "                    position: relative;\n",
       "                    width: 100.0%;\n",
       "                    height: 100.0%;\n",
       "                    left: 0.0%;\n",
       "                    top: 0.0%;\n",
       "                }\n",
       "                .leaflet-container { font-size: 1rem; }\n",
       "            &lt;/style&gt;\n",
       "        \n",
       "    &lt;script src=&quot;https://cdn.jsdelivr.net/gh/python-visualization/folium@main/folium/templates/leaflet_heat.min.js&quot;&gt;&lt;/script&gt;\n",
       "&lt;/head&gt;\n",
       "&lt;body&gt;\n",
       "    \n",
       "    \n",
       "            &lt;div class=&quot;folium-map&quot; id=&quot;map_5aacdc8e35282cc2ac4ca664bfd3df6e&quot; &gt;&lt;/div&gt;\n",
       "        \n",
       "&lt;/body&gt;\n",
       "&lt;script&gt;\n",
       "    \n",
       "    \n",
       "            var map_5aacdc8e35282cc2ac4ca664bfd3df6e = L.map(\n",
       "                &quot;map_5aacdc8e35282cc2ac4ca664bfd3df6e&quot;,\n",
       "                {\n",
       "                    center: [48.0, 5.0],\n",
       "                    crs: L.CRS.EPSG3857,\n",
       "                    zoom: 6,\n",
       "                    zoomControl: true,\n",
       "                    preferCanvas: false,\n",
       "                }\n",
       "            );\n",
       "\n",
       "            \n",
       "\n",
       "        \n",
       "    \n",
       "            var tile_layer_9df239cf8a007536ea9435cf4dcbaca4 = L.tileLayer(\n",
       "                &quot;https://tile.openstreetmap.org/{z}/{x}/{y}.png&quot;,\n",
       "                {&quot;attribution&quot;: &quot;\\u0026copy; \\u003ca href=\\&quot;https://www.openstreetmap.org/copyright\\&quot;\\u003eOpenStreetMap\\u003c/a\\u003e contributors&quot;, &quot;detectRetina&quot;: false, &quot;maxNativeZoom&quot;: 19, &quot;maxZoom&quot;: 19, &quot;minZoom&quot;: 0, &quot;noWrap&quot;: false, &quot;opacity&quot;: 1, &quot;subdomains&quot;: &quot;abc&quot;, &quot;tms&quot;: false}\n",
       "            );\n",
       "        \n",
       "    \n",
       "            tile_layer_9df239cf8a007536ea9435cf4dcbaca4.addTo(map_5aacdc8e35282cc2ac4ca664bfd3df6e);\n",
       "        \n",
       "    \n",
       "            var heat_map_e18e5a8d1dab77965f0c5bb033d51eb3 = L.heatLayer(\n",
       "                [[49.23975683216103, 5.665261952336274, -0.3885027823283933], [48.15961444785595, 7.260940408728197, 1.3685427478218597], [48.78264781314928, 5.9603047238154305, 1.0306870462494364], [49.776522453437956, 5.924973252917026, 1.5661714301049203], [48.10830531523592, 4.636214006026299, -0.505413796042983], [48.73460620277516, 4.049396994734965, 0.23020597342264415], [50.07768121783839, 3.766670664010772, 1.4538280598796969], [47.264644407549945, 5.302561724856476, 1.4599994818583757], [48.89970576345499, 5.987952107123496, 0.7552847668745922], [47.83306937420347, 3.405434255631642, 0.8164010497470287], [47.875557549154564, 6.29707573956527, 1.236606807116253], [48.272638611596406, 6.829223882857214, 0.6725246953858444], [48.235843145692215, 7.422827124095125, 1.4410238162849225], [47.05327997724839, 5.762533499596534, 1.8255361012072417], [48.78982406157971, 5.200455884797949, -0.2802591014651379], [48.03041369340764, 5.3462129263200415, 1.1577937984210256], [46.68454754364272, 2.9722487972967713, 0.40759403443871256], [47.186178975931696, 6.2716199987456775, 0.12377328240721153], [47.198190730594504, 3.869411822141614, 2.610975851888573], [46.72568303585053, 4.143882755056965, 0.9726454207045144], [48.663951985784344, 5.620462280697448, 1.6025722674625356], [47.84061062576881, 3.961045189905439, 1.0359923401435926], [47.85410298733113, 4.598349583456539, 0.7452105640945696], [47.2960692495914, 4.087692357440487, 0.04097717734398165], [50.03021512022929, 2.8720710050048153, -0.08352611981235092], [47.49221516149309, 5.4118376202634195, 1.987131208181943], [48.1385545741298, 3.9918376092321637, 0.8785796556491151], [49.50509542445845, 5.482845825494655, 2.146220485032835], [49.366160951968624, 4.142003552824802, 1.5942187583010343], [47.399521113114275, 4.209164168738795, 1.184123074008536], [48.63254257948939, 5.454423653204972, 2.4643993361506245], [47.34710053553883, 5.071781473482395, 2.3029393500733057], [49.807939483220615, 4.074399595537309, 0.06534651992194063], [47.71069305766721, 5.180680540192856, 0.5209795383709275], [44.88500056011172, 6.271285000434123, 1.5027713374767355], [47.62444199631142, 6.088067384367017, 0.4889984374387667], [49.069196066342464, 6.066966950888345, 0.1695812781598156], [49.46690562222994, 7.048292800227367, 0.7958133484053309], [45.9010887223995, 5.09988710422031, 0.858764931385325], [47.26962452609118, 5.480407194429528, 1.451041855579909], [47.706968690060954, 6.216207764302046, 0.5893656204281217], [50.17780682428055, 5.331978028922445, 2.144660183288966], [45.256128442166144, 6.511312442350849, -0.05272697564738493], [47.80704278823142, 4.335202301080652, 0.6632039934150968], [46.12625303973582, 4.906493185423338, 0.9195336015099457], [49.21588134175613, 4.490149671144469, 0.8187107433174106], [48.338965932153506, 3.639494733301683, 0.6502145331322962], [48.0204187533293, 4.695022461395233, 1.8310830420945852], [49.400041780986996, 3.8033355780053517, 3.876108128507605], [48.46864189896742, 4.315836707270386, 0.5375051533258806], [47.80916762208222, 5.6707766456834845, 0.7110531747030038], [45.6819543529992, 6.293401287219116, 2.2532281248907147], [47.81203474046606, 4.718346417532931, 2.0075987566808], [48.620068715381244, 5.651468379644777, -0.9870905160516072], [47.689121690688964, 4.381563368655731, 2.251842037062457], [46.94001034917371, 3.338917736693821, 1.4146191359616278], [47.69272071521934, 4.08191532059005, 1.9089653201924772], [49.32264978075661, 5.503079080204325, 2.1027770246178097], [48.90615450160756, 7.337874030047599, 1.2479886234974387], [49.00913012794491, 6.235250953006952, 1.624718742508593], [46.897934924651494, 6.493521436703896, -0.06815974045905082], [49.11565008282995, 5.321945880874874, -0.06882275868166787], [50.57979589233166, 5.038088586541197, 1.386742986474801], [47.08076988591343, 7.297787227460898, 2.389150955894997], [48.44851549599876, 5.311045237727909, 1.264379114623779], [49.18607891810483, 4.519827314466802, 1.0166872384030197], [47.708842479096965, 5.473665057553719, 1.5329808914390788], [49.30501682903585, 6.104633391765241, 1.0694417005765884], [48.330983772018584, 4.433378117893229, 1.358102631596306], [48.70400031559715, 4.5032167658813504, -0.8664498062261912], [47.95266566365152, 4.069807819531777, 0.7540303842329992], [49.610162103359265, 4.56605690264598, 0.6267474548051232], [48.421035987693166, 6.525080184892959, 1.7400867859253848], [47.88296353147537, 4.734759893616826, 0.5869760586010007], [46.93219429332832, 4.655374307555858, 3.8471257228540527], [49.878371981374016, 3.730377710251903, 0.8330120657032027], [46.65515421638142, 5.156690147683718, 0.716162288118741], [48.090004238572476, 4.173434988027234, 0.31325808982088965], [49.585654015586236, 4.7653662084000015, 1.6134245720832001], [48.60555442386154, 3.381358210826507, 0.8847370955819269], [48.586701501583434, 5.4836974627976875, 0.06349645709865526], [47.585936696175025, 4.103061349847863, 1.1550540422075177], [48.62969126170731, 4.102245685203417, 0.9795128116949072], [49.13644479669627, 4.095980321966058, -0.6373771060684177], [49.79569999757668, 6.079676405047231, 0.3239557510391995], [47.95425710192591, 5.711362803050655, 2.19266098057778], [48.383801820977375, 6.420590785357158, -1.216365614068482], [47.433851804911825, 4.217085886650874, 1.7251430031251007], [48.48125097067049, 5.2055466825206125, 1.4059885618781287], [49.202479579648, 4.071927153190987, -0.12734435586750603], [48.409947124424136, 4.223219888627581, 2.3790150580523655], [48.18947187338411, 3.714087446390038, 1.0369863637338372], [48.44175547683514, 4.084083907647362, 1.2726880418061723], [48.34634151027617, 3.7117929157344953, 1.737595174389895], [47.26003546104578, 6.4762176356184185, -1.307226063004106], [49.71150148265699, 4.301124463779533, 0.4406622633210002], [47.868662451318436, 5.4378417323207815, 3.0020631722598217], [49.626866333796116, 4.7713678674720725, 1.3763315768826458], [49.5353991575348, 4.515759854077018, 3.02117228932647], [46.00354734626067, 5.880994716178744, -0.3751530307994584]],\n",
       "                {&quot;blur&quot;: 15, &quot;maxZoom&quot;: 18, &quot;minOpacity&quot;: 0.5, &quot;radius&quot;: 25}\n",
       "            );\n",
       "        \n",
       "    \n",
       "            heat_map_e18e5a8d1dab77965f0c5bb033d51eb3.addTo(map_5aacdc8e35282cc2ac4ca664bfd3df6e);\n",
       "        \n",
       "&lt;/script&gt;\n",
       "&lt;/html&gt;\" style=\"position:absolute;width:100%;height:100%;left:0;top:0;border:none !important;\" allowfullscreen webkitallowfullscreen mozallowfullscreen></iframe></div></div>"
      ],
      "text/plain": [
       "<folium.folium.Map at 0x7f8fae11c830>"
      ]
     },
     "execution_count": 2,
     "metadata": {},
     "output_type": "execute_result"
    }
   ],
   "source": [
    "import folium\n",
    "from folium.plugins import HeatMap\n",
    "\n",
    "m = folium.Map([48.0, 5.0], zoom_start=6)\n",
    "\n",
    "HeatMap(data).add_to(m)\n",
    "\n",
    "m"
   ]
  }
 ],
 "metadata": {
  "jupytext": {
   "text_representation": {
    "extension": ".mystnb",
    "format_name": "myst"
   }
  },
  "language_info": {
   "codemirror_mode": {
    "name": "ipython",
    "version": 3
   },
   "file_extension": ".py",
   "mimetype": "text/x-python",
   "name": "python",
   "nbconvert_exporter": "python",
   "pygments_lexer": "ipython3",
   "version": "3.12.3"
  }
 },
 "nbformat": 4,
 "nbformat_minor": 5
}
