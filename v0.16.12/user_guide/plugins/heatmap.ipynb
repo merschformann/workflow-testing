{
 "cells": [
  {
   "cell_type": "markdown",
   "id": "8d79ca00",
   "metadata": {},
   "source": [
    "## Heatmap"
   ]
  },
  {
   "cell_type": "code",
   "execution_count": 1,
   "id": "904cc087",
   "metadata": {
    "execution": {
     "iopub.execute_input": "2024-05-25T01:56:09.304288Z",
     "iopub.status.busy": "2024-05-25T01:56:09.304124Z",
     "iopub.status.idle": "2024-05-25T01:56:09.363491Z",
     "shell.execute_reply": "2024-05-25T01:56:09.363047Z"
    }
   },
   "outputs": [],
   "source": [
    "import numpy as np\n",
    "\n",
    "data = (\n",
    "    np.random.normal(size=(100, 3)) * np.array([[1, 1, 1]]) + np.array([[48, 5, 1]])\n",
    ").tolist()"
   ]
  },
  {
   "cell_type": "code",
   "execution_count": 2,
   "id": "22a39bf1",
   "metadata": {
    "execution": {
     "iopub.execute_input": "2024-05-25T01:56:09.366825Z",
     "iopub.status.busy": "2024-05-25T01:56:09.365969Z",
     "iopub.status.idle": "2024-05-25T01:56:09.799779Z",
     "shell.execute_reply": "2024-05-25T01:56:09.799262Z"
    }
   },
   "outputs": [
    {
     "data": {
      "text/html": [
       "<div style=\"width:100%;\"><div style=\"position:relative;width:100%;height:0;padding-bottom:60%;\"><span style=\"color:#565656\">Make this Notebook Trusted to load map: File -> Trust Notebook</span><iframe srcdoc=\"&lt;!DOCTYPE html&gt;\n",
       "&lt;html&gt;\n",
       "&lt;head&gt;\n",
       "    \n",
       "    &lt;meta http-equiv=&quot;content-type&quot; content=&quot;text/html; charset=UTF-8&quot; /&gt;\n",
       "    \n",
       "        &lt;script&gt;\n",
       "            L_NO_TOUCH = false;\n",
       "            L_DISABLE_3D = false;\n",
       "        &lt;/script&gt;\n",
       "    \n",
       "    &lt;style&gt;html, body {width: 100%;height: 100%;margin: 0;padding: 0;}&lt;/style&gt;\n",
       "    &lt;style&gt;#map {position:absolute;top:0;bottom:0;right:0;left:0;}&lt;/style&gt;\n",
       "    &lt;script src=&quot;https://cdn.jsdelivr.net/npm/leaflet@1.9.3/dist/leaflet.js&quot;&gt;&lt;/script&gt;\n",
       "    &lt;script src=&quot;https://code.jquery.com/jquery-3.7.1.min.js&quot;&gt;&lt;/script&gt;\n",
       "    &lt;script src=&quot;https://cdn.jsdelivr.net/npm/bootstrap@5.2.2/dist/js/bootstrap.bundle.min.js&quot;&gt;&lt;/script&gt;\n",
       "    &lt;script src=&quot;https://cdnjs.cloudflare.com/ajax/libs/Leaflet.awesome-markers/2.0.2/leaflet.awesome-markers.js&quot;&gt;&lt;/script&gt;\n",
       "    &lt;link rel=&quot;stylesheet&quot; href=&quot;https://cdn.jsdelivr.net/npm/leaflet@1.9.3/dist/leaflet.css&quot;/&gt;\n",
       "    &lt;link rel=&quot;stylesheet&quot; href=&quot;https://cdn.jsdelivr.net/npm/bootstrap@5.2.2/dist/css/bootstrap.min.css&quot;/&gt;\n",
       "    &lt;link rel=&quot;stylesheet&quot; href=&quot;https://netdna.bootstrapcdn.com/bootstrap/3.0.0/css/bootstrap-glyphicons.css&quot;/&gt;\n",
       "    &lt;link rel=&quot;stylesheet&quot; href=&quot;https://cdn.jsdelivr.net/npm/@fortawesome/fontawesome-free@6.2.0/css/all.min.css&quot;/&gt;\n",
       "    &lt;link rel=&quot;stylesheet&quot; href=&quot;https://cdnjs.cloudflare.com/ajax/libs/Leaflet.awesome-markers/2.0.2/leaflet.awesome-markers.css&quot;/&gt;\n",
       "    &lt;link rel=&quot;stylesheet&quot; href=&quot;https://cdn.jsdelivr.net/gh/python-visualization/folium/folium/templates/leaflet.awesome.rotate.min.css&quot;/&gt;\n",
       "    \n",
       "            &lt;meta name=&quot;viewport&quot; content=&quot;width=device-width,\n",
       "                initial-scale=1.0, maximum-scale=1.0, user-scalable=no&quot; /&gt;\n",
       "            &lt;style&gt;\n",
       "                #map_b03e1b365224aadf4cc13eab9c7f51a8 {\n",
       "                    position: relative;\n",
       "                    width: 100.0%;\n",
       "                    height: 100.0%;\n",
       "                    left: 0.0%;\n",
       "                    top: 0.0%;\n",
       "                }\n",
       "                .leaflet-container { font-size: 1rem; }\n",
       "            &lt;/style&gt;\n",
       "        \n",
       "    &lt;script src=&quot;https://cdn.jsdelivr.net/gh/python-visualization/folium@main/folium/templates/leaflet_heat.min.js&quot;&gt;&lt;/script&gt;\n",
       "&lt;/head&gt;\n",
       "&lt;body&gt;\n",
       "    \n",
       "    \n",
       "            &lt;div class=&quot;folium-map&quot; id=&quot;map_b03e1b365224aadf4cc13eab9c7f51a8&quot; &gt;&lt;/div&gt;\n",
       "        \n",
       "&lt;/body&gt;\n",
       "&lt;script&gt;\n",
       "    \n",
       "    \n",
       "            var map_b03e1b365224aadf4cc13eab9c7f51a8 = L.map(\n",
       "                &quot;map_b03e1b365224aadf4cc13eab9c7f51a8&quot;,\n",
       "                {\n",
       "                    center: [48.0, 5.0],\n",
       "                    crs: L.CRS.EPSG3857,\n",
       "                    zoom: 6,\n",
       "                    zoomControl: true,\n",
       "                    preferCanvas: false,\n",
       "                }\n",
       "            );\n",
       "\n",
       "            \n",
       "\n",
       "        \n",
       "    \n",
       "            var tile_layer_29e089cea1c4ba1ad73757a172fea72a = L.tileLayer(\n",
       "                &quot;https://tile.openstreetmap.org/{z}/{x}/{y}.png&quot;,\n",
       "                {&quot;attribution&quot;: &quot;\\u0026copy; \\u003ca href=\\&quot;https://www.openstreetmap.org/copyright\\&quot;\\u003eOpenStreetMap\\u003c/a\\u003e contributors&quot;, &quot;detectRetina&quot;: false, &quot;maxNativeZoom&quot;: 19, &quot;maxZoom&quot;: 19, &quot;minZoom&quot;: 0, &quot;noWrap&quot;: false, &quot;opacity&quot;: 1, &quot;subdomains&quot;: &quot;abc&quot;, &quot;tms&quot;: false}\n",
       "            );\n",
       "        \n",
       "    \n",
       "            tile_layer_29e089cea1c4ba1ad73757a172fea72a.addTo(map_b03e1b365224aadf4cc13eab9c7f51a8);\n",
       "        \n",
       "    \n",
       "            var heat_map_e3ff3b091d888eb5cbabae0a6c7028ee = L.heatLayer(\n",
       "                [[47.02583307800745, 4.19027933126865, 1.5547074077683953], [46.871984959241374, 3.3832280609577277, 0.267449656841096], [46.94535839754016, 3.061150886255218, 0.28010390632372284], [47.34244739697892, 3.7381989820814967, 3.609370513882337], [49.94394036209188, 4.370623349465233, 0.9687904995837336], [46.943242360056345, 4.071312445816362, -0.33571538925407163], [48.465907161897135, 2.782728408491511, 0.5517297158609347], [48.39904608622256, 7.100386205727487, 0.6789461936290131], [47.75792657387379, 3.849542087711491, 0.716111010931512], [46.32285473321856, 4.318138233384337, 2.3654519707629684], [48.54071109349954, 6.418687119675102, 2.1189221009555443], [49.6416756640596, 5.372506003101895, 2.3914077210498466], [48.58317401349269, 3.546600751484519, 1.5994190865869697], [47.5660417325504, 5.696347080443585, 1.7113048612944146], [48.76835294872839, 3.100069669417705, 0.5343041790139214], [50.1674618713961, 4.333151124645069, 1.1948600427204765], [47.49771360793455, 4.933373915716743, -0.29078041389674536], [47.193594333945434, 3.685584820889771, 0.22695579907267216], [49.39907580870512, 3.3945009955147034, 0.25689935386026264], [47.94260871965684, 4.432217121448959, 1.0482318329302327], [48.74910844499726, 6.00532627526877, 2.9690251725827097], [48.02022534649612, 5.316626046441819, 0.13813667855729062], [48.48259708715878, 4.665539719119822, 0.35253392498015557], [48.895115862299555, 5.9375282808670224, 0.8599087705189531], [48.5471346487158, 3.720761035328935, 0.5931629704118593], [47.41677726636953, 3.3152856482220145, -0.4759901782054805], [47.26430764482847, 5.010999198090576, 1.4903789143547281], [49.899070817113454, 4.8910083299863905, 1.2029355928445005], [48.559791638655845, 5.607772681258428, 1.3361031757709798], [49.074841041382086, 7.344870279399122, 0.08141639900009945], [49.1541405708012, 3.8320857544568945, 0.8066900578899774], [49.66325264857756, 4.373253330048359, -0.24132182471518915], [47.948026350618655, 5.860816439435347, 1.2316212876953436], [48.4017381779663, 5.651891660516707, 1.4606283791249526], [48.7825875279714, 5.33572094015529, 0.481949178129894], [48.392014616596114, 4.388335226908784, 2.536485499282036], [48.598931999881266, 6.883185278521521, 1.080648683022126], [47.2503088478898, 5.020640648891338, 0.8498273834720692], [47.69836575830795, 3.8044816747663317, -0.9557043773536544], [48.8526189098436, 5.934832785355698, 0.8781149370728587], [48.61852062629046, 6.545492568384801, -0.03179013108786921], [46.613990692032, 4.383494588653563, 2.166569312735782], [47.57433710120103, 6.829605494718228, 0.5395538921378746], [50.36221852338735, 5.417908477310858, 0.349208933733542], [46.95449907532089, 4.072330763493974, 0.8669464039929496], [47.753087609058824, 5.407459566262084, 0.4474247117312772], [47.108010262888286, 3.023294706767488, 1.2875083612823968], [47.31145300673432, 3.878772260992674, 0.6802971593678186], [48.308097310663605, 3.9292064738300674, 0.9853632881350813], [47.77428030215931, 5.383873900215478, 1.078801743789026], [51.149195454651235, 4.655587599366997, 1.1814235065056569], [47.749252061804945, 3.8939337168029224, 0.0722037403020167], [47.536236883793514, 5.3790533981145945, 0.6544858699612396], [49.94301590397264, 4.01955649848373, 2.0505613968486633], [48.68216041301783, 6.846339472585291, -0.37102658998772453], [48.52499587933637, 5.081870467130237, 2.240559948791217], [48.08255096744095, 5.321560705398273, 2.375817979850069], [47.22897435907447, 6.083100707787601, 0.2378882740320878], [48.89595385646512, 5.26508847796784, -0.6709253863376647], [48.628715529453245, 5.099577724933914, 1.844988753074972], [48.86429703131403, 4.388439601644718, -0.4716252817543347], [47.22763422818339, 4.811101406724913, 0.49986081149533235], [46.62146367551885, 4.89958247219081, 1.2264675621636454], [47.74747057534767, 4.602144252191024, 0.9504005598640309], [47.5851467652455, 6.777704805790535, 1.5793165607461708], [48.42453172132168, 4.787653805229547, -0.7151299907806876], [48.63501442116132, 4.654831947349969, -1.3367383256967398], [46.068885035724406, 4.9162764401897086, 2.2013815828436787], [47.911287209414304, 4.776298059470153, 1.0957149487657543], [47.40936747153371, 4.334923811342375, -0.4871390684493757], [48.64050537087396, 3.789202275303521, 1.2138825905094093], [48.44506239151044, 5.430053978648957, 1.5699827542528166], [46.85406744064765, 5.44528322170474, -0.4870783119174267], [47.861208354497045, 5.104441348145799, 0.7482542035628198], [47.10051139172026, 5.612605910961391, 2.1227437204047703], [48.300570558160715, 4.728830528301277, 1.1506978297793848], [45.64716449908242, 4.380831846149173, 0.5715194188821792], [46.36504995032948, 4.967392088749261, 1.2865891500146878], [47.04474926221037, 5.539253593368261, -0.8625981285045885], [48.80458949700042, 3.7975984142666555, 0.6615373868483085], [47.94880743060728, 5.472010630277794, -0.10969338939007334], [49.89810809956247, 4.431210671785369, 0.702063605245848], [47.892347033363166, 5.761033141421246, 2.467084474176536], [46.781310603037035, 2.89219916778833, 0.7270647325340618], [47.798821051421235, 5.708189603447305, 0.3361886368595932], [48.293145246410326, 5.295348946698143, 1.8838921101968222], [47.614637847455256, 2.589950340832063, 1.7757799629796347], [47.90183765157952, 5.34641960525728, 0.878067897575437], [46.797548430241456, 4.0064358623014025, 1.0937775884771608], [45.81483980833682, 4.712780944653071, 0.5915405172542183], [47.83270064788207, 4.947670962377136, 1.6726943811972022], [46.88856667682508, 5.309002757658959, 1.4647702767658761], [49.93854773929276, 5.770688007857067, -0.3868192131960422], [48.248249247816474, 2.9970259948668017, 1.33698092191634], [49.087394802122375, 4.607479507399406, 1.276366823548008], [48.28061296891112, 4.372525410642075, 0.7486031307529346], [46.818241569690755, 6.070871445330497, 1.5604031081204996], [48.325170592493265, 5.619662546216721, 1.4820227207113719], [46.42601277650941, 3.8861253138349814, 1.8143089265885703], [47.53446733119282, 5.531291664120357, 1.6976439601253561]],\n",
       "                {&quot;blur&quot;: 15, &quot;maxZoom&quot;: 18, &quot;minOpacity&quot;: 0.5, &quot;radius&quot;: 25}\n",
       "            );\n",
       "        \n",
       "    \n",
       "            heat_map_e3ff3b091d888eb5cbabae0a6c7028ee.addTo(map_b03e1b365224aadf4cc13eab9c7f51a8);\n",
       "        \n",
       "&lt;/script&gt;\n",
       "&lt;/html&gt;\" style=\"position:absolute;width:100%;height:100%;left:0;top:0;border:none !important;\" allowfullscreen webkitallowfullscreen mozallowfullscreen></iframe></div></div>"
      ],
      "text/plain": [
       "<folium.folium.Map at 0x7f3698339880>"
      ]
     },
     "execution_count": 2,
     "metadata": {},
     "output_type": "execute_result"
    }
   ],
   "source": [
    "import folium\n",
    "from folium.plugins import HeatMap\n",
    "\n",
    "m = folium.Map([48.0, 5.0], zoom_start=6)\n",
    "\n",
    "HeatMap(data).add_to(m)\n",
    "\n",
    "m"
   ]
  }
 ],
 "metadata": {
  "jupytext": {
   "text_representation": {
    "extension": ".mystnb",
    "format_name": "myst"
   }
  },
  "language_info": {
   "codemirror_mode": {
    "name": "ipython",
    "version": 3
   },
   "file_extension": ".py",
   "mimetype": "text/x-python",
   "name": "python",
   "nbconvert_exporter": "python",
   "pygments_lexer": "ipython3",
   "version": "3.12.3"
  }
 },
 "nbformat": 4,
 "nbformat_minor": 5
}
