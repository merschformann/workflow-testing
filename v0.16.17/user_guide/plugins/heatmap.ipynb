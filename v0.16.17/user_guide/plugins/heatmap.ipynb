{
 "cells": [
  {
   "cell_type": "markdown",
   "id": "3b7c4b78",
   "metadata": {},
   "source": [
    "## Heatmap"
   ]
  },
  {
   "cell_type": "code",
   "execution_count": 1,
   "id": "769761a7",
   "metadata": {
    "execution": {
     "iopub.execute_input": "2024-06-01T00:51:05.885287Z",
     "iopub.status.busy": "2024-06-01T00:51:05.885127Z",
     "iopub.status.idle": "2024-06-01T00:51:05.944790Z",
     "shell.execute_reply": "2024-06-01T00:51:05.944321Z"
    }
   },
   "outputs": [],
   "source": [
    "import numpy as np\n",
    "\n",
    "data = (\n",
    "    np.random.normal(size=(100, 3)) * np.array([[1, 1, 1]]) + np.array([[48, 5, 1]])\n",
    ").tolist()"
   ]
  },
  {
   "cell_type": "code",
   "execution_count": 2,
   "id": "c5238b02",
   "metadata": {
    "execution": {
     "iopub.execute_input": "2024-06-01T00:51:05.948272Z",
     "iopub.status.busy": "2024-06-01T00:51:05.947397Z",
     "iopub.status.idle": "2024-06-01T00:51:06.385545Z",
     "shell.execute_reply": "2024-06-01T00:51:06.385002Z"
    }
   },
   "outputs": [
    {
     "data": {
      "text/html": [
       "<div style=\"width:100%;\"><div style=\"position:relative;width:100%;height:0;padding-bottom:60%;\"><span style=\"color:#565656\">Make this Notebook Trusted to load map: File -> Trust Notebook</span><iframe srcdoc=\"&lt;!DOCTYPE html&gt;\n",
       "&lt;html&gt;\n",
       "&lt;head&gt;\n",
       "    \n",
       "    &lt;meta http-equiv=&quot;content-type&quot; content=&quot;text/html; charset=UTF-8&quot; /&gt;\n",
       "    \n",
       "        &lt;script&gt;\n",
       "            L_NO_TOUCH = false;\n",
       "            L_DISABLE_3D = false;\n",
       "        &lt;/script&gt;\n",
       "    \n",
       "    &lt;style&gt;html, body {width: 100%;height: 100%;margin: 0;padding: 0;}&lt;/style&gt;\n",
       "    &lt;style&gt;#map {position:absolute;top:0;bottom:0;right:0;left:0;}&lt;/style&gt;\n",
       "    &lt;script src=&quot;https://cdn.jsdelivr.net/npm/leaflet@1.9.3/dist/leaflet.js&quot;&gt;&lt;/script&gt;\n",
       "    &lt;script src=&quot;https://code.jquery.com/jquery-3.7.1.min.js&quot;&gt;&lt;/script&gt;\n",
       "    &lt;script src=&quot;https://cdn.jsdelivr.net/npm/bootstrap@5.2.2/dist/js/bootstrap.bundle.min.js&quot;&gt;&lt;/script&gt;\n",
       "    &lt;script src=&quot;https://cdnjs.cloudflare.com/ajax/libs/Leaflet.awesome-markers/2.0.2/leaflet.awesome-markers.js&quot;&gt;&lt;/script&gt;\n",
       "    &lt;link rel=&quot;stylesheet&quot; href=&quot;https://cdn.jsdelivr.net/npm/leaflet@1.9.3/dist/leaflet.css&quot;/&gt;\n",
       "    &lt;link rel=&quot;stylesheet&quot; href=&quot;https://cdn.jsdelivr.net/npm/bootstrap@5.2.2/dist/css/bootstrap.min.css&quot;/&gt;\n",
       "    &lt;link rel=&quot;stylesheet&quot; href=&quot;https://netdna.bootstrapcdn.com/bootstrap/3.0.0/css/bootstrap-glyphicons.css&quot;/&gt;\n",
       "    &lt;link rel=&quot;stylesheet&quot; href=&quot;https://cdn.jsdelivr.net/npm/@fortawesome/fontawesome-free@6.2.0/css/all.min.css&quot;/&gt;\n",
       "    &lt;link rel=&quot;stylesheet&quot; href=&quot;https://cdnjs.cloudflare.com/ajax/libs/Leaflet.awesome-markers/2.0.2/leaflet.awesome-markers.css&quot;/&gt;\n",
       "    &lt;link rel=&quot;stylesheet&quot; href=&quot;https://cdn.jsdelivr.net/gh/python-visualization/folium/folium/templates/leaflet.awesome.rotate.min.css&quot;/&gt;\n",
       "    \n",
       "            &lt;meta name=&quot;viewport&quot; content=&quot;width=device-width,\n",
       "                initial-scale=1.0, maximum-scale=1.0, user-scalable=no&quot; /&gt;\n",
       "            &lt;style&gt;\n",
       "                #map_c414b6d19cedadaa0fe19d28c93e7edd {\n",
       "                    position: relative;\n",
       "                    width: 100.0%;\n",
       "                    height: 100.0%;\n",
       "                    left: 0.0%;\n",
       "                    top: 0.0%;\n",
       "                }\n",
       "                .leaflet-container { font-size: 1rem; }\n",
       "            &lt;/style&gt;\n",
       "        \n",
       "    &lt;script src=&quot;https://cdn.jsdelivr.net/gh/python-visualization/folium@main/folium/templates/leaflet_heat.min.js&quot;&gt;&lt;/script&gt;\n",
       "&lt;/head&gt;\n",
       "&lt;body&gt;\n",
       "    \n",
       "    \n",
       "            &lt;div class=&quot;folium-map&quot; id=&quot;map_c414b6d19cedadaa0fe19d28c93e7edd&quot; &gt;&lt;/div&gt;\n",
       "        \n",
       "&lt;/body&gt;\n",
       "&lt;script&gt;\n",
       "    \n",
       "    \n",
       "            var map_c414b6d19cedadaa0fe19d28c93e7edd = L.map(\n",
       "                &quot;map_c414b6d19cedadaa0fe19d28c93e7edd&quot;,\n",
       "                {\n",
       "                    center: [48.0, 5.0],\n",
       "                    crs: L.CRS.EPSG3857,\n",
       "                    zoom: 6,\n",
       "                    zoomControl: true,\n",
       "                    preferCanvas: false,\n",
       "                }\n",
       "            );\n",
       "\n",
       "            \n",
       "\n",
       "        \n",
       "    \n",
       "            var tile_layer_a29bbfa7a735fe5f2cbe9fcc9d5b0e8e = L.tileLayer(\n",
       "                &quot;https://tile.openstreetmap.org/{z}/{x}/{y}.png&quot;,\n",
       "                {&quot;attribution&quot;: &quot;\\u0026copy; \\u003ca href=\\&quot;https://www.openstreetmap.org/copyright\\&quot;\\u003eOpenStreetMap\\u003c/a\\u003e contributors&quot;, &quot;detectRetina&quot;: false, &quot;maxNativeZoom&quot;: 19, &quot;maxZoom&quot;: 19, &quot;minZoom&quot;: 0, &quot;noWrap&quot;: false, &quot;opacity&quot;: 1, &quot;subdomains&quot;: &quot;abc&quot;, &quot;tms&quot;: false}\n",
       "            );\n",
       "        \n",
       "    \n",
       "            tile_layer_a29bbfa7a735fe5f2cbe9fcc9d5b0e8e.addTo(map_c414b6d19cedadaa0fe19d28c93e7edd);\n",
       "        \n",
       "    \n",
       "            var heat_map_698d569a0cd0b5f5277f53c48d0345ee = L.heatLayer(\n",
       "                [[47.274409661200096, 4.0198138467400035, 0.9349600756131035], [47.083849254656144, 6.69383167631489, 0.8885678626870296], [48.12907300980499, 5.29608011432432, 1.4355948332137574], [48.35919146901547, 7.208356853289189, 1.1642173320352227], [48.76554894838955, 5.288552374471643, 1.4817052309756944], [46.881415434157695, 5.953268497332269, 2.2597032804176758], [47.91916611689502, 6.34298450849575, 1.1116882040838274], [48.48727330574774, 4.96892474330236, 1.1269206825366849], [48.96954531427255, 4.850449454108248, -0.6829902207606184], [47.753737034227, 5.794789131416614, 0.37754011252554276], [48.37361049720028, 6.856763710638216, 0.8553165191781733], [47.74392131300719, 5.149675790114888, 0.1427357540166575], [48.52440601725619, 4.84441785663376, -0.24837029820774936], [47.882146307671654, 4.732657805442812, 0.823218236828352], [49.981151099864604, 4.224543556962797, 0.8289825015555767], [47.18800262544025, 5.057500629751817, -0.30348072492753664], [47.125010086742996, 5.24711236013347, 1.3077960766834984], [47.46502344095816, 4.3850827929953455, -0.15222642212369086], [46.62593386351294, 5.73054932177631, 0.5456710880439959], [49.504102542696955, 4.182301893273405, 1.2441713913106969], [48.79085130391951, 6.359811505210811, 1.5485347313889275], [46.611369497498565, 3.7329248811840072, 2.3385815038367666], [47.77485237104402, 5.876784017163653, 0.12699514665099854], [47.515204879657496, 5.222597199438864, 3.2375527501907877], [47.3925254598126, 6.149317426660405, 0.7877429602253703], [47.68163052964642, 3.907585459170181, 0.3657620323850186], [48.60076583833398, 4.27124845994909, 0.0772938033523084], [49.0448487177003, 7.327370048592529, 2.2896685153673797], [48.77406244821929, 4.247708192785548, 0.7013555537327096], [46.76382935276243, 4.812501347660338, 0.9098924390337909], [48.51427532224775, 5.541874986614538, 2.2168109059805277], [47.11636082516092, 6.139840309491323, 1.7746131158553973], [49.56435498166669, 3.62264787700793, 1.616170791391867], [49.3392804987621, 5.060287643575956, 1.1986683207112097], [47.87216198257172, 5.24026374706421, 2.143214821830263], [50.182461015926535, 4.581775611927744, 0.8042196664819667], [48.53949250797886, 4.844913707684395, -0.10199042082112197], [47.18102050867813, 4.507578051709453, 0.7512459290386302], [47.901817958619255, 4.8360353861910985, 4.180429598264054], [48.480020069743915, 4.040972988577763, 0.4141604158967963], [48.22511159279505, 2.5014028076576147, 0.6114378580358619], [49.24167867676783, 4.95701965162835, 0.32212063454140316], [49.6785408236179, 3.8251203475062354, 0.6709827485743076], [47.559310094909364, 6.523516748551752, 0.5505849823268961], [48.43613936229233, 5.0305068007640985, 2.6049923453945767], [47.17732618684561, 5.1942842372808045, 1.790471762358053], [47.7719192951338, 6.126885188936553, -0.3465464671977587], [45.61069921845895, 3.6180821713150473, 1.5000077012815332], [48.31496475017984, 4.2217924143930725, 2.433712585399868], [48.22957027386055, 4.66769383320573, 1.4577094285372891], [49.17377204142972, 4.3550466185428505, 0.7368521262943099], [49.87960754708611, 4.727614432040123, 1.6717562689132373], [46.31421770173545, 7.071137448027924, -0.7061622657966204], [49.975551242022746, 6.282484111638112, -0.1862308278597795], [47.15261129819005, 5.103719789553421, 1.8682727059047917], [48.067408912830736, 5.097250673099658, 0.8331399820416725], [46.700269728719874, 5.754545583080004, 1.6714253779741433], [48.60920992897856, 4.53953046823159, -1.4549284740347481], [47.92400468034151, 6.757008062041415, 0.8586600442548264], [46.342021683735744, 4.942030078728839, -0.690220294094303], [48.59796215114854, 7.197827088845996, 0.8830200471139009], [47.90854887632161, 6.774118027030752, 0.6905915414011653], [46.4251785797396, 4.344283694578238, 0.1859286460182169], [47.82739135829573, 5.4346584714462125, 1.237941171347925], [47.11035808785187, 5.731086455495731, -0.23311441421698542], [48.38329851632626, 4.751415554221155, 1.1557743361188033], [48.232134959130235, 4.813813740401401, 0.9020194353426729], [48.319879845682884, 5.127063197786946, 1.4708230240397935], [47.708240259941505, 5.941858867135528, 1.1423968215739544], [48.572203414319794, 5.8991005250406205, 0.4843098203136398], [48.88490282441452, 4.309653717620293, -0.36929745878628717], [47.69140013079465, 6.037942181607357, 1.6078038186554384], [46.81509815131558, 5.2501383916385205, 1.815714993119705], [47.6335726163552, 4.7806920248147815, -0.7939474928490815], [47.32012674847895, 6.080309765886122, 0.6259404092349228], [47.305213221442834, 5.248137821357485, 1.2162117317330299], [49.7480075919539, 5.954262604801629, 2.4540535265348433], [49.12916780851511, 5.771057530083656, -1.062149415064972], [49.146627940499506, 7.461682214792896, 0.8928852933081397], [48.197893850049745, 4.688558578575927, 1.6844073627647878], [48.642808026913244, 3.290978818321119, -1.3510108287612694], [47.68815269381656, 5.120057103859633, 1.6172223719993664], [47.981834215449354, 4.814146544466623, 2.672961286148432], [48.862321514928475, 3.544732886384522, 1.454937468121934], [46.378897362273115, 5.3943862172913235, 2.455282024476384], [45.626506294631646, 5.184741835113297, 1.997184479588582], [48.65245387431679, 5.282752000911792, 2.0280140819320875], [48.1605246212509, 4.336768634971469, 1.8641723270751724], [48.89925242505092, 5.4230722550792025, 1.9400210501872004], [45.83665494018648, 5.5135137125437765, 0.25686840623001006], [48.72034846147771, 4.84421863349442, 0.8587293606225778], [49.07541579095588, 4.531082905540778, 0.3163072936332142], [47.79249352832406, 3.6104940735876516, 0.8228488728399328], [47.3202437021134, 6.6595054357370795, 1.5294171001396335], [49.32030721990781, 6.5529120226026265, -0.6743846001223675], [46.37895653249967, 5.230424331928759, 1.3577242453461689], [48.57138709948574, 3.4098526930105204, 1.7223467625207862], [48.63031304729743, 4.353644225683857, 0.744501243180226], [48.96726503554953, 6.926723849445972, 2.3083975901334397], [49.50626405364767, 6.921174165502294, 0.3484445568663538]],\n",
       "                {&quot;blur&quot;: 15, &quot;maxZoom&quot;: 18, &quot;minOpacity&quot;: 0.5, &quot;radius&quot;: 25}\n",
       "            );\n",
       "        \n",
       "    \n",
       "            heat_map_698d569a0cd0b5f5277f53c48d0345ee.addTo(map_c414b6d19cedadaa0fe19d28c93e7edd);\n",
       "        \n",
       "&lt;/script&gt;\n",
       "&lt;/html&gt;\" style=\"position:absolute;width:100%;height:100%;left:0;top:0;border:none !important;\" allowfullscreen webkitallowfullscreen mozallowfullscreen></iframe></div></div>"
      ],
      "text/plain": [
       "<folium.folium.Map at 0x7f971aa28680>"
      ]
     },
     "execution_count": 2,
     "metadata": {},
     "output_type": "execute_result"
    }
   ],
   "source": [
    "import folium\n",
    "from folium.plugins import HeatMap\n",
    "\n",
    "m = folium.Map([48.0, 5.0], zoom_start=6)\n",
    "\n",
    "HeatMap(data).add_to(m)\n",
    "\n",
    "m"
   ]
  }
 ],
 "metadata": {
  "jupytext": {
   "text_representation": {
    "extension": ".mystnb",
    "format_name": "myst"
   }
  },
  "language_info": {
   "codemirror_mode": {
    "name": "ipython",
    "version": 3
   },
   "file_extension": ".py",
   "mimetype": "text/x-python",
   "name": "python",
   "nbconvert_exporter": "python",
   "pygments_lexer": "ipython3",
   "version": "3.12.3"
  }
 },
 "nbformat": 4,
 "nbformat_minor": 5
}
