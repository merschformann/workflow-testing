{
 "cells": [
  {
   "cell_type": "code",
   "execution_count": 1,
   "id": "afc1fd1e",
   "metadata": {
    "execution": {
     "iopub.execute_input": "2024-05-25T00:08:57.373850Z",
     "iopub.status.busy": "2024-05-25T00:08:57.373429Z",
     "iopub.status.idle": "2024-05-25T00:08:57.866921Z",
     "shell.execute_reply": "2024-05-25T00:08:57.866354Z"
    },
    "nbsphinx": "hidden"
   },
   "outputs": [],
   "source": [
    "import folium\n",
    "import folium.plugins"
   ]
  },
  {
   "cell_type": "markdown",
   "id": "a64ed3dc",
   "metadata": {},
   "source": [
    "## SemiCircle\n",
    "\n",
    "This can be used to display a semicircle or sector on a map. Whilst called SemiCircle it is not limited to 180 degree angles and can be used to display a sector of any angle.\n",
    "\n",
    "The semicircle is defined with a location (the central point, if it was a full circle), a radius and will either have a direction and an arc **or** a start angle and a stop angle."
   ]
  },
  {
   "cell_type": "code",
   "execution_count": 2,
   "id": "f00e19d5",
   "metadata": {
    "execution": {
     "iopub.execute_input": "2024-05-25T00:08:57.869664Z",
     "iopub.status.busy": "2024-05-25T00:08:57.869078Z",
     "iopub.status.idle": "2024-05-25T00:08:57.882975Z",
     "shell.execute_reply": "2024-05-25T00:08:57.882565Z"
    }
   },
   "outputs": [
    {
     "data": {
      "text/html": [
       "<div style=\"width:100%;\"><div style=\"position:relative;width:100%;height:0;padding-bottom:60%;\"><span style=\"color:#565656\">Make this Notebook Trusted to load map: File -> Trust Notebook</span><iframe srcdoc=\"&lt;!DOCTYPE html&gt;\n",
       "&lt;html&gt;\n",
       "&lt;head&gt;\n",
       "    \n",
       "    &lt;meta http-equiv=&quot;content-type&quot; content=&quot;text/html; charset=UTF-8&quot; /&gt;\n",
       "    \n",
       "        &lt;script&gt;\n",
       "            L_NO_TOUCH = false;\n",
       "            L_DISABLE_3D = false;\n",
       "        &lt;/script&gt;\n",
       "    \n",
       "    &lt;style&gt;html, body {width: 100%;height: 100%;margin: 0;padding: 0;}&lt;/style&gt;\n",
       "    &lt;style&gt;#map {position:absolute;top:0;bottom:0;right:0;left:0;}&lt;/style&gt;\n",
       "    &lt;script src=&quot;https://cdn.jsdelivr.net/npm/leaflet@1.9.3/dist/leaflet.js&quot;&gt;&lt;/script&gt;\n",
       "    &lt;script src=&quot;https://code.jquery.com/jquery-3.7.1.min.js&quot;&gt;&lt;/script&gt;\n",
       "    &lt;script src=&quot;https://cdn.jsdelivr.net/npm/bootstrap@5.2.2/dist/js/bootstrap.bundle.min.js&quot;&gt;&lt;/script&gt;\n",
       "    &lt;script src=&quot;https://cdnjs.cloudflare.com/ajax/libs/Leaflet.awesome-markers/2.0.2/leaflet.awesome-markers.js&quot;&gt;&lt;/script&gt;\n",
       "    &lt;link rel=&quot;stylesheet&quot; href=&quot;https://cdn.jsdelivr.net/npm/leaflet@1.9.3/dist/leaflet.css&quot;/&gt;\n",
       "    &lt;link rel=&quot;stylesheet&quot; href=&quot;https://cdn.jsdelivr.net/npm/bootstrap@5.2.2/dist/css/bootstrap.min.css&quot;/&gt;\n",
       "    &lt;link rel=&quot;stylesheet&quot; href=&quot;https://netdna.bootstrapcdn.com/bootstrap/3.0.0/css/bootstrap-glyphicons.css&quot;/&gt;\n",
       "    &lt;link rel=&quot;stylesheet&quot; href=&quot;https://cdn.jsdelivr.net/npm/@fortawesome/fontawesome-free@6.2.0/css/all.min.css&quot;/&gt;\n",
       "    &lt;link rel=&quot;stylesheet&quot; href=&quot;https://cdnjs.cloudflare.com/ajax/libs/Leaflet.awesome-markers/2.0.2/leaflet.awesome-markers.css&quot;/&gt;\n",
       "    &lt;link rel=&quot;stylesheet&quot; href=&quot;https://cdn.jsdelivr.net/gh/python-visualization/folium/folium/templates/leaflet.awesome.rotate.min.css&quot;/&gt;\n",
       "    \n",
       "            &lt;meta name=&quot;viewport&quot; content=&quot;width=device-width,\n",
       "                initial-scale=1.0, maximum-scale=1.0, user-scalable=no&quot; /&gt;\n",
       "            &lt;style&gt;\n",
       "                #map_bb905bd5fa7b1bfcca87a897311c4e6c {\n",
       "                    position: relative;\n",
       "                    width: 100.0%;\n",
       "                    height: 100.0%;\n",
       "                    left: 0.0%;\n",
       "                    top: 0.0%;\n",
       "                }\n",
       "                .leaflet-container { font-size: 1rem; }\n",
       "            &lt;/style&gt;\n",
       "        \n",
       "    &lt;script src=&quot;https://cdn.jsdelivr.net/npm/leaflet-semicircle@2.0.4/Semicircle.min.js&quot;&gt;&lt;/script&gt;\n",
       "&lt;/head&gt;\n",
       "&lt;body&gt;\n",
       "    \n",
       "    \n",
       "            &lt;div class=&quot;folium-map&quot; id=&quot;map_bb905bd5fa7b1bfcca87a897311c4e6c&quot; &gt;&lt;/div&gt;\n",
       "        \n",
       "&lt;/body&gt;\n",
       "&lt;script&gt;\n",
       "    \n",
       "    \n",
       "            var map_bb905bd5fa7b1bfcca87a897311c4e6c = L.map(\n",
       "                &quot;map_bb905bd5fa7b1bfcca87a897311c4e6c&quot;,\n",
       "                {\n",
       "                    center: [45.0, 3.0],\n",
       "                    crs: L.CRS.EPSG3857,\n",
       "                    zoom: 5,\n",
       "                    zoomControl: true,\n",
       "                    preferCanvas: false,\n",
       "                }\n",
       "            );\n",
       "\n",
       "            \n",
       "\n",
       "        \n",
       "    \n",
       "            var tile_layer_4a4bec7e57b3ad094a27b5aa5541889f = L.tileLayer(\n",
       "                &quot;https://tile.openstreetmap.org/{z}/{x}/{y}.png&quot;,\n",
       "                {&quot;attribution&quot;: &quot;\\u0026copy; \\u003ca href=\\&quot;https://www.openstreetmap.org/copyright\\&quot;\\u003eOpenStreetMap\\u003c/a\\u003e contributors&quot;, &quot;detectRetina&quot;: false, &quot;maxNativeZoom&quot;: 19, &quot;maxZoom&quot;: 19, &quot;minZoom&quot;: 0, &quot;noWrap&quot;: false, &quot;opacity&quot;: 1, &quot;subdomains&quot;: &quot;abc&quot;, &quot;tms&quot;: false}\n",
       "            );\n",
       "        \n",
       "    \n",
       "            tile_layer_4a4bec7e57b3ad094a27b5aa5541889f.addTo(map_bb905bd5fa7b1bfcca87a897311c4e6c);\n",
       "        \n",
       "    \n",
       "            var semi_circle_9caf26a1ad4ad6f499def7f34ba35119 = L.semiCircle(\n",
       "                [45.0, 3.0],\n",
       "                {&quot;bubblingMouseEvents&quot;: true, &quot;color&quot;: &quot;green&quot;, &quot;dashArray&quot;: null, &quot;dashOffset&quot;: null, &quot;fill&quot;: true, &quot;fillColor&quot;: &quot;green&quot;, &quot;fillOpacity&quot;: 0.2, &quot;fillRule&quot;: &quot;evenodd&quot;, &quot;lineCap&quot;: &quot;round&quot;, &quot;lineJoin&quot;: &quot;round&quot;, &quot;opacity&quot;: 0, &quot;radius&quot;: 400000, &quot;startAngle&quot;: 50, &quot;stopAngle&quot;: 200, &quot;stroke&quot;: true, &quot;weight&quot;: 3}\n",
       "                )\n",
       "                .addTo(map_bb905bd5fa7b1bfcca87a897311c4e6c);\n",
       "        \n",
       "    \n",
       "        var popup_62f39167348ff70d2f48ffe7f106f982 = L.popup({&quot;maxWidth&quot;: &quot;100%&quot;});\n",
       "\n",
       "        \n",
       "            \n",
       "                var html_8e913ccf2884746edd12329186170eb5 = $(`&lt;div id=&quot;html_8e913ccf2884746edd12329186170eb5&quot; style=&quot;width: 100.0%; height: 100.0%;&quot;&gt;start angle - 50 degrees, stop angle - 200 degrees&lt;/div&gt;`)[0];\n",
       "                popup_62f39167348ff70d2f48ffe7f106f982.setContent(html_8e913ccf2884746edd12329186170eb5);\n",
       "            \n",
       "        \n",
       "\n",
       "        semi_circle_9caf26a1ad4ad6f499def7f34ba35119.bindPopup(popup_62f39167348ff70d2f48ffe7f106f982)\n",
       "        ;\n",
       "\n",
       "        \n",
       "    \n",
       "    \n",
       "            var semi_circle_89874b59899f26b7e1702fc9233c2dd3 = L.semiCircle(\n",
       "                [46.5, 9.5],\n",
       "                {&quot;bubblingMouseEvents&quot;: true, &quot;color&quot;: &quot;red&quot;, &quot;dashArray&quot;: null, &quot;dashOffset&quot;: null, &quot;fill&quot;: true, &quot;fillColor&quot;: &quot;red&quot;, &quot;fillOpacity&quot;: 0.2, &quot;fillRule&quot;: &quot;evenodd&quot;, &quot;lineCap&quot;: &quot;round&quot;, &quot;lineJoin&quot;: &quot;round&quot;, &quot;opacity&quot;: 0, &quot;radius&quot;: 200000, &quot;stroke&quot;: true, &quot;weight&quot;: 3}\n",
       "                )\n",
       "                    .setDirection(360, 90)\n",
       "                .addTo(map_bb905bd5fa7b1bfcca87a897311c4e6c);\n",
       "        \n",
       "    \n",
       "        var popup_f78b1f7c9c2a6a55db5dc978bea7b673 = L.popup({&quot;maxWidth&quot;: &quot;100%&quot;});\n",
       "\n",
       "        \n",
       "            \n",
       "                var html_9c0bd352eb30323085c62cc999c4fbaf = $(`&lt;div id=&quot;html_9c0bd352eb30323085c62cc999c4fbaf&quot; style=&quot;width: 100.0%; height: 100.0%;&quot;&gt;Direction - 0 degrees, arc 90 degrees&lt;/div&gt;`)[0];\n",
       "                popup_f78b1f7c9c2a6a55db5dc978bea7b673.setContent(html_9c0bd352eb30323085c62cc999c4fbaf);\n",
       "            \n",
       "        \n",
       "\n",
       "        semi_circle_89874b59899f26b7e1702fc9233c2dd3.bindPopup(popup_f78b1f7c9c2a6a55db5dc978bea7b673)\n",
       "        ;\n",
       "\n",
       "        \n",
       "    \n",
       "&lt;/script&gt;\n",
       "&lt;/html&gt;\" style=\"position:absolute;width:100%;height:100%;left:0;top:0;border:none !important;\" allowfullscreen webkitallowfullscreen mozallowfullscreen></iframe></div></div>"
      ],
      "text/plain": [
       "<folium.folium.Map at 0x7f91e04d2ba0>"
      ]
     },
     "execution_count": 2,
     "metadata": {},
     "output_type": "execute_result"
    }
   ],
   "source": [
    "m = folium.Map([45, 3], zoom_start=5)\n",
    "\n",
    "folium.plugins.SemiCircle(\n",
    "    (45, 3),\n",
    "    radius=400000,\n",
    "    start_angle=50,\n",
    "    stop_angle=200,\n",
    "    color=\"green\",\n",
    "    fill_color=\"green\",\n",
    "    opacity=0,\n",
    "    popup=\"start angle - 50 degrees, stop angle - 200 degrees\",\n",
    ").add_to(m)\n",
    "\n",
    "folium.plugins.SemiCircle(\n",
    "    (46.5, 9.5),\n",
    "    radius=200000,\n",
    "    direction=360,\n",
    "    arc=90,\n",
    "    color=\"red\",\n",
    "    fill_color=\"red\",\n",
    "    opacity=0,\n",
    "    popup=\"Direction - 0 degrees, arc 90 degrees\",\n",
    ").add_to(m)\n",
    "\n",
    "m"
   ]
  }
 ],
 "metadata": {
  "jupytext": {
   "text_representation": {
    "extension": ".mystnb",
    "format_name": "myst"
   }
  },
  "language_info": {
   "codemirror_mode": {
    "name": "ipython",
    "version": 3
   },
   "file_extension": ".py",
   "mimetype": "text/x-python",
   "name": "python",
   "nbconvert_exporter": "python",
   "pygments_lexer": "ipython3",
   "version": "3.12.3"
  }
 },
 "nbformat": 4,
 "nbformat_minor": 5
}
